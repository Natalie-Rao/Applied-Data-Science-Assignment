{
 "cells": [
  {
   "cell_type": "markdown",
   "metadata": {
    "colab_type": "text",
    "id": "ap5mOugvWOkT"
   },
   "source": [
    "# Assignment 2"
   ]
  },
  {
   "cell_type": "markdown",
   "metadata": {
    "colab_type": "text",
    "id": "qRrvDm-5kgyZ"
   },
   "source": [
    "## Problem 1:Linear Regression"
   ]
  },
  {
   "cell_type": "markdown",
   "metadata": {
    "colab_type": "text",
    "id": "bAnnk0MWWZpc"
   },
   "source": [
    "### Task 1:Load the dataset named assignment2_part1.csv \n",
    "\n"
   ]
  },
  {
   "cell_type": "code",
   "execution_count": 96,
   "metadata": {},
   "outputs": [],
   "source": [
    "import pandas as pd\n",
    "import numpy as np\n",
    "import statsmodels.formula.api as smf\n",
    "import statsmodels.api as sm\n",
    "from sklearn import linear_model\n",
    "import matplotlib.pylab as plt\n",
    "import math\n",
    "import seaborn as sbn\n",
    "%matplotlib inline"
   ]
  },
  {
   "cell_type": "code",
   "execution_count": 97,
   "metadata": {
    "colab": {},
    "colab_type": "code",
    "id": "Pl7FbbdFWMDj"
   },
   "outputs": [
    {
     "data": {
      "text/html": [
       "<div>\n",
       "<style scoped>\n",
       "    .dataframe tbody tr th:only-of-type {\n",
       "        vertical-align: middle;\n",
       "    }\n",
       "\n",
       "    .dataframe tbody tr th {\n",
       "        vertical-align: top;\n",
       "    }\n",
       "\n",
       "    .dataframe thead th {\n",
       "        text-align: right;\n",
       "    }\n",
       "</style>\n",
       "<table border=\"1\" class=\"dataframe\">\n",
       "  <thead>\n",
       "    <tr style=\"text-align: right;\">\n",
       "      <th></th>\n",
       "      <th>Unnamed: 0</th>\n",
       "      <th>x</th>\n",
       "      <th>y</th>\n",
       "    </tr>\n",
       "  </thead>\n",
       "  <tbody>\n",
       "    <tr>\n",
       "      <th>0</th>\n",
       "      <td>0</td>\n",
       "      <td>-15.0</td>\n",
       "      <td>-2156.994097</td>\n",
       "    </tr>\n",
       "    <tr>\n",
       "      <th>1</th>\n",
       "      <td>1</td>\n",
       "      <td>-14.5</td>\n",
       "      <td>-1956.523904</td>\n",
       "    </tr>\n",
       "    <tr>\n",
       "      <th>2</th>\n",
       "      <td>2</td>\n",
       "      <td>-14.0</td>\n",
       "      <td>-1778.151738</td>\n",
       "    </tr>\n",
       "    <tr>\n",
       "      <th>3</th>\n",
       "      <td>3</td>\n",
       "      <td>-13.5</td>\n",
       "      <td>-1610.924846</td>\n",
       "    </tr>\n",
       "    <tr>\n",
       "      <th>4</th>\n",
       "      <td>4</td>\n",
       "      <td>-13.0</td>\n",
       "      <td>-1456.176307</td>\n",
       "    </tr>\n",
       "  </tbody>\n",
       "</table>\n",
       "</div>"
      ],
      "text/plain": [
       "   Unnamed: 0     x            y\n",
       "0           0 -15.0 -2156.994097\n",
       "1           1 -14.5 -1956.523904\n",
       "2           2 -14.0 -1778.151738\n",
       "3           3 -13.5 -1610.924846\n",
       "4           4 -13.0 -1456.176307"
      ]
     },
     "execution_count": 97,
     "metadata": {},
     "output_type": "execute_result"
    }
   ],
   "source": [
    "import pandas as pd\n",
    "data = pd.read_csv(\"assignment2_part1.csv\")\n",
    "data.head()"
   ]
  },
  {
   "cell_type": "code",
   "execution_count": 98,
   "metadata": {},
   "outputs": [
    {
     "data": {
      "text/plain": [
       "(80, 3)"
      ]
     },
     "execution_count": 98,
     "metadata": {},
     "output_type": "execute_result"
    }
   ],
   "source": [
    "data.shape"
   ]
  },
  {
   "cell_type": "markdown",
   "metadata": {
    "colab_type": "text",
    "id": "WFOu_9ecWswp"
   },
   "source": [
    "### Task 2:Split this given dataset into training set,testing set and validation set (80% data as training set,10% as testing and other 10% as validation)"
   ]
  },
  {
   "cell_type": "code",
   "execution_count": 99,
   "metadata": {},
   "outputs": [],
   "source": [
    "#Your code here\n",
    "#option 1\n",
    "from sklearn.model_selection import train_test_split\n",
    "X=data[['x']]\n",
    "y=data[['y']]\n",
    "\n",
    "X_train, X_test, y_train, y_test = train_test_split(X, y, test_size=0.1, random_state=1)\n",
    "X_train, X_val, y_train, y_val = train_test_split(X_train, y_train, test_size=(0.1/0.9), random_state=1)"
   ]
  },
  {
   "cell_type": "code",
   "execution_count": 100,
   "metadata": {},
   "outputs": [],
   "source": [
    "data1=pd.merge(X_train,y_train,left_index=True,right_index=True) #Train data\n",
    "data1_2=pd.merge(X_val,y_val,left_index=True,right_index=True) #Validation data\n",
    "data1_3=pd.merge(X_test,y_test,left_index=True,right_index=True) #Test data"
   ]
  },
  {
   "cell_type": "code",
   "execution_count": 101,
   "metadata": {},
   "outputs": [
    {
     "name": "stdout",
     "output_type": "stream",
     "text": [
      "(64, 2)\n",
      "(8, 2)\n",
      "(8, 2)\n"
     ]
    }
   ],
   "source": [
    "print data1.shape\n",
    "print data1_2.shape\n",
    "print data1_3.shape"
   ]
  },
  {
   "cell_type": "markdown",
   "metadata": {
    "colab_type": "text",
    "id": "Y1aZbo4EW_cz"
   },
   "source": [
    "### Task 3: Visualize the data and try to fit a linear (regression) model to it and comment whether you think this data is suitable to fit a linear model."
   ]
  },
  {
   "cell_type": "code",
   "execution_count": 102,
   "metadata": {
    "colab": {},
    "colab_type": "code",
    "id": "NVK5GP7gXOYf"
   },
   "outputs": [
    {
     "data": {
      "text/plain": [
       "<matplotlib.axes._subplots.AxesSubplot at 0x1c27541f50>"
      ]
     },
     "execution_count": 102,
     "metadata": {},
     "output_type": "execute_result"
    },
    {
     "data": {
      "image/png": "[encoded data removed]",
      "text/plain": [
       "<Figure size 432x288 with 1 Axes>"
      ]
     },
     "metadata": {
      "needs_background": "light"
     },
     "output_type": "display_data"
    }
   ],
   "source": [
    "#Your code here\n",
    "data1.plot(x='x',y='y',kind='scatter')"
   ]
  },
  {
   "cell_type": "markdown",
   "metadata": {},
   "source": [
    "It does not fit a linear model from the above fig."
   ]
  },
  {
   "cell_type": "code",
   "execution_count": 103,
   "metadata": {},
   "outputs": [
    {
     "name": "stdout",
     "output_type": "stream",
     "text": [
      "                            OLS Regression Results                            \n",
      "==============================================================================\n",
      "Dep. Variable:                      y   R-squared:                       0.773\n",
      "Model:                            OLS   Adj. R-squared:                  0.769\n",
      "Method:                 Least Squares   F-statistic:                     211.3\n",
      "Date:                Sat, 09 Nov 2019   Prob (F-statistic):           1.22e-21\n",
      "Time:                        14:49:48   Log-Likelihood:                -520.44\n",
      "No. Observations:                  64   AIC:                             1045.\n",
      "Df Residuals:                      62   BIC:                             1049.\n",
      "Df Model:                           1                                         \n",
      "Covariance Type:            nonrobust                                         \n",
      "==============================================================================\n",
      "                 coef    std err          t      P>|t|      [0.025      0.975]\n",
      "------------------------------------------------------------------------------\n",
      "Intercept     57.6712    109.806      0.525      0.601    -161.829     277.171\n",
      "x            131.2983      9.033     14.535      0.000     113.241     149.355\n",
      "==============================================================================\n",
      "Omnibus:                       10.014   Durbin-Watson:                   2.017\n",
      "Prob(Omnibus):                  0.007   Jarque-Bera (JB):                9.717\n",
      "Skew:                           0.865   Prob(JB):                      0.00776\n",
      "Kurtosis:                       3.807   Cond. No.                         12.8\n",
      "==============================================================================\n",
      "\n",
      "Warnings:\n",
      "[1] Standard Errors assume that the covariance matrix of the errors is correctly specified.\n"
     ]
    }
   ],
   "source": [
    "lm = smf.ols(formula='y~x', data = data1).fit()\n",
    "print(lm.summary())"
   ]
  },
  {
   "cell_type": "markdown",
   "metadata": {
    "colab_type": "text",
    "id": "cd5qg4sUXS2h"
   },
   "source": [
    "### Task 4: Visualize the regression fit"
   ]
  },
  {
   "cell_type": "code",
   "execution_count": 104,
   "metadata": {
    "colab": {},
    "colab_type": "code",
    "id": "WTMTt12zXSda"
   },
   "outputs": [
    {
     "data": {
      "text/plain": [
       "[<matplotlib.lines.Line2D at 0x1c27da1790>]"
      ]
     },
     "execution_count": 104,
     "metadata": {},
     "output_type": "execute_result"
    },
    {
     "data": {
      "image/png": "[encoded data removed]",
      "text/plain": [
       "<Figure size 432x288 with 1 Axes>"
      ]
     },
     "metadata": {
      "needs_background": "light"
     },
     "output_type": "display_data"
    }
   ],
   "source": [
    "#Your code here\n",
    "data1['ypred']=lm.predict() #predicted regression values\n",
    "plt.plot(data1.x,data1.y,'o') #plot the data\n",
    "plt.plot(data1.x,data1.ypred,'-r') #plot the regression"
   ]
  },
  {
   "cell_type": "markdown",
   "metadata": {
    "colab_type": "text",
    "id": "n-y9aWREaKsK"
   },
   "source": [
    "### Task 5: Try to introduce another regressor variable if you think that linear model was not apt for this."
   ]
  },
  {
   "cell_type": "code",
   "execution_count": 105,
   "metadata": {
    "colab": {},
    "colab_type": "code",
    "id": "eyZuI7g_anyC"
   },
   "outputs": [],
   "source": [
    "#Your code here\n",
    "#introduce another regressor being a 3 power of x\n",
    "data1['x2']=data1.x**2"
   ]
  },
  {
   "cell_type": "markdown",
   "metadata": {
    "colab_type": "text",
    "id": "4BXxh0flatKF"
   },
   "source": [
    "### Task 6: Fit a regression model to it,now with 2 regressor variables and also visualize the results"
   ]
  },
  {
   "cell_type": "code",
   "execution_count": 106,
   "metadata": {
    "colab": {},
    "colab_type": "code",
    "id": "6l43truMarCv"
   },
   "outputs": [
    {
     "name": "stdout",
     "output_type": "stream",
     "text": [
      "                            OLS Regression Results                            \n",
      "==============================================================================\n",
      "Dep. Variable:                      y   R-squared:                       0.877\n",
      "Model:                            OLS   Adj. R-squared:                  0.873\n",
      "Method:                 Least Squares   F-statistic:                     217.2\n",
      "Date:                Sat, 09 Nov 2019   Prob (F-statistic):           1.80e-28\n",
      "Time:                        14:49:51   Log-Likelihood:                -500.88\n",
      "No. Observations:                  64   AIC:                             1008.\n",
      "Df Residuals:                      61   BIC:                             1014.\n",
      "Df Model:                           2                                         \n",
      "Covariance Type:            nonrobust                                         \n",
      "==============================================================================\n",
      "                 coef    std err          t      P>|t|      [0.025      0.975]\n",
      "------------------------------------------------------------------------------\n",
      "Intercept   -483.8536    111.150     -4.353      0.000    -706.113    -261.594\n",
      "x             91.8555      8.676     10.588      0.000      74.508     109.203\n",
      "x2             4.6594      0.650      7.170      0.000       3.360       5.959\n",
      "==============================================================================\n",
      "Omnibus:                        5.233   Durbin-Watson:                   1.837\n",
      "Prob(Omnibus):                  0.073   Jarque-Bera (JB):                2.221\n",
      "Skew:                           0.012   Prob(JB):                        0.329\n",
      "Kurtosis:                       2.088   Cond. No.                         306.\n",
      "==============================================================================\n",
      "\n",
      "Warnings:\n",
      "[1] Standard Errors assume that the covariance matrix of the errors is correctly specified.\n"
     ]
    }
   ],
   "source": [
    "#Your code here\n",
    "#fit a multi-variate linear model using x and x**3 as two regressors\n",
    "lm2 = smf.ols(formula='y~x+x2', data = data1).fit()\n",
    "print(lm2.summary())"
   ]
  },
  {
   "cell_type": "code",
   "execution_count": 107,
   "metadata": {},
   "outputs": [
    {
     "data": {
      "text/plain": [
       "[<matplotlib.lines.Line2D at 0x1c25c5e390>]"
      ]
     },
     "execution_count": 107,
     "metadata": {},
     "output_type": "execute_result"
    },
    {
     "data": {
      "image/png": "[encoded data removed]",
      "text/plain": [
       "<Figure size 432x288 with 1 Axes>"
      ]
     },
     "metadata": {
      "needs_background": "light"
     },
     "output_type": "display_data"
    }
   ],
   "source": [
    "#visualize regression fit\n",
    "data1['ypred']=lm2.predict() #predicted regression values\n",
    "plt.plot(data1.x,data1.y,'o') #plot the data\n",
    "plt.plot(data1.x,data1.ypred,'.r') #plot the regression\n",
    "#sbn.regplot(x='x',y='ypred',data=data1) #plot the regression"
   ]
  },
  {
   "cell_type": "markdown",
   "metadata": {
    "colab_type": "text",
    "id": "ifu-vLZxa204"
   },
   "source": [
    "### Task 7: Generate regressors in the validation sample in range from M=12(Max power of x) and compute the model prediction.Visualize the fit of the model."
   ]
  },
  {
   "cell_type": "code",
   "execution_count": 108,
   "metadata": {
    "colab": {},
    "colab_type": "code",
    "id": "yRA9m5lzcBG0"
   },
   "outputs": [
    {
     "data": {
      "text/html": [
       "<div>\n",
       "<style scoped>\n",
       "    .dataframe tbody tr th:only-of-type {\n",
       "        vertical-align: middle;\n",
       "    }\n",
       "\n",
       "    .dataframe tbody tr th {\n",
       "        vertical-align: top;\n",
       "    }\n",
       "\n",
       "    .dataframe thead th {\n",
       "        text-align: right;\n",
       "    }\n",
       "</style>\n",
       "<table border=\"1\" class=\"dataframe\">\n",
       "  <thead>\n",
       "    <tr style=\"text-align: right;\">\n",
       "      <th></th>\n",
       "      <th>x</th>\n",
       "      <th>y</th>\n",
       "      <th>x1</th>\n",
       "      <th>x2</th>\n",
       "      <th>x3</th>\n",
       "      <th>x4</th>\n",
       "      <th>x5</th>\n",
       "      <th>x6</th>\n",
       "      <th>x7</th>\n",
       "      <th>x8</th>\n",
       "      <th>x9</th>\n",
       "      <th>x10</th>\n",
       "      <th>x11</th>\n",
       "      <th>x12</th>\n",
       "    </tr>\n",
       "  </thead>\n",
       "  <tbody>\n",
       "    <tr>\n",
       "      <th>67</th>\n",
       "      <td>18.5</td>\n",
       "      <td>2497.509043</td>\n",
       "      <td>18.5</td>\n",
       "      <td>342.25</td>\n",
       "      <td>6331.625</td>\n",
       "      <td>117135.0625</td>\n",
       "      <td>2.166999e+06</td>\n",
       "      <td>4.008948e+07</td>\n",
       "      <td>7.416553e+08</td>\n",
       "      <td>1.372062e+10</td>\n",
       "      <td>2.538315e+11</td>\n",
       "      <td>4.695883e+12</td>\n",
       "      <td>8.687384e+13</td>\n",
       "      <td>1.607166e+15</td>\n",
       "    </tr>\n",
       "    <tr>\n",
       "      <th>29</th>\n",
       "      <td>-0.5</td>\n",
       "      <td>0.566544</td>\n",
       "      <td>-0.5</td>\n",
       "      <td>0.25</td>\n",
       "      <td>-0.125</td>\n",
       "      <td>0.0625</td>\n",
       "      <td>-3.125000e-02</td>\n",
       "      <td>1.562500e-02</td>\n",
       "      <td>-7.812500e-03</td>\n",
       "      <td>3.906250e-03</td>\n",
       "      <td>-1.953125e-03</td>\n",
       "      <td>9.765625e-04</td>\n",
       "      <td>-4.882812e-04</td>\n",
       "      <td>2.441406e-04</td>\n",
       "    </tr>\n",
       "    <tr>\n",
       "      <th>35</th>\n",
       "      <td>2.5</td>\n",
       "      <td>-5.702139</td>\n",
       "      <td>2.5</td>\n",
       "      <td>6.25</td>\n",
       "      <td>15.625</td>\n",
       "      <td>39.0625</td>\n",
       "      <td>9.765625e+01</td>\n",
       "      <td>2.441406e+02</td>\n",
       "      <td>6.103516e+02</td>\n",
       "      <td>1.525879e+03</td>\n",
       "      <td>3.814697e+03</td>\n",
       "      <td>9.536743e+03</td>\n",
       "      <td>2.384186e+04</td>\n",
       "      <td>5.960464e+04</td>\n",
       "    </tr>\n",
       "    <tr>\n",
       "      <th>9</th>\n",
       "      <td>-10.5</td>\n",
       "      <td>-811.861672</td>\n",
       "      <td>-10.5</td>\n",
       "      <td>110.25</td>\n",
       "      <td>-1157.625</td>\n",
       "      <td>12155.0625</td>\n",
       "      <td>-1.276282e+05</td>\n",
       "      <td>1.340096e+06</td>\n",
       "      <td>-1.407100e+07</td>\n",
       "      <td>1.477455e+08</td>\n",
       "      <td>-1.551328e+09</td>\n",
       "      <td>1.628895e+10</td>\n",
       "      <td>-1.710339e+11</td>\n",
       "      <td>1.795856e+12</td>\n",
       "    </tr>\n",
       "    <tr>\n",
       "      <th>68</th>\n",
       "      <td>19.0</td>\n",
       "      <td>2721.708052</td>\n",
       "      <td>19.0</td>\n",
       "      <td>361.00</td>\n",
       "      <td>6859.000</td>\n",
       "      <td>130321.0000</td>\n",
       "      <td>2.476099e+06</td>\n",
       "      <td>4.704588e+07</td>\n",
       "      <td>8.938717e+08</td>\n",
       "      <td>1.698356e+10</td>\n",
       "      <td>3.226877e+11</td>\n",
       "      <td>6.131066e+12</td>\n",
       "      <td>1.164903e+14</td>\n",
       "      <td>2.213315e+15</td>\n",
       "    </tr>\n",
       "  </tbody>\n",
       "</table>\n",
       "</div>"
      ],
      "text/plain": [
       "       x            y    x1      x2        x3           x4            x5  \\\n",
       "67  18.5  2497.509043  18.5  342.25  6331.625  117135.0625  2.166999e+06   \n",
       "29  -0.5     0.566544  -0.5    0.25    -0.125       0.0625 -3.125000e-02   \n",
       "35   2.5    -5.702139   2.5    6.25    15.625      39.0625  9.765625e+01   \n",
       "9  -10.5  -811.861672 -10.5  110.25 -1157.625   12155.0625 -1.276282e+05   \n",
       "68  19.0  2721.708052  19.0  361.00  6859.000  130321.0000  2.476099e+06   \n",
       "\n",
       "              x6            x7            x8            x9           x10  \\\n",
       "67  4.008948e+07  7.416553e+08  1.372062e+10  2.538315e+11  4.695883e+12   \n",
       "29  1.562500e-02 -7.812500e-03  3.906250e-03 -1.953125e-03  9.765625e-04   \n",
       "35  2.441406e+02  6.103516e+02  1.525879e+03  3.814697e+03  9.536743e+03   \n",
       "9   1.340096e+06 -1.407100e+07  1.477455e+08 -1.551328e+09  1.628895e+10   \n",
       "68  4.704588e+07  8.938717e+08  1.698356e+10  3.226877e+11  6.131066e+12   \n",
       "\n",
       "             x11           x12  \n",
       "67  8.687384e+13  1.607166e+15  \n",
       "29 -4.882812e-04  2.441406e-04  \n",
       "35  2.384186e+04  5.960464e+04  \n",
       "9  -1.710339e+11  1.795856e+12  \n",
       "68  1.164903e+14  2.213315e+15  "
      ]
     },
     "execution_count": 108,
     "metadata": {},
     "output_type": "execute_result"
    }
   ],
   "source": [
    "#create regressors for validation set\n",
    "M=12\n",
    "for p in range(1,M+1):\n",
    "    data1_2['x%d'%p]=data1_2.x**p\n",
    "data1_2.head()"
   ]
  },
  {
   "cell_type": "code",
   "execution_count": 109,
   "metadata": {},
   "outputs": [
    {
     "data": {
      "text/html": [
       "<div>\n",
       "<style scoped>\n",
       "    .dataframe tbody tr th:only-of-type {\n",
       "        vertical-align: middle;\n",
       "    }\n",
       "\n",
       "    .dataframe tbody tr th {\n",
       "        vertical-align: top;\n",
       "    }\n",
       "\n",
       "    .dataframe thead th {\n",
       "        text-align: right;\n",
       "    }\n",
       "</style>\n",
       "<table border=\"1\" class=\"dataframe\">\n",
       "  <thead>\n",
       "    <tr style=\"text-align: right;\">\n",
       "      <th></th>\n",
       "      <th>x</th>\n",
       "      <th>y</th>\n",
       "      <th>ypred</th>\n",
       "      <th>x2</th>\n",
       "      <th>x1</th>\n",
       "      <th>x3</th>\n",
       "      <th>x4</th>\n",
       "      <th>x5</th>\n",
       "      <th>x6</th>\n",
       "      <th>x7</th>\n",
       "      <th>x8</th>\n",
       "      <th>x9</th>\n",
       "      <th>x10</th>\n",
       "      <th>x11</th>\n",
       "      <th>x12</th>\n",
       "    </tr>\n",
       "  </thead>\n",
       "  <tbody>\n",
       "    <tr>\n",
       "      <th>51</th>\n",
       "      <td>10.5</td>\n",
       "      <td>366.764155</td>\n",
       "      <td>994.323240</td>\n",
       "      <td>110.25</td>\n",
       "      <td>10.5</td>\n",
       "      <td>1157.625</td>\n",
       "      <td>12155.0625</td>\n",
       "      <td>127628.15625</td>\n",
       "      <td>1.340096e+06</td>\n",
       "      <td>1.407100e+07</td>\n",
       "      <td>1.477455e+08</td>\n",
       "      <td>1.551328e+09</td>\n",
       "      <td>1.628895e+10</td>\n",
       "      <td>1.710339e+11</td>\n",
       "      <td>1.795856e+12</td>\n",
       "    </tr>\n",
       "    <tr>\n",
       "      <th>20</th>\n",
       "      <td>-5.0</td>\n",
       "      <td>-121.561982</td>\n",
       "      <td>-826.647138</td>\n",
       "      <td>25.00</td>\n",
       "      <td>-5.0</td>\n",
       "      <td>-125.000</td>\n",
       "      <td>625.0000</td>\n",
       "      <td>-3125.00000</td>\n",
       "      <td>1.562500e+04</td>\n",
       "      <td>-7.812500e+04</td>\n",
       "      <td>3.906250e+05</td>\n",
       "      <td>-1.953125e+06</td>\n",
       "      <td>9.765625e+06</td>\n",
       "      <td>-4.882812e+07</td>\n",
       "      <td>2.441406e+08</td>\n",
       "    </tr>\n",
       "    <tr>\n",
       "      <th>7</th>\n",
       "      <td>-11.5</td>\n",
       "      <td>-1044.071813</td>\n",
       "      <td>-923.991857</td>\n",
       "      <td>132.25</td>\n",
       "      <td>-11.5</td>\n",
       "      <td>-1520.875</td>\n",
       "      <td>17490.0625</td>\n",
       "      <td>-201135.71875</td>\n",
       "      <td>2.313061e+06</td>\n",
       "      <td>-2.660020e+07</td>\n",
       "      <td>3.059023e+08</td>\n",
       "      <td>-3.517876e+09</td>\n",
       "      <td>4.045558e+10</td>\n",
       "      <td>-4.652391e+11</td>\n",
       "      <td>5.350250e+12</td>\n",
       "    </tr>\n",
       "    <tr>\n",
       "      <th>54</th>\n",
       "      <td>12.0</td>\n",
       "      <td>582.166661</td>\n",
       "      <td>1289.359778</td>\n",
       "      <td>144.00</td>\n",
       "      <td>12.0</td>\n",
       "      <td>1728.000</td>\n",
       "      <td>20736.0000</td>\n",
       "      <td>248832.00000</td>\n",
       "      <td>2.985984e+06</td>\n",
       "      <td>3.583181e+07</td>\n",
       "      <td>4.299817e+08</td>\n",
       "      <td>5.159780e+09</td>\n",
       "      <td>6.191736e+10</td>\n",
       "      <td>7.430084e+11</td>\n",
       "      <td>8.916100e+12</td>\n",
       "    </tr>\n",
       "    <tr>\n",
       "      <th>34</th>\n",
       "      <td>2.0</td>\n",
       "      <td>-3.430170</td>\n",
       "      <td>-281.505148</td>\n",
       "      <td>4.00</td>\n",
       "      <td>2.0</td>\n",
       "      <td>8.000</td>\n",
       "      <td>16.0000</td>\n",
       "      <td>32.00000</td>\n",
       "      <td>6.400000e+01</td>\n",
       "      <td>1.280000e+02</td>\n",
       "      <td>2.560000e+02</td>\n",
       "      <td>5.120000e+02</td>\n",
       "      <td>1.024000e+03</td>\n",
       "      <td>2.048000e+03</td>\n",
       "      <td>4.096000e+03</td>\n",
       "    </tr>\n",
       "  </tbody>\n",
       "</table>\n",
       "</div>"
      ],
      "text/plain": [
       "       x            y        ypred      x2    x1        x3          x4  \\\n",
       "51  10.5   366.764155   994.323240  110.25  10.5  1157.625  12155.0625   \n",
       "20  -5.0  -121.561982  -826.647138   25.00  -5.0  -125.000    625.0000   \n",
       "7  -11.5 -1044.071813  -923.991857  132.25 -11.5 -1520.875  17490.0625   \n",
       "54  12.0   582.166661  1289.359778  144.00  12.0  1728.000  20736.0000   \n",
       "34   2.0    -3.430170  -281.505148    4.00   2.0     8.000     16.0000   \n",
       "\n",
       "              x5            x6            x7            x8            x9  \\\n",
       "51  127628.15625  1.340096e+06  1.407100e+07  1.477455e+08  1.551328e+09   \n",
       "20   -3125.00000  1.562500e+04 -7.812500e+04  3.906250e+05 -1.953125e+06   \n",
       "7  -201135.71875  2.313061e+06 -2.660020e+07  3.059023e+08 -3.517876e+09   \n",
       "54  248832.00000  2.985984e+06  3.583181e+07  4.299817e+08  5.159780e+09   \n",
       "34      32.00000  6.400000e+01  1.280000e+02  2.560000e+02  5.120000e+02   \n",
       "\n",
       "             x10           x11           x12  \n",
       "51  1.628895e+10  1.710339e+11  1.795856e+12  \n",
       "20  9.765625e+06 -4.882812e+07  2.441406e+08  \n",
       "7   4.045558e+10 -4.652391e+11  5.350250e+12  \n",
       "54  6.191736e+10  7.430084e+11  8.916100e+12  \n",
       "34  1.024000e+03  2.048000e+03  4.096000e+03  "
      ]
     },
     "execution_count": 109,
     "metadata": {},
     "output_type": "execute_result"
    }
   ],
   "source": [
    "#create regressors for training set\n",
    "M=12\n",
    "for p in range(1,M+1):\n",
    "    data1['x%d'%p]=data1.x**p\n",
    "data1.head()"
   ]
  },
  {
   "cell_type": "code",
   "execution_count": 110,
   "metadata": {},
   "outputs": [
    {
     "data": {
      "text/plain": [
       "'y~x+x2+x3+x4+x5+x6+x7+x8+x9+x10+x11+x12'"
      ]
     },
     "execution_count": 110,
     "metadata": {},
     "output_type": "execute_result"
    }
   ],
   "source": [
    "#create a formulae for multi-variate regression using list comprehension\n",
    "formula='y~x+'+'+'.join(['x%d'%p for p in range(2,M+1)]); formula"
   ]
  },
  {
   "cell_type": "code",
   "execution_count": 111,
   "metadata": {},
   "outputs": [
    {
     "name": "stdout",
     "output_type": "stream",
     "text": [
      "                            OLS Regression Results                            \n",
      "==============================================================================\n",
      "Dep. Variable:                      y   R-squared:                       1.000\n",
      "Model:                            OLS   Adj. R-squared:                  1.000\n",
      "Method:                 Least Squares   F-statistic:                 1.220e+05\n",
      "Date:                Sat, 09 Nov 2019   Prob (F-statistic):          5.55e-113\n",
      "Time:                        14:49:55   Log-Likelihood:                -250.47\n",
      "No. Observations:                  64   AIC:                             520.9\n",
      "Df Residuals:                      54   BIC:                             542.5\n",
      "Df Model:                           9                                         \n",
      "Covariance Type:            nonrobust                                         \n",
      "==============================================================================\n",
      "                 coef    std err          t      P>|t|      [0.025      0.975]\n",
      "------------------------------------------------------------------------------\n",
      "Intercept      0.0003   2.22e-05     13.240      0.000       0.000       0.000\n",
      "x              0.0208      0.001     15.869      0.000       0.018       0.023\n",
      "x2             0.0111      0.001     13.128      0.000       0.009       0.013\n",
      "x3             0.4902      0.031     15.852      0.000       0.428       0.552\n",
      "x4            -0.0687      0.003    -19.961      0.000      -0.076      -0.062\n",
      "x5             0.0020      0.001      2.980      0.004       0.001       0.003\n",
      "x6             0.0007   6.14e-05     12.137      0.000       0.001       0.001\n",
      "x7         -3.347e-05   5.79e-06     -5.783      0.000   -4.51e-05   -2.19e-05\n",
      "x8         -3.071e-06   3.44e-07     -8.924      0.000   -3.76e-06   -2.38e-06\n",
      "x9          1.922e-07   2.64e-08      7.282      0.000    1.39e-07    2.45e-07\n",
      "x10         2.799e-09   5.62e-10      4.980      0.000    1.67e-09    3.93e-09\n",
      "x11         -3.64e-10   5.06e-11     -7.196      0.000   -4.65e-10   -2.63e-10\n",
      "x12         6.118e-12   9.82e-13      6.232      0.000    4.15e-12    8.09e-12\n",
      "==============================================================================\n",
      "Omnibus:                        0.855   Durbin-Watson:                   1.422\n",
      "Prob(Omnibus):                  0.652   Jarque-Bera (JB):                0.830\n",
      "Skew:                           0.006   Prob(JB):                        0.660\n",
      "Kurtosis:                       2.442   Cond. No.                     2.31e+16\n",
      "==============================================================================\n",
      "\n",
      "Warnings:\n",
      "[1] Standard Errors assume that the covariance matrix of the errors is correctly specified.\n",
      "[2] The condition number is large, 2.31e+16. This might indicate that there are\n",
      "strong multicollinearity or other numerical problems.\n"
     ]
    }
   ],
   "source": [
    "lm12 = smf.ols(formula=formula, data = data1).fit()\n",
    "print(lm12.summary())"
   ]
  },
  {
   "cell_type": "code",
   "execution_count": 130,
   "metadata": {},
   "outputs": [
    {
     "data": {
      "text/plain": [
       "Text(0,0.5,'y')"
      ]
     },
     "execution_count": 130,
     "metadata": {},
     "output_type": "execute_result"
    },
    {
     "data": {
      "image/png": "[encoded data removed]",
      "text/plain": [
       "<Figure size 432x288 with 1 Axes>"
      ]
     },
     "metadata": {
      "needs_background": "light"
     },
     "output_type": "display_data"
    }
   ],
   "source": [
    "#visualize regression fit\n",
    "#data1['ypred']=lm12.predict(data1) #predicted regression values\n",
    "\n",
    "x= np.arange(-15,25,0.5)\n",
    "y=pd.DataFrame(np.array([x,x**2,x**3,x**4,x**5,x**6,x**7,x**8,x**9,x**10,x**11,x**12]).T,columns=['x','x2','x3','x4','x5','x6','x7','x8','x9','x10','x11','x12'])\n",
    "plt.plot(x, lm12.predict(y), 'b',label='ypred')\n",
    "\n",
    "plt.plot(data1.x,data1.y,'.r') #plot the data\n",
    "#plt.plot(data1.x,data1.ypred,'b') #plot the regression\n",
    "\n",
    "plt.legend(loc='lower right')\n",
    "plt.xlabel('x')\n",
    "plt.ylabel('y')"
   ]
  },
  {
   "cell_type": "code",
   "execution_count": 113,
   "metadata": {},
   "outputs": [],
   "source": [
    "R2 = []; Params = []\n",
    "for M in range(1,13):\n",
    "    formula='y~x'+'+'*(M>1)+'+'.join(['x%d'%p for p in range(2,M+1)]);\n",
    "    lm = smf.ols(formula = formula, data = data1_2).fit()\n",
    "    R2.append(lm.rsquared)\n",
    "    Params.append(lm.params)"
   ]
  },
  {
   "cell_type": "code",
   "execution_count": 114,
   "metadata": {},
   "outputs": [
    {
     "data": {
      "image/png": "[encoded data removed]",
      "text/plain": [
       "<Figure size 1440x1080 with 12 Axes>"
      ]
     },
     "metadata": {
      "needs_background": "light"
     },
     "output_type": "display_data"
    }
   ],
   "source": [
    "#visualize all the fits\n",
    "plt.figure(figsize = (20,15))\n",
    "\n",
    "for M in range(1,13):\n",
    "    plt.subplot(4,3,M)   # Plot subfigure, M controls the location\n",
    "    x_fit = np.linspace(-10,30,num=20)  # For smoothing the fitted curve\n",
    "    y_fit = pd.DataFrame(np.matrix([x_fit**k for k in range(M+1)]).T,  # Generate our fitted curve\n",
    "                         columns = Params[M-1].index).mul(Params[M-1], 1).sum(1)  # 1 means computation runs row-wise\n",
    "    # Pay attention how we obtain the results by controlling the axes on which the operations are performed\n",
    "\n",
    "    plt.plot(data1_2.x, data1_2.y, 'ro', markersize = 8)    # Red dots, the observations\n",
    "    plt.plot(x_fit, y_fit, 'b--', lw = 3)                # Blue dashed line, our fitted curve\n",
    "    plt.title('Degree M = %d'%(M), fontsize = 14)"
   ]
  },
  {
   "cell_type": "markdown",
   "metadata": {
    "colab_type": "text",
    "id": "orOQkqaJcEPA"
   },
   "source": [
    "### Task 8:Train the polinomial model over training sample and compute R2 over the validation data for each power m=1,2,...12"
   ]
  },
  {
   "cell_type": "code",
   "execution_count": 126,
   "metadata": {},
   "outputs": [
    {
     "data": {
      "text/plain": [
       "67    2487.558768\n",
       "29      -0.072954\n",
       "35       5.452073\n",
       "9     -819.990838\n",
       "68    2714.020951\n",
       "79    6203.616495\n",
       "52     422.650845\n",
       "14    -402.525431\n",
       "Name: ypred, dtype: float64"
      ]
     },
     "execution_count": 126,
     "metadata": {},
     "output_type": "execute_result"
    }
   ],
   "source": [
    "M=12\n",
    "for p in range(1,M+1): #add more powers of x up to M'th\n",
    "    data1_2['x%d'%p]=data1_2.x**p\n",
    "data1_2['ypred']=lm12.predict(data1_2)\n",
    "data1_2['ypred']"
   ]
  },
  {
   "cell_type": "code",
   "execution_count": 131,
   "metadata": {},
   "outputs": [
    {
     "data": {
      "text/plain": [
       "Text(0,0.5,'y')"
      ]
     },
     "execution_count": 131,
     "metadata": {},
     "output_type": "execute_result"
    },
    {
     "data": {
      "image/png": "[encoded data removed]",
      "text/plain": [
       "<Figure size 432x288 with 1 Axes>"
      ]
     },
     "metadata": {
      "needs_background": "light"
     },
     "output_type": "display_data"
    }
   ],
   "source": [
    "plt.plot(data1_2.x,data1_2.y,'.r') #plot the data\n",
    "\n",
    "#plt.plot(data1_2.x,data1_2.ypred,'b') #plot the regression\n",
    "\n",
    "x= np.arange(-10,25,0.5)\n",
    "y=pd.DataFrame(np.array([x,x**2,x**3,x**4,x**5,x**6,x**7,x**8,x**9,x**10,x**11,x**12]).T,columns=['x','x2','x3','x4','x5','x6','x7','x8','x9','x10','x11','x12'])\n",
    "plt.plot(x,lm12.predict(y), 'b',label='ypred')\n",
    "\n",
    "plt.legend(loc='lower right')\n",
    "plt.xlabel('x')\n",
    "plt.ylabel('y')"
   ]
  },
  {
   "cell_type": "code",
   "execution_count": 132,
   "metadata": {},
   "outputs": [],
   "source": [
    "TrainR2=[0]*12\n",
    "ValidR2=[0]*12\n",
    "lm=[0]*12\n",
    "for M in range(1,13):\n",
    "    formula='y~x'+'+'*(M>1)+'+'.join(['x%d'%p for p in range(2,M+1)]);\n",
    "    lm[M-1] = smf.ols(formula=formula, data = data1).fit()\n",
    "    data1_2['ypred']=lm[M-1].predict(data1_2)\n",
    "    ValidR2[M-1]=1-((data1_2.ypred-data1_2.y)**2).sum()/((data1_2.y-data1_2.y.mean())**2).sum()\n",
    "    TrainR2[M-1]=lm[M-1].rsquared"
   ]
  },
  {
   "cell_type": "code",
   "execution_count": 133,
   "metadata": {},
   "outputs": [
    {
     "data": {
      "text/plain": [
       "0.9999676665870997"
      ]
     },
     "execution_count": 133,
     "metadata": {},
     "output_type": "execute_result"
    }
   ],
   "source": [
    "ValidR2=1-((data1_2.ypred-data1_2.y)**2).sum()/((data1_2.y-data1_2.y.mean())**2).sum()\n",
    "ValidR2"
   ]
  },
  {
   "cell_type": "code",
   "execution_count": 140,
   "metadata": {},
   "outputs": [],
   "source": [
    "TrainR2=[0]*12\n",
    "ValidR2=[0]*12\n",
    "lm=[0]*12\n",
    "for M in range(1,12):\n",
    "    formula='y~x'+'+'*(M>1)+'+'.join(['x%d'%p for p in range(2,M+1)]);\n",
    "    lm[M-1] = smf.ols(formula=formula, data = data1).fit()\n",
    "    data1_2['ypred']=lm[M-1].predict(data1_2)\n",
    "    ValidR2[M-1]=1-((data1_2.ypred-data1_2.y)**2).sum()/((data1_2.y-data1_2.y.mean())**2).sum()\n",
    "    TrainR2[M-1]=lm[M-1].rsquared"
   ]
  },
  {
   "cell_type": "code",
   "execution_count": 141,
   "metadata": {},
   "outputs": [
    {
     "data": {
      "text/plain": [
       "<matplotlib.legend.Legend at 0x1c274b6a90>"
      ]
     },
     "execution_count": 141,
     "metadata": {},
     "output_type": "execute_result"
    },
    {
     "data": {
      "image/png": "[encoded data removed]",
      "text/plain": [
       "<Figure size 432x288 with 1 Axes>"
      ]
     },
     "metadata": {
      "needs_background": "light"
     },
     "output_type": "display_data"
    }
   ],
   "source": [
    "plt.plot(range(1,13),TrainR2[:12],'b-*',label='train')\n",
    "plt.plot(range(1,13),ValidR2[:12],'r-*',label='valid')\n",
    "plt.xlabel('M')\n",
    "plt.ylabel('R2')\n",
    "plt.ylim(-4,10)\n",
    "plt.xlim(1,9)\n",
    "plt.legend(loc='lower right')"
   ]
  },
  {
   "cell_type": "markdown",
   "metadata": {
    "colab_type": "text",
    "id": "Rud8ZvsbcxaY"
   },
   "source": [
    "### Task 9: What is the optimal value of $1\\leq m\\leq M$ in terms of the validation R2?"
   ]
  },
  {
   "cell_type": "markdown",
   "metadata": {
    "colab_type": "text",
    "id": "RKV8LRDPeH-m"
   },
   "source": []
  },
  {
   "cell_type": "code",
   "execution_count": 142,
   "metadata": {},
   "outputs": [
    {
     "data": {
      "text/plain": [
       "4"
      ]
     },
     "execution_count": 142,
     "metadata": {},
     "output_type": "execute_result"
    }
   ],
   "source": [
    "M=np.argmax(ValidR2)+1; M"
   ]
  },
  {
   "cell_type": "markdown",
   "metadata": {},
   "source": [
    "No, I dont get optimal value with M=12"
   ]
  },
  {
   "cell_type": "markdown",
   "metadata": {
    "colab_type": "text",
    "id": "x3JeekagdFw8"
   },
   "source": [
    "### Task 10:Generate regressors in the test sample and compute the model prediction"
   ]
  },
  {
   "cell_type": "code",
   "execution_count": 24,
   "metadata": {},
   "outputs": [
    {
     "data": {
      "text/html": [
       "<table class=\"simpletable\">\n",
       "<caption>OLS Regression Results</caption>\n",
       "<tr>\n",
       "  <th>Dep. Variable:</th>            <td>y</td>        <th>  R-squared:         </th> <td>   1.000</td> \n",
       "</tr>\n",
       "<tr>\n",
       "  <th>Model:</th>                   <td>OLS</td>       <th>  Adj. R-squared:    </th> <td>   1.000</td> \n",
       "</tr>\n",
       "<tr>\n",
       "  <th>Method:</th>             <td>Least Squares</td>  <th>  F-statistic:       </th> <td>5.274e+06</td>\n",
       "</tr>\n",
       "<tr>\n",
       "  <th>Date:</th>             <td>Sat, 09 Nov 2019</td> <th>  Prob (F-statistic):</th> <td>4.59e-163</td>\n",
       "</tr>\n",
       "<tr>\n",
       "  <th>Time:</th>                 <td>14:32:39</td>     <th>  Log-Likelihood:    </th> <td> -158.72</td> \n",
       "</tr>\n",
       "<tr>\n",
       "  <th>No. Observations:</th>      <td>    64</td>      <th>  AIC:               </th> <td>   327.4</td> \n",
       "</tr>\n",
       "<tr>\n",
       "  <th>Df Residuals:</th>          <td>    59</td>      <th>  BIC:               </th> <td>   338.2</td> \n",
       "</tr>\n",
       "<tr>\n",
       "  <th>Df Model:</th>              <td>     4</td>      <th>                     </th>     <td> </td>    \n",
       "</tr>\n",
       "<tr>\n",
       "  <th>Covariance Type:</th>      <td>nonrobust</td>    <th>                     </th>     <td> </td>    \n",
       "</tr>\n",
       "</table>\n",
       "<table class=\"simpletable\">\n",
       "<tr>\n",
       "      <td></td>         <th>coef</th>     <th>std err</th>      <th>t</th>      <th>P>|t|</th>  <th>[0.025</th>    <th>0.975]</th>  \n",
       "</tr>\n",
       "<tr>\n",
       "  <th>Intercept</th> <td>   -3.3421</td> <td>    0.663</td> <td>   -5.039</td> <td> 0.000</td> <td>   -4.669</td> <td>   -2.015</td>\n",
       "</tr>\n",
       "<tr>\n",
       "  <th>x</th>         <td>    1.2173</td> <td>    0.109</td> <td>   11.140</td> <td> 0.000</td> <td>    0.999</td> <td>    1.436</td>\n",
       "</tr>\n",
       "<tr>\n",
       "  <th>x2</th>        <td>   -2.0051</td> <td>    0.009</td> <td> -226.109</td> <td> 0.000</td> <td>   -2.023</td> <td>   -1.987</td>\n",
       "</tr>\n",
       "<tr>\n",
       "  <th>x3</th>        <td>    0.4986</td> <td>    0.001</td> <td>  776.169</td> <td> 0.000</td> <td>    0.497</td> <td>    0.500</td>\n",
       "</tr>\n",
       "<tr>\n",
       "  <th>x4</th>        <td> 5.243e-05</td> <td> 3.18e-05</td> <td>    1.651</td> <td> 0.104</td> <td>-1.11e-05</td> <td>    0.000</td>\n",
       "</tr>\n",
       "</table>\n",
       "<table class=\"simpletable\">\n",
       "<tr>\n",
       "  <th>Omnibus:</th>       <td> 0.513</td> <th>  Durbin-Watson:     </th> <td>   1.878</td>\n",
       "</tr>\n",
       "<tr>\n",
       "  <th>Prob(Omnibus):</th> <td> 0.774</td> <th>  Jarque-Bera (JB):  </th> <td>   0.632</td>\n",
       "</tr>\n",
       "<tr>\n",
       "  <th>Skew:</th>          <td> 0.007</td> <th>  Prob(JB):          </th> <td>   0.729</td>\n",
       "</tr>\n",
       "<tr>\n",
       "  <th>Kurtosis:</th>      <td> 2.513</td> <th>  Cond. No.          </th> <td>1.62e+05</td>\n",
       "</tr>\n",
       "</table><br/><br/>Warnings:<br/>[1] Standard Errors assume that the covariance matrix of the errors is correctly specified.<br/>[2] The condition number is large, 1.62e+05. This might indicate that there are<br/>strong multicollinearity or other numerical problems."
      ],
      "text/plain": [
       "<class 'statsmodels.iolib.summary.Summary'>\n",
       "\"\"\"\n",
       "                            OLS Regression Results                            \n",
       "==============================================================================\n",
       "Dep. Variable:                      y   R-squared:                       1.000\n",
       "Model:                            OLS   Adj. R-squared:                  1.000\n",
       "Method:                 Least Squares   F-statistic:                 5.274e+06\n",
       "Date:                Sat, 09 Nov 2019   Prob (F-statistic):          4.59e-163\n",
       "Time:                        14:32:39   Log-Likelihood:                -158.72\n",
       "No. Observations:                  64   AIC:                             327.4\n",
       "Df Residuals:                      59   BIC:                             338.2\n",
       "Df Model:                           4                                         \n",
       "Covariance Type:            nonrobust                                         \n",
       "==============================================================================\n",
       "                 coef    std err          t      P>|t|      [0.025      0.975]\n",
       "------------------------------------------------------------------------------\n",
       "Intercept     -3.3421      0.663     -5.039      0.000      -4.669      -2.015\n",
       "x              1.2173      0.109     11.140      0.000       0.999       1.436\n",
       "x2            -2.0051      0.009   -226.109      0.000      -2.023      -1.987\n",
       "x3             0.4986      0.001    776.169      0.000       0.497       0.500\n",
       "x4          5.243e-05   3.18e-05      1.651      0.104   -1.11e-05       0.000\n",
       "==============================================================================\n",
       "Omnibus:                        0.513   Durbin-Watson:                   1.878\n",
       "Prob(Omnibus):                  0.774   Jarque-Bera (JB):                0.632\n",
       "Skew:                           0.007   Prob(JB):                        0.729\n",
       "Kurtosis:                       2.513   Cond. No.                     1.62e+05\n",
       "==============================================================================\n",
       "\n",
       "Warnings:\n",
       "[1] Standard Errors assume that the covariance matrix of the errors is correctly specified.\n",
       "[2] The condition number is large, 1.62e+05. This might indicate that there are\n",
       "strong multicollinearity or other numerical problems.\n",
       "\"\"\""
      ]
     },
     "execution_count": 24,
     "metadata": {},
     "output_type": "execute_result"
    }
   ],
   "source": [
    "lm[M-1].summary()"
   ]
  },
  {
   "cell_type": "code",
   "execution_count": 25,
   "metadata": {},
   "outputs": [
    {
     "data": {
      "text/plain": [
       "0.999998696947183"
      ]
     },
     "execution_count": 25,
     "metadata": {},
     "output_type": "execute_result"
    }
   ],
   "source": [
    "#generate regressors in the validation sample and compute the model prediction\n",
    "for p in range(1,M+1): #add more powers of x up to M'th\n",
    "    data1_3['x%d'%p]=data1_3.x**p\n",
    "data1_3['ypred']=lm[M-1].predict(data1_3)\n",
    "TestR2=1-((data1_3.ypred-data1_3.y)**2).sum()/((data1_3.y-data1_3.y.mean())**2).sum()\n",
    "TestR2"
   ]
  },
  {
   "cell_type": "markdown",
   "metadata": {
    "colab_type": "text",
    "id": "3bzf1w-9ehty"
   },
   "source": [
    "### Task 11:Visulaize results of Task 10"
   ]
  },
  {
   "cell_type": "code",
   "execution_count": 26,
   "metadata": {},
   "outputs": [
    {
     "data": {
      "text/plain": [
       "Text(0,0.5,'y')"
      ]
     },
     "execution_count": 26,
     "metadata": {},
     "output_type": "execute_result"
    },
    {
     "data": {
      "image/png": "[encoded data removed]",
      "text/plain": [
       "<Figure size 432x288 with 1 Axes>"
      ]
     },
     "metadata": {
      "needs_background": "light"
     },
     "output_type": "display_data"
    }
   ],
   "source": [
    "#visualize the fit\n",
    "plt.plot(data1_3.x,data1_3.y,'.r') #plot the data\n",
    "x= np.arange(-15,25,0.5)\n",
    "y=pd.DataFrame(np.array([x,x**2,x**3,x**4]).T,columns=['x','x2','x3','x4'])\n",
    "plt.plot(x, lm[M-1].predict(y), 'b')\n",
    "plt.legend(loc='lower right')\n",
    "plt.xlabel('x')\n",
    "plt.ylabel('y')"
   ]
  },
  {
   "cell_type": "markdown",
   "metadata": {
    "colab_type": "text",
    "id": "d08VxJCOezZu"
   },
   "source": [
    "## Problem 2:Refer the in class session_05_02 diagnostics python notebook ,to complete this part of the assignment."
   ]
  },
  {
   "cell_type": "markdown",
   "metadata": {
    "colab_type": "text",
    "id": "GUXe9UUrloLe"
   },
   "source": [
    "### Task 1: Perform regression on Advanced vs Other, \"Advanced\" which incorporated Master, Doctorate and ProfSchool and \"Other\" incorporating less than Bachelor.Your regression model will be between predicted and observed income."
   ]
  },
  {
   "cell_type": "code",
   "execution_count": 143,
   "metadata": {
    "colab": {},
    "colab_type": "code",
    "id": "lNI80bLulm9H"
   },
   "outputs": [
    {
     "data": {
      "text/html": [
       "<div>\n",
       "<style scoped>\n",
       "    .dataframe tbody tr th:only-of-type {\n",
       "        vertical-align: middle;\n",
       "    }\n",
       "\n",
       "    .dataframe tbody tr th {\n",
       "        vertical-align: top;\n",
       "    }\n",
       "\n",
       "    .dataframe thead th {\n",
       "        text-align: right;\n",
       "    }\n",
       "</style>\n",
       "<table border=\"1\" class=\"dataframe\">\n",
       "  <thead>\n",
       "    <tr style=\"text-align: right;\">\n",
       "      <th></th>\n",
       "      <th>Zipcode</th>\n",
       "      <th>IncomePerCapita</th>\n",
       "      <th>PopOver25</th>\n",
       "      <th>LessThanHS</th>\n",
       "      <th>HighSchool</th>\n",
       "      <th>SomeCollege</th>\n",
       "      <th>Bachelor</th>\n",
       "      <th>Master</th>\n",
       "      <th>Doctorate</th>\n",
       "      <th>ProfSchool</th>\n",
       "    </tr>\n",
       "  </thead>\n",
       "  <tbody>\n",
       "    <tr>\n",
       "      <th>0</th>\n",
       "      <td>10001</td>\n",
       "      <td>77512.0</td>\n",
       "      <td>16328</td>\n",
       "      <td>1389</td>\n",
       "      <td>1665</td>\n",
       "      <td>2075</td>\n",
       "      <td>6061</td>\n",
       "      <td>3412</td>\n",
       "      <td>519</td>\n",
       "      <td>1207</td>\n",
       "    </tr>\n",
       "    <tr>\n",
       "      <th>1</th>\n",
       "      <td>10002</td>\n",
       "      <td>26905.0</td>\n",
       "      <td>60932</td>\n",
       "      <td>21170</td>\n",
       "      <td>12718</td>\n",
       "      <td>8532</td>\n",
       "      <td>12721</td>\n",
       "      <td>4001</td>\n",
       "      <td>641</td>\n",
       "      <td>1149</td>\n",
       "    </tr>\n",
       "    <tr>\n",
       "      <th>2</th>\n",
       "      <td>10003</td>\n",
       "      <td>79088.0</td>\n",
       "      <td>41182</td>\n",
       "      <td>1499</td>\n",
       "      <td>2810</td>\n",
       "      <td>4516</td>\n",
       "      <td>17958</td>\n",
       "      <td>9094</td>\n",
       "      <td>1626</td>\n",
       "      <td>3679</td>\n",
       "    </tr>\n",
       "    <tr>\n",
       "      <th>3</th>\n",
       "      <td>10004</td>\n",
       "      <td>98020.0</td>\n",
       "      <td>2279</td>\n",
       "      <td>29</td>\n",
       "      <td>87</td>\n",
       "      <td>305</td>\n",
       "      <td>984</td>\n",
       "      <td>550</td>\n",
       "      <td>86</td>\n",
       "      <td>238</td>\n",
       "    </tr>\n",
       "    <tr>\n",
       "      <th>4</th>\n",
       "      <td>10005</td>\n",
       "      <td>99633.0</td>\n",
       "      <td>5954</td>\n",
       "      <td>133</td>\n",
       "      <td>103</td>\n",
       "      <td>454</td>\n",
       "      <td>2745</td>\n",
       "      <td>1637</td>\n",
       "      <td>219</td>\n",
       "      <td>663</td>\n",
       "    </tr>\n",
       "  </tbody>\n",
       "</table>\n",
       "</div>"
      ],
      "text/plain": [
       "   Zipcode  IncomePerCapita  PopOver25  LessThanHS  HighSchool  SomeCollege  \\\n",
       "0    10001          77512.0      16328        1389        1665         2075   \n",
       "1    10002          26905.0      60932       21170       12718         8532   \n",
       "2    10003          79088.0      41182        1499        2810         4516   \n",
       "3    10004          98020.0       2279          29          87          305   \n",
       "4    10005          99633.0       5954         133         103          454   \n",
       "\n",
       "   Bachelor  Master  Doctorate  ProfSchool  \n",
       "0      6061    3412        519        1207  \n",
       "1     12721    4001        641        1149  \n",
       "2     17958    9094       1626        3679  \n",
       "3       984     550         86         238  \n",
       "4      2745    1637        219         663  "
      ]
     },
     "execution_count": 143,
     "metadata": {},
     "output_type": "execute_result"
    }
   ],
   "source": [
    "#Hint: you might want to use the dataframe \"data4\" in the session_05_02 diagnostics python notebook.\n",
    "data4 = pd.read_csv('data/IncomeEduReg.csv')\n",
    "data4.head()"
   ]
  },
  {
   "cell_type": "code",
   "execution_count": 144,
   "metadata": {},
   "outputs": [],
   "source": [
    "data4.dropna(inplace = True)"
   ]
  },
  {
   "cell_type": "code",
   "execution_count": 29,
   "metadata": {},
   "outputs": [],
   "source": [
    "data4 = pd.concat([data4.Zipcode,data4.IncomePerCapita,data4.iloc[:,3:].div(data4.PopOver25, axis = 0)], axis = 1)"
   ]
  },
  {
   "cell_type": "code",
   "execution_count": 30,
   "metadata": {},
   "outputs": [
    {
     "data": {
      "text/html": [
       "<div>\n",
       "<style scoped>\n",
       "    .dataframe tbody tr th:only-of-type {\n",
       "        vertical-align: middle;\n",
       "    }\n",
       "\n",
       "    .dataframe tbody tr th {\n",
       "        vertical-align: top;\n",
       "    }\n",
       "\n",
       "    .dataframe thead th {\n",
       "        text-align: right;\n",
       "    }\n",
       "</style>\n",
       "<table border=\"1\" class=\"dataframe\">\n",
       "  <thead>\n",
       "    <tr style=\"text-align: right;\">\n",
       "      <th></th>\n",
       "      <th>Zipcode</th>\n",
       "      <th>IncomePerCapita</th>\n",
       "      <th>LessThanHS</th>\n",
       "      <th>HighSchool</th>\n",
       "      <th>SomeCollege</th>\n",
       "      <th>Bachelor</th>\n",
       "      <th>Master</th>\n",
       "      <th>Doctorate</th>\n",
       "      <th>ProfSchool</th>\n",
       "    </tr>\n",
       "  </thead>\n",
       "  <tbody>\n",
       "    <tr>\n",
       "      <th>0</th>\n",
       "      <td>10001</td>\n",
       "      <td>77512.0</td>\n",
       "      <td>0.085069</td>\n",
       "      <td>0.101972</td>\n",
       "      <td>0.127082</td>\n",
       "      <td>0.371203</td>\n",
       "      <td>0.208966</td>\n",
       "      <td>0.031786</td>\n",
       "      <td>0.073922</td>\n",
       "    </tr>\n",
       "    <tr>\n",
       "      <th>1</th>\n",
       "      <td>10002</td>\n",
       "      <td>26905.0</td>\n",
       "      <td>0.347436</td>\n",
       "      <td>0.208724</td>\n",
       "      <td>0.140025</td>\n",
       "      <td>0.208774</td>\n",
       "      <td>0.065663</td>\n",
       "      <td>0.010520</td>\n",
       "      <td>0.018857</td>\n",
       "    </tr>\n",
       "    <tr>\n",
       "      <th>2</th>\n",
       "      <td>10003</td>\n",
       "      <td>79088.0</td>\n",
       "      <td>0.036399</td>\n",
       "      <td>0.068234</td>\n",
       "      <td>0.109660</td>\n",
       "      <td>0.436064</td>\n",
       "      <td>0.220825</td>\n",
       "      <td>0.039483</td>\n",
       "      <td>0.089335</td>\n",
       "    </tr>\n",
       "    <tr>\n",
       "      <th>3</th>\n",
       "      <td>10004</td>\n",
       "      <td>98020.0</td>\n",
       "      <td>0.012725</td>\n",
       "      <td>0.038175</td>\n",
       "      <td>0.133831</td>\n",
       "      <td>0.431768</td>\n",
       "      <td>0.241334</td>\n",
       "      <td>0.037736</td>\n",
       "      <td>0.104432</td>\n",
       "    </tr>\n",
       "    <tr>\n",
       "      <th>4</th>\n",
       "      <td>10005</td>\n",
       "      <td>99633.0</td>\n",
       "      <td>0.022338</td>\n",
       "      <td>0.017299</td>\n",
       "      <td>0.076251</td>\n",
       "      <td>0.461035</td>\n",
       "      <td>0.274941</td>\n",
       "      <td>0.036782</td>\n",
       "      <td>0.111354</td>\n",
       "    </tr>\n",
       "  </tbody>\n",
       "</table>\n",
       "</div>"
      ],
      "text/plain": [
       "   Zipcode  IncomePerCapita  LessThanHS  HighSchool  SomeCollege  Bachelor  \\\n",
       "0    10001          77512.0    0.085069    0.101972     0.127082  0.371203   \n",
       "1    10002          26905.0    0.347436    0.208724     0.140025  0.208774   \n",
       "2    10003          79088.0    0.036399    0.068234     0.109660  0.436064   \n",
       "3    10004          98020.0    0.012725    0.038175     0.133831  0.431768   \n",
       "4    10005          99633.0    0.022338    0.017299     0.076251  0.461035   \n",
       "\n",
       "     Master  Doctorate  ProfSchool  \n",
       "0  0.208966   0.031786    0.073922  \n",
       "1  0.065663   0.010520    0.018857  \n",
       "2  0.220825   0.039483    0.089335  \n",
       "3  0.241334   0.037736    0.104432  \n",
       "4  0.274941   0.036782    0.111354  "
      ]
     },
     "execution_count": 30,
     "metadata": {},
     "output_type": "execute_result"
    }
   ],
   "source": [
    "data4.head()"
   ]
  },
  {
   "cell_type": "code",
   "execution_count": 31,
   "metadata": {},
   "outputs": [],
   "source": [
    "data4['Other']=data4['LessThanHS']+data4['HighSchool']+data4['SomeCollege']"
   ]
  },
  {
   "cell_type": "code",
   "execution_count": 32,
   "metadata": {},
   "outputs": [],
   "source": [
    "data4['Advanced']=data4['Master']+data4['Doctorate']+data4['ProfSchool']"
   ]
  },
  {
   "cell_type": "code",
   "execution_count": 33,
   "metadata": {},
   "outputs": [
    {
     "name": "stdout",
     "output_type": "stream",
     "text": [
      "                            OLS Regression Results                            \n",
      "==============================================================================\n",
      "Dep. Variable:        IncomePerCapita   R-squared:                       0.841\n",
      "Model:                            OLS   Adj. R-squared:                  0.840\n",
      "Method:                 Least Squares   F-statistic:                     472.5\n",
      "Date:                Sat, 09 Nov 2019   Prob (F-statistic):           6.38e-72\n",
      "Time:                        14:32:40   Log-Likelihood:                -1954.6\n",
      "No. Observations:                 181   AIC:                             3915.\n",
      "Df Residuals:                     178   BIC:                             3925.\n",
      "Df Model:                           2                                         \n",
      "Covariance Type:            nonrobust                                         \n",
      "==============================================================================\n",
      "                 coef    std err          t      P>|t|      [0.025      0.975]\n",
      "------------------------------------------------------------------------------\n",
      "Other      -4433.1232   2504.641     -1.770      0.078   -9375.733     509.487\n",
      "Advanced    1.735e+05      2e+04      8.670      0.000    1.34e+05    2.13e+05\n",
      "Bachelor    6.273e+04   1.94e+04      3.226      0.001    2.44e+04    1.01e+05\n",
      "==============================================================================\n",
      "Omnibus:                       96.491   Durbin-Watson:                   1.736\n",
      "Prob(Omnibus):                  0.000   Jarque-Bera (JB):              938.202\n",
      "Skew:                           1.734   Prob(JB):                    1.87e-204\n",
      "Kurtosis:                      13.601   Cond. No.                         21.6\n",
      "==============================================================================\n",
      "\n",
      "Warnings:\n",
      "[1] Standard Errors assume that the covariance matrix of the errors is correctly specified.\n"
     ]
    }
   ],
   "source": [
    "lm2_1 = smf.ols(formula = 'IncomePerCapita~Other+Advanced+Bachelor-1', data = data4).fit()\n",
    "print(lm2_1.summary())"
   ]
  },
  {
   "cell_type": "markdown",
   "metadata": {
    "colab_type": "text",
    "id": "b_HKtxwCl22A"
   },
   "source": [
    "### Task 2: Visualize the regression fit by plotting the observation versus our prediction for the income per zip code."
   ]
  },
  {
   "cell_type": "code",
   "execution_count": 34,
   "metadata": {
    "colab": {},
    "colab_type": "code",
    "id": "OcpEPaK5mCx9"
   },
   "outputs": [
    {
     "data": {
      "image/png": "[encoded data removed]",
      "text/plain": [
       "<Figure size 432x288 with 1 Axes>"
      ]
     },
     "metadata": {
      "needs_background": "light"
     },
     "output_type": "display_data"
    }
   ],
   "source": [
    "#Your code here\n",
    "data4['Predicted_IncomePerCapita']=lm2_1.predict()\n",
    "fig, ax = plt.subplots() #get axis to plot on\n",
    "ax.set_xscale('log'); ax.set_yscale('log') #set up log-scale for axis\n",
    "data4.plot(ax=ax,kind='scatter',x='Predicted_IncomePerCapita',y='IncomePerCapita') #show the data\n",
    "ax.plot(data4.Predicted_IncomePerCapita,data4.Predicted_IncomePerCapita,'r-'); #show the regression line"
   ]
  },
  {
   "cell_type": "markdown",
   "metadata": {
    "colab_type": "text",
    "id": "wgcL8G7rmPTS"
   },
   "source": [
    "## Problem 3:Refer in class session_05_01 Scaling python notebook to complete this part of the assignment."
   ]
  },
  {
   "cell_type": "markdown",
   "metadata": {
    "colab_type": "text",
    "id": "IWz_qqNzmfGg"
   },
   "source": [
    "### Task 1:Establish a scaling relationship  Y∼CXq  between total, violent and property crime vs population (by running log-scale regression where Crime>0). Visualize on the log scale. Does  q=1  fall into the 95% confidence interval? What about 99% CI?"
   ]
  },
  {
   "cell_type": "code",
   "execution_count": 35,
   "metadata": {
    "colab": {},
    "colab_type": "code",
    "id": "xcGKr7cPmmhV"
   },
   "outputs": [],
   "source": [
    "#Your code here\n",
    "crime2014 = pd.read_csv('data/crime2014/R11460954_SL050.csv') #Load crime data"
   ]
  },
  {
   "cell_type": "code",
   "execution_count": 36,
   "metadata": {},
   "outputs": [],
   "source": [
    "#rename some columns\n",
    "crime2014.rename(columns = { u'SE_T001_001' : 'Population',\\\n",
    "                             u'SE_T002_001' : 'TotalCrime',\\\n",
    "                          u'SE_T002_002' : 'Violent', \\\n",
    "                          u'SE_T002_003' : 'Property' }, inplace=True)\n",
    "\n",
    "crime2014 = crime2014[[u'Geo_FIPS', u'Geo_NAME', u'Geo_QNAME', u'Geo_STATE', u'Geo_COUNTY', 'Population', 'TotalCrime' , 'Violent', 'Property']]"
   ]
  },
  {
   "cell_type": "code",
   "execution_count": 37,
   "metadata": {},
   "outputs": [
    {
     "data": {
      "text/html": [
       "<div>\n",
       "<style scoped>\n",
       "    .dataframe tbody tr th:only-of-type {\n",
       "        vertical-align: middle;\n",
       "    }\n",
       "\n",
       "    .dataframe tbody tr th {\n",
       "        vertical-align: top;\n",
       "    }\n",
       "\n",
       "    .dataframe thead th {\n",
       "        text-align: right;\n",
       "    }\n",
       "</style>\n",
       "<table border=\"1\" class=\"dataframe\">\n",
       "  <thead>\n",
       "    <tr style=\"text-align: right;\">\n",
       "      <th></th>\n",
       "      <th>Geo_FIPS</th>\n",
       "      <th>Geo_NAME</th>\n",
       "      <th>Geo_QNAME</th>\n",
       "      <th>Geo_STATE</th>\n",
       "      <th>Geo_COUNTY</th>\n",
       "      <th>Population</th>\n",
       "      <th>TotalCrime</th>\n",
       "      <th>Violent</th>\n",
       "      <th>Property</th>\n",
       "    </tr>\n",
       "  </thead>\n",
       "  <tbody>\n",
       "    <tr>\n",
       "      <th>0</th>\n",
       "      <td>01001</td>\n",
       "      <td>Autauga County</td>\n",
       "      <td>Autauga County, Alabama</td>\n",
       "      <td>1</td>\n",
       "      <td>001</td>\n",
       "      <td>55395.0</td>\n",
       "      <td>482</td>\n",
       "      <td>68</td>\n",
       "      <td>414</td>\n",
       "    </tr>\n",
       "    <tr>\n",
       "      <th>1</th>\n",
       "      <td>01003</td>\n",
       "      <td>Baldwin County</td>\n",
       "      <td>Baldwin County, Alabama</td>\n",
       "      <td>1</td>\n",
       "      <td>003</td>\n",
       "      <td>200111.0</td>\n",
       "      <td>760</td>\n",
       "      <td>98</td>\n",
       "      <td>662</td>\n",
       "    </tr>\n",
       "    <tr>\n",
       "      <th>2</th>\n",
       "      <td>01005</td>\n",
       "      <td>Barbour County</td>\n",
       "      <td>Barbour County, Alabama</td>\n",
       "      <td>1</td>\n",
       "      <td>005</td>\n",
       "      <td>26887.0</td>\n",
       "      <td>145</td>\n",
       "      <td>17</td>\n",
       "      <td>128</td>\n",
       "    </tr>\n",
       "    <tr>\n",
       "      <th>3</th>\n",
       "      <td>01007</td>\n",
       "      <td>Bibb County</td>\n",
       "      <td>Bibb County, Alabama</td>\n",
       "      <td>1</td>\n",
       "      <td>007</td>\n",
       "      <td>22506.0</td>\n",
       "      <td>86</td>\n",
       "      <td>4</td>\n",
       "      <td>82</td>\n",
       "    </tr>\n",
       "    <tr>\n",
       "      <th>4</th>\n",
       "      <td>01009</td>\n",
       "      <td>Blount County</td>\n",
       "      <td>Blount County, Alabama</td>\n",
       "      <td>1</td>\n",
       "      <td>009</td>\n",
       "      <td>57719.0</td>\n",
       "      <td>1013</td>\n",
       "      <td>90</td>\n",
       "      <td>923</td>\n",
       "    </tr>\n",
       "  </tbody>\n",
       "</table>\n",
       "</div>"
      ],
      "text/plain": [
       "  Geo_FIPS        Geo_NAME                Geo_QNAME  Geo_STATE Geo_COUNTY  \\\n",
       "0    01001  Autauga County  Autauga County, Alabama          1        001   \n",
       "1    01003  Baldwin County  Baldwin County, Alabama          1        003   \n",
       "2    01005  Barbour County  Barbour County, Alabama          1        005   \n",
       "3    01007     Bibb County     Bibb County, Alabama          1        007   \n",
       "4    01009   Blount County   Blount County, Alabama          1        009   \n",
       "\n",
       "   Population  TotalCrime  Violent  Property  \n",
       "0     55395.0         482       68       414  \n",
       "1    200111.0         760       98       662  \n",
       "2     26887.0         145       17       128  \n",
       "3     22506.0          86        4        82  \n",
       "4     57719.0        1013       90       923  "
      ]
     },
     "execution_count": 37,
     "metadata": {},
     "output_type": "execute_result"
    }
   ],
   "source": [
    "crime2014.head()"
   ]
  },
  {
   "cell_type": "code",
   "execution_count": 38,
   "metadata": {},
   "outputs": [
    {
     "data": {
      "text/html": [
       "<div>\n",
       "<style scoped>\n",
       "    .dataframe tbody tr th:only-of-type {\n",
       "        vertical-align: middle;\n",
       "    }\n",
       "\n",
       "    .dataframe tbody tr th {\n",
       "        vertical-align: top;\n",
       "    }\n",
       "\n",
       "    .dataframe thead th {\n",
       "        text-align: right;\n",
       "    }\n",
       "</style>\n",
       "<table border=\"1\" class=\"dataframe\">\n",
       "  <thead>\n",
       "    <tr style=\"text-align: right;\">\n",
       "      <th></th>\n",
       "      <th>Geo_FIPS</th>\n",
       "      <th>Geo_NAME</th>\n",
       "      <th>Geo_QNAME</th>\n",
       "      <th>Geo_STATE</th>\n",
       "      <th>Geo_COUNTY</th>\n",
       "      <th>Population</th>\n",
       "      <th>TotalCrime</th>\n",
       "      <th>Violent</th>\n",
       "      <th>Property</th>\n",
       "    </tr>\n",
       "  </thead>\n",
       "  <tbody>\n",
       "    <tr>\n",
       "      <th>1429</th>\n",
       "      <td>34017</td>\n",
       "      <td>Hudson County</td>\n",
       "      <td>Hudson County, New Jersey</td>\n",
       "      <td>34</td>\n",
       "      <td>017</td>\n",
       "      <td>669115.0</td>\n",
       "      <td>0</td>\n",
       "      <td>0</td>\n",
       "      <td>0</td>\n",
       "    </tr>\n",
       "    <tr>\n",
       "      <th>1491</th>\n",
       "      <td>36043</td>\n",
       "      <td>Herkimer County</td>\n",
       "      <td>Herkimer County, New York</td>\n",
       "      <td>36</td>\n",
       "      <td>043</td>\n",
       "      <td>63744.0</td>\n",
       "      <td>0</td>\n",
       "      <td>0</td>\n",
       "      <td>0</td>\n",
       "    </tr>\n",
       "    <tr>\n",
       "      <th>1857</th>\n",
       "      <td>42119</td>\n",
       "      <td>Union County</td>\n",
       "      <td>Union County, Pennsylvania</td>\n",
       "      <td>42</td>\n",
       "      <td>119</td>\n",
       "      <td>44874.0</td>\n",
       "      <td>0</td>\n",
       "      <td>0</td>\n",
       "      <td>0</td>\n",
       "    </tr>\n",
       "    <tr>\n",
       "      <th>1856</th>\n",
       "      <td>42117</td>\n",
       "      <td>Tioga County</td>\n",
       "      <td>Tioga County, Pennsylvania</td>\n",
       "      <td>42</td>\n",
       "      <td>117</td>\n",
       "      <td>42274.0</td>\n",
       "      <td>0</td>\n",
       "      <td>0</td>\n",
       "      <td>0</td>\n",
       "    </tr>\n",
       "    <tr>\n",
       "      <th>1854</th>\n",
       "      <td>42107</td>\n",
       "      <td>Schuylkill County</td>\n",
       "      <td>Schuylkill County, Pennsylvania</td>\n",
       "      <td>42</td>\n",
       "      <td>107</td>\n",
       "      <td>145797.0</td>\n",
       "      <td>0</td>\n",
       "      <td>0</td>\n",
       "      <td>0</td>\n",
       "    </tr>\n",
       "  </tbody>\n",
       "</table>\n",
       "</div>"
      ],
      "text/plain": [
       "     Geo_FIPS           Geo_NAME                        Geo_QNAME  Geo_STATE  \\\n",
       "1429    34017      Hudson County        Hudson County, New Jersey         34   \n",
       "1491    36043    Herkimer County        Herkimer County, New York         36   \n",
       "1857    42119       Union County       Union County, Pennsylvania         42   \n",
       "1856    42117       Tioga County       Tioga County, Pennsylvania         42   \n",
       "1854    42107  Schuylkill County  Schuylkill County, Pennsylvania         42   \n",
       "\n",
       "     Geo_COUNTY  Population  TotalCrime  Violent  Property  \n",
       "1429        017    669115.0           0        0         0  \n",
       "1491        043     63744.0           0        0         0  \n",
       "1857        119     44874.0           0        0         0  \n",
       "1856        117     42274.0           0        0         0  \n",
       "1854        107    145797.0           0        0         0  "
      ]
     },
     "execution_count": 38,
     "metadata": {},
     "output_type": "execute_result"
    }
   ],
   "source": [
    "crime2014.sort_values(by='TotalCrime',ascending=True, inplace=True)\n",
    "crime2014.head()"
   ]
  },
  {
   "cell_type": "code",
   "execution_count": 39,
   "metadata": {},
   "outputs": [],
   "source": [
    "#select crime>0\n",
    "crime2014=crime2014[(crime2014[\"TotalCrime\"]>0)&(crime2014[\"Violent\"]>0)&(crime2014[\"Property\"]>0)]"
   ]
  },
  {
   "cell_type": "code",
   "execution_count": 40,
   "metadata": {},
   "outputs": [],
   "source": [
    "demographics = pd.read_csv('data/acs2014/R11460953_SL050.csv')\n",
    "msa = pd.read_csv('msalist.csv')"
   ]
  },
  {
   "cell_type": "code",
   "execution_count": 41,
   "metadata": {},
   "outputs": [
    {
     "data": {
      "text/html": [
       "<div>\n",
       "<style scoped>\n",
       "    .dataframe tbody tr th:only-of-type {\n",
       "        vertical-align: middle;\n",
       "    }\n",
       "\n",
       "    .dataframe tbody tr th {\n",
       "        vertical-align: top;\n",
       "    }\n",
       "\n",
       "    .dataframe thead th {\n",
       "        text-align: right;\n",
       "    }\n",
       "</style>\n",
       "<table border=\"1\" class=\"dataframe\">\n",
       "  <thead>\n",
       "    <tr style=\"text-align: right;\">\n",
       "      <th></th>\n",
       "      <th>Geo_FIPS_x</th>\n",
       "      <th>Geo_NAME</th>\n",
       "      <th>Geo_QNAME</th>\n",
       "      <th>Geo_STATE</th>\n",
       "      <th>Geo_COUNTY</th>\n",
       "      <th>Population</th>\n",
       "      <th>TotalCrime</th>\n",
       "      <th>Violent</th>\n",
       "      <th>Property</th>\n",
       "      <th>ID</th>\n",
       "      <th>msa</th>\n",
       "      <th>msa_name</th>\n",
       "      <th>Geo_FIPS_y</th>\n",
       "      <th>county</th>\n",
       "    </tr>\n",
       "  </thead>\n",
       "  <tbody>\n",
       "    <tr>\n",
       "      <th>0</th>\n",
       "      <td>34025</td>\n",
       "      <td>Monmouth County</td>\n",
       "      <td>Monmouth County, New Jersey</td>\n",
       "      <td>34</td>\n",
       "      <td>025</td>\n",
       "      <td>629279.0</td>\n",
       "      <td>2</td>\n",
       "      <td>1</td>\n",
       "      <td>1</td>\n",
       "      <td>34025.0</td>\n",
       "      <td>35620</td>\n",
       "      <td>New York-Newark-Jersey City, NY-NJ-PA (Metropo...</td>\n",
       "      <td>34025</td>\n",
       "      <td>Monmouth, NJ</td>\n",
       "    </tr>\n",
       "    <tr>\n",
       "      <th>1</th>\n",
       "      <td>42129</td>\n",
       "      <td>Westmoreland County</td>\n",
       "      <td>Westmoreland County, Pennsylvania</td>\n",
       "      <td>42</td>\n",
       "      <td>129</td>\n",
       "      <td>359320.0</td>\n",
       "      <td>2</td>\n",
       "      <td>1</td>\n",
       "      <td>1</td>\n",
       "      <td>42129.0</td>\n",
       "      <td>38300</td>\n",
       "      <td>Pittsburgh, PA (Metropolitan Statistical Area)</td>\n",
       "      <td>42129</td>\n",
       "      <td>Westmoreland, PA</td>\n",
       "    </tr>\n",
       "    <tr>\n",
       "      <th>2</th>\n",
       "      <td>34009</td>\n",
       "      <td>Cape May County</td>\n",
       "      <td>Cape May County, New Jersey</td>\n",
       "      <td>34</td>\n",
       "      <td>009</td>\n",
       "      <td>95344.0</td>\n",
       "      <td>3</td>\n",
       "      <td>2</td>\n",
       "      <td>1</td>\n",
       "      <td>34009.0</td>\n",
       "      <td>36140</td>\n",
       "      <td>Ocean City, NJ (Metropolitan Statistical Area)</td>\n",
       "      <td>34009</td>\n",
       "      <td>Cape May, NJ</td>\n",
       "    </tr>\n",
       "    <tr>\n",
       "      <th>3</th>\n",
       "      <td>13121</td>\n",
       "      <td>Fulton County</td>\n",
       "      <td>Fulton County, Georgia</td>\n",
       "      <td>13</td>\n",
       "      <td>121</td>\n",
       "      <td>996319.0</td>\n",
       "      <td>5</td>\n",
       "      <td>3</td>\n",
       "      <td>2</td>\n",
       "      <td>13121.0</td>\n",
       "      <td>12060</td>\n",
       "      <td>Atlanta-Sandy Springs-Roswell, GA (Metropolita...</td>\n",
       "      <td>13121</td>\n",
       "      <td>Fulton, GA</td>\n",
       "    </tr>\n",
       "    <tr>\n",
       "      <th>4</th>\n",
       "      <td>21185</td>\n",
       "      <td>Oldham County</td>\n",
       "      <td>Oldham County, Kentucky</td>\n",
       "      <td>21</td>\n",
       "      <td>185</td>\n",
       "      <td>63490.0</td>\n",
       "      <td>6</td>\n",
       "      <td>2</td>\n",
       "      <td>4</td>\n",
       "      <td>21185.0</td>\n",
       "      <td>31140</td>\n",
       "      <td>Louisville/Jefferson County, KY-IN (Metropolit...</td>\n",
       "      <td>21185</td>\n",
       "      <td>Oldham, KY</td>\n",
       "    </tr>\n",
       "  </tbody>\n",
       "</table>\n",
       "</div>"
      ],
      "text/plain": [
       "  Geo_FIPS_x             Geo_NAME                          Geo_QNAME  \\\n",
       "0      34025      Monmouth County        Monmouth County, New Jersey   \n",
       "1      42129  Westmoreland County  Westmoreland County, Pennsylvania   \n",
       "2      34009      Cape May County        Cape May County, New Jersey   \n",
       "3      13121        Fulton County             Fulton County, Georgia   \n",
       "4      21185        Oldham County            Oldham County, Kentucky   \n",
       "\n",
       "   Geo_STATE Geo_COUNTY  Population  TotalCrime  Violent  Property       ID  \\\n",
       "0         34        025    629279.0           2        1         1  34025.0   \n",
       "1         42        129    359320.0           2        1         1  42129.0   \n",
       "2         34        009     95344.0           3        2         1  34009.0   \n",
       "3         13        121    996319.0           5        3         2  13121.0   \n",
       "4         21        185     63490.0           6        2         4  21185.0   \n",
       "\n",
       "     msa                                           msa_name  Geo_FIPS_y  \\\n",
       "0  35620  New York-Newark-Jersey City, NY-NJ-PA (Metropo...       34025   \n",
       "1  38300     Pittsburgh, PA (Metropolitan Statistical Area)       42129   \n",
       "2  36140     Ocean City, NJ (Metropolitan Statistical Area)       34009   \n",
       "3  12060  Atlanta-Sandy Springs-Roswell, GA (Metropolita...       13121   \n",
       "4  31140  Louisville/Jefferson County, KY-IN (Metropolit...       21185   \n",
       "\n",
       "             county  \n",
       "0      Monmouth, NJ  \n",
       "1  Westmoreland, PA  \n",
       "2      Cape May, NJ  \n",
       "3        Fulton, GA  \n",
       "4        Oldham, KY  "
      ]
     },
     "execution_count": 41,
     "metadata": {},
     "output_type": "execute_result"
    }
   ],
   "source": [
    "#convert some location identifiers from string to numeric\n",
    "def num(s):\n",
    "    try:\n",
    "        return int(s)\n",
    "    except ValueError:\n",
    "        0\n",
    "\n",
    "demographics['ID'] = demographics.Geo_GEOID.apply(lambda x: num(x[7:]))\n",
    "crime2014['ID'] = crime2014.Geo_FIPS.apply(num)\n",
    "msa['ID'] = msa.Geo_FIPS.apply(num)\n",
    "\n",
    "demomsa = pd.merge(demographics, msa, on='ID', how='inner')\n",
    "crimemsa = pd.merge(crime2014, msa, on='ID', how='inner')\n",
    "crimemsa.head()"
   ]
  },
  {
   "cell_type": "code",
   "execution_count": 42,
   "metadata": {},
   "outputs": [
    {
     "data": {
      "text/html": [
       "<div>\n",
       "<style scoped>\n",
       "    .dataframe tbody tr th:only-of-type {\n",
       "        vertical-align: middle;\n",
       "    }\n",
       "\n",
       "    .dataframe tbody tr th {\n",
       "        vertical-align: top;\n",
       "    }\n",
       "\n",
       "    .dataframe thead th {\n",
       "        text-align: right;\n",
       "    }\n",
       "</style>\n",
       "<table border=\"1\" class=\"dataframe\">\n",
       "  <thead>\n",
       "    <tr style=\"text-align: right;\">\n",
       "      <th></th>\n",
       "      <th>Geo_FIPS_x</th>\n",
       "      <th>Geo_GEOID</th>\n",
       "      <th>Geo_NAME</th>\n",
       "      <th>Geo_QName</th>\n",
       "      <th>Geo_STUSAB</th>\n",
       "      <th>Geo_SUMLEV</th>\n",
       "      <th>Geo_GEOCOMP</th>\n",
       "      <th>Geo_FILEID</th>\n",
       "      <th>Geo_LOGRECNO</th>\n",
       "      <th>Geo_US</th>\n",
       "      <th>...</th>\n",
       "      <th>SE_T003_001</th>\n",
       "      <th>SE_T003_002</th>\n",
       "      <th>SE_T003_003</th>\n",
       "      <th>SE_T057_001</th>\n",
       "      <th>SE_T083_001</th>\n",
       "      <th>ID</th>\n",
       "      <th>msa</th>\n",
       "      <th>msa_name</th>\n",
       "      <th>Geo_FIPS_y</th>\n",
       "      <th>county</th>\n",
       "    </tr>\n",
       "  </thead>\n",
       "  <tbody>\n",
       "    <tr>\n",
       "      <th>0</th>\n",
       "      <td>1001</td>\n",
       "      <td>05000US01001</td>\n",
       "      <td>Autauga County, Alabama</td>\n",
       "      <td>Autauga County, Alabama</td>\n",
       "      <td>al</td>\n",
       "      <td>50</td>\n",
       "      <td>0</td>\n",
       "      <td>ACSSF</td>\n",
       "      <td>13</td>\n",
       "      <td>NaN</td>\n",
       "      <td>...</td>\n",
       "      <td>604.3882</td>\n",
       "      <td>594.4361</td>\n",
       "      <td>9.952067</td>\n",
       "      <td>52475</td>\n",
       "      <td>24644</td>\n",
       "      <td>1001</td>\n",
       "      <td>33860</td>\n",
       "      <td>Montgomery, AL (Metropolitan Statistical Area)</td>\n",
       "      <td>1001</td>\n",
       "      <td>Autauga, AL</td>\n",
       "    </tr>\n",
       "    <tr>\n",
       "      <th>1</th>\n",
       "      <td>1003</td>\n",
       "      <td>05000US01003</td>\n",
       "      <td>Baldwin County, Alabama</td>\n",
       "      <td>Baldwin County, Alabama</td>\n",
       "      <td>al</td>\n",
       "      <td>50</td>\n",
       "      <td>0</td>\n",
       "      <td>ACSSF</td>\n",
       "      <td>14</td>\n",
       "      <td>NaN</td>\n",
       "      <td>...</td>\n",
       "      <td>2027.3110</td>\n",
       "      <td>1589.7840</td>\n",
       "      <td>437.527200</td>\n",
       "      <td>50183</td>\n",
       "      <td>26851</td>\n",
       "      <td>1003</td>\n",
       "      <td>19300</td>\n",
       "      <td>Daphne-Fairhope-Foley, AL (Metropolitan Statis...</td>\n",
       "      <td>1003</td>\n",
       "      <td>Baldwin, AL</td>\n",
       "    </tr>\n",
       "    <tr>\n",
       "      <th>2</th>\n",
       "      <td>1007</td>\n",
       "      <td>05000US01007</td>\n",
       "      <td>Bibb County, Alabama</td>\n",
       "      <td>Bibb County, Alabama</td>\n",
       "      <td>al</td>\n",
       "      <td>50</td>\n",
       "      <td>0</td>\n",
       "      <td>ACSSF</td>\n",
       "      <td>16</td>\n",
       "      <td>NaN</td>\n",
       "      <td>...</td>\n",
       "      <td>626.1689</td>\n",
       "      <td>622.5823</td>\n",
       "      <td>3.586525</td>\n",
       "      <td>37984</td>\n",
       "      <td>18110</td>\n",
       "      <td>1007</td>\n",
       "      <td>13820</td>\n",
       "      <td>Birmingham-Hoover, AL (Metropolitan Statistica...</td>\n",
       "      <td>1007</td>\n",
       "      <td>Bibb, AL</td>\n",
       "    </tr>\n",
       "    <tr>\n",
       "      <th>3</th>\n",
       "      <td>1009</td>\n",
       "      <td>05000US01009</td>\n",
       "      <td>Blount County, Alabama</td>\n",
       "      <td>Blount County, Alabama</td>\n",
       "      <td>al</td>\n",
       "      <td>50</td>\n",
       "      <td>0</td>\n",
       "      <td>ACSSF</td>\n",
       "      <td>17</td>\n",
       "      <td>NaN</td>\n",
       "      <td>...</td>\n",
       "      <td>650.6282</td>\n",
       "      <td>644.7759</td>\n",
       "      <td>5.852321</td>\n",
       "      <td>44409</td>\n",
       "      <td>20501</td>\n",
       "      <td>1009</td>\n",
       "      <td>13820</td>\n",
       "      <td>Birmingham-Hoover, AL (Metropolitan Statistica...</td>\n",
       "      <td>1009</td>\n",
       "      <td>Blount, AL</td>\n",
       "    </tr>\n",
       "    <tr>\n",
       "      <th>4</th>\n",
       "      <td>1015</td>\n",
       "      <td>05000US01015</td>\n",
       "      <td>Calhoun County, Alabama</td>\n",
       "      <td>Calhoun County, Alabama</td>\n",
       "      <td>al</td>\n",
       "      <td>50</td>\n",
       "      <td>0</td>\n",
       "      <td>ACSSF</td>\n",
       "      <td>20</td>\n",
       "      <td>NaN</td>\n",
       "      <td>...</td>\n",
       "      <td>612.2863</td>\n",
       "      <td>605.8677</td>\n",
       "      <td>6.418665</td>\n",
       "      <td>40919</td>\n",
       "      <td>21306</td>\n",
       "      <td>1015</td>\n",
       "      <td>11500</td>\n",
       "      <td>Anniston-Oxford-Jacksonville, AL (Metropolitan...</td>\n",
       "      <td>1015</td>\n",
       "      <td>Calhoun, AL</td>\n",
       "    </tr>\n",
       "  </tbody>\n",
       "</table>\n",
       "<p>5 rows × 69 columns</p>\n",
       "</div>"
      ],
      "text/plain": [
       "   Geo_FIPS_x     Geo_GEOID                 Geo_NAME                Geo_QName  \\\n",
       "0        1001  05000US01001  Autauga County, Alabama  Autauga County, Alabama   \n",
       "1        1003  05000US01003  Baldwin County, Alabama  Baldwin County, Alabama   \n",
       "2        1007  05000US01007     Bibb County, Alabama     Bibb County, Alabama   \n",
       "3        1009  05000US01009   Blount County, Alabama   Blount County, Alabama   \n",
       "4        1015  05000US01015  Calhoun County, Alabama  Calhoun County, Alabama   \n",
       "\n",
       "  Geo_STUSAB  Geo_SUMLEV  Geo_GEOCOMP Geo_FILEID  Geo_LOGRECNO  Geo_US  ...  \\\n",
       "0         al          50            0      ACSSF            13     NaN  ...   \n",
       "1         al          50            0      ACSSF            14     NaN  ...   \n",
       "2         al          50            0      ACSSF            16     NaN  ...   \n",
       "3         al          50            0      ACSSF            17     NaN  ...   \n",
       "4         al          50            0      ACSSF            20     NaN  ...   \n",
       "\n",
       "   SE_T003_001  SE_T003_002  SE_T003_003  SE_T057_001  SE_T083_001    ID  \\\n",
       "0     604.3882     594.4361     9.952067        52475        24644  1001   \n",
       "1    2027.3110    1589.7840   437.527200        50183        26851  1003   \n",
       "2     626.1689     622.5823     3.586525        37984        18110  1007   \n",
       "3     650.6282     644.7759     5.852321        44409        20501  1009   \n",
       "4     612.2863     605.8677     6.418665        40919        21306  1015   \n",
       "\n",
       "     msa                                           msa_name  Geo_FIPS_y  \\\n",
       "0  33860     Montgomery, AL (Metropolitan Statistical Area)        1001   \n",
       "1  19300  Daphne-Fairhope-Foley, AL (Metropolitan Statis...        1003   \n",
       "2  13820  Birmingham-Hoover, AL (Metropolitan Statistica...        1007   \n",
       "3  13820  Birmingham-Hoover, AL (Metropolitan Statistica...        1009   \n",
       "4  11500  Anniston-Oxford-Jacksonville, AL (Metropolitan...        1015   \n",
       "\n",
       "        county  \n",
       "0  Autauga, AL  \n",
       "1  Baldwin, AL  \n",
       "2     Bibb, AL  \n",
       "3   Blount, AL  \n",
       "4  Calhoun, AL  \n",
       "\n",
       "[5 rows x 69 columns]"
      ]
     },
     "execution_count": 42,
     "metadata": {},
     "output_type": "execute_result"
    }
   ],
   "source": [
    "demomsa.head()"
   ]
  },
  {
   "cell_type": "markdown",
   "metadata": {},
   "source": [
    "Take the log-scale of Total Crime/Violent Crime/ Property Crime and population and do the regression with intercept"
   ]
  },
  {
   "cell_type": "code",
   "execution_count": 43,
   "metadata": {},
   "outputs": [
    {
     "data": {
      "text/html": [
       "<div>\n",
       "<style scoped>\n",
       "    .dataframe tbody tr th:only-of-type {\n",
       "        vertical-align: middle;\n",
       "    }\n",
       "\n",
       "    .dataframe tbody tr th {\n",
       "        vertical-align: top;\n",
       "    }\n",
       "\n",
       "    .dataframe thead th {\n",
       "        text-align: right;\n",
       "    }\n",
       "</style>\n",
       "<table border=\"1\" class=\"dataframe\">\n",
       "  <thead>\n",
       "    <tr style=\"text-align: right;\">\n",
       "      <th></th>\n",
       "      <th>Population</th>\n",
       "      <th>TotalCrime</th>\n",
       "      <th>Violent</th>\n",
       "      <th>Property</th>\n",
       "    </tr>\n",
       "    <tr>\n",
       "      <th>msa</th>\n",
       "      <th></th>\n",
       "      <th></th>\n",
       "      <th></th>\n",
       "      <th></th>\n",
       "    </tr>\n",
       "  </thead>\n",
       "  <tbody>\n",
       "    <tr>\n",
       "      <th>10180</th>\n",
       "      <td>168592.0</td>\n",
       "      <td>492</td>\n",
       "      <td>62</td>\n",
       "      <td>430</td>\n",
       "    </tr>\n",
       "    <tr>\n",
       "      <th>10420</th>\n",
       "      <td>703825.0</td>\n",
       "      <td>2397</td>\n",
       "      <td>106</td>\n",
       "      <td>2291</td>\n",
       "    </tr>\n",
       "    <tr>\n",
       "      <th>10500</th>\n",
       "      <td>151670.0</td>\n",
       "      <td>1364</td>\n",
       "      <td>107</td>\n",
       "      <td>1257</td>\n",
       "    </tr>\n",
       "    <tr>\n",
       "      <th>10540</th>\n",
       "      <td>119356.0</td>\n",
       "      <td>1092</td>\n",
       "      <td>23</td>\n",
       "      <td>1069</td>\n",
       "    </tr>\n",
       "    <tr>\n",
       "      <th>10580</th>\n",
       "      <td>880167.0</td>\n",
       "      <td>1590</td>\n",
       "      <td>91</td>\n",
       "      <td>1499</td>\n",
       "    </tr>\n",
       "  </tbody>\n",
       "</table>\n",
       "</div>"
      ],
      "text/plain": [
       "       Population  TotalCrime  Violent  Property\n",
       "msa                                             \n",
       "10180    168592.0         492       62       430\n",
       "10420    703825.0        2397      106      2291\n",
       "10500    151670.0        1364      107      1257\n",
       "10540    119356.0        1092       23      1069\n",
       "10580    880167.0        1590       91      1499"
      ]
     },
     "execution_count": 43,
     "metadata": {},
     "output_type": "execute_result"
    }
   ],
   "source": [
    "msaCrime = crimemsa.groupby(by='msa').sum().loc[:,[u'Population', u'TotalCrime', u'Violent', u'Property']]\n",
    "msaCrime.head()"
   ]
  },
  {
   "cell_type": "markdown",
   "metadata": {},
   "source": [
    "#Total Crime"
   ]
  },
  {
   "cell_type": "code",
   "execution_count": 44,
   "metadata": {},
   "outputs": [
    {
     "data": {
      "text/html": [
       "<div>\n",
       "<style scoped>\n",
       "    .dataframe tbody tr th:only-of-type {\n",
       "        vertical-align: middle;\n",
       "    }\n",
       "\n",
       "    .dataframe tbody tr th {\n",
       "        vertical-align: top;\n",
       "    }\n",
       "\n",
       "    .dataframe thead th {\n",
       "        text-align: right;\n",
       "    }\n",
       "</style>\n",
       "<table border=\"1\" class=\"dataframe\">\n",
       "  <thead>\n",
       "    <tr style=\"text-align: right;\">\n",
       "      <th></th>\n",
       "      <th>Population</th>\n",
       "      <th>TotalCrime</th>\n",
       "    </tr>\n",
       "    <tr>\n",
       "      <th>msa</th>\n",
       "      <th></th>\n",
       "      <th></th>\n",
       "    </tr>\n",
       "  </thead>\n",
       "  <tbody>\n",
       "    <tr>\n",
       "      <th>26420</th>\n",
       "      <td>15.685801</td>\n",
       "      <td>11.198352</td>\n",
       "    </tr>\n",
       "    <tr>\n",
       "      <th>33100</th>\n",
       "      <td>15.595504</td>\n",
       "      <td>11.025784</td>\n",
       "    </tr>\n",
       "    <tr>\n",
       "      <th>36740</th>\n",
       "      <td>14.657689</td>\n",
       "      <td>10.683661</td>\n",
       "    </tr>\n",
       "    <tr>\n",
       "      <th>45300</th>\n",
       "      <td>14.885580</td>\n",
       "      <td>10.571035</td>\n",
       "    </tr>\n",
       "    <tr>\n",
       "      <th>24860</th>\n",
       "      <td>13.667548</td>\n",
       "      <td>10.098890</td>\n",
       "    </tr>\n",
       "  </tbody>\n",
       "</table>\n",
       "</div>"
      ],
      "text/plain": [
       "       Population  TotalCrime\n",
       "msa                          \n",
       "26420   15.685801   11.198352\n",
       "33100   15.595504   11.025784\n",
       "36740   14.657689   10.683661\n",
       "45300   14.885580   10.571035\n",
       "24860   13.667548   10.098890"
      ]
     },
     "execution_count": 44,
     "metadata": {},
     "output_type": "execute_result"
    }
   ],
   "source": [
    "dataLog_TotalCrime = pd.DataFrame(data=[np.log(msaCrime['Population']), np.log(msaCrime['TotalCrime'])]).T\n",
    "dataLog_TotalCrime.sort_values(by='TotalCrime', ascending=False, inplace=True) #Sorting values for better visualization\n",
    "dataLog_TotalCrime.head()"
   ]
  },
  {
   "cell_type": "code",
   "execution_count": 45,
   "metadata": {},
   "outputs": [
    {
     "data": {
      "text/html": [
       "<table class=\"simpletable\">\n",
       "<caption>OLS Regression Results</caption>\n",
       "<tr>\n",
       "  <th>Dep. Variable:</th>       <td>TotalCrime</td>    <th>  R-squared:         </th> <td>   0.493</td>\n",
       "</tr>\n",
       "<tr>\n",
       "  <th>Model:</th>                   <td>OLS</td>       <th>  Adj. R-squared:    </th> <td>   0.492</td>\n",
       "</tr>\n",
       "<tr>\n",
       "  <th>Method:</th>             <td>Least Squares</td>  <th>  F-statistic:       </th> <td>   321.2</td>\n",
       "</tr>\n",
       "<tr>\n",
       "  <th>Date:</th>             <td>Sat, 09 Nov 2019</td> <th>  Prob (F-statistic):</th> <td>1.21e-50</td>\n",
       "</tr>\n",
       "<tr>\n",
       "  <th>Time:</th>                 <td>14:32:42</td>     <th>  Log-Likelihood:    </th> <td> -447.71</td>\n",
       "</tr>\n",
       "<tr>\n",
       "  <th>No. Observations:</th>      <td>   332</td>      <th>  AIC:               </th> <td>   899.4</td>\n",
       "</tr>\n",
       "<tr>\n",
       "  <th>Df Residuals:</th>          <td>   330</td>      <th>  BIC:               </th> <td>   907.0</td>\n",
       "</tr>\n",
       "<tr>\n",
       "  <th>Df Model:</th>              <td>     1</td>      <th>                     </th>     <td> </td>   \n",
       "</tr>\n",
       "<tr>\n",
       "  <th>Covariance Type:</th>      <td>nonrobust</td>    <th>                     </th>     <td> </td>   \n",
       "</tr>\n",
       "</table>\n",
       "<table class=\"simpletable\">\n",
       "<tr>\n",
       "       <td></td>         <th>coef</th>     <th>std err</th>      <th>t</th>      <th>P>|t|</th>  <th>[0.025</th>    <th>0.975]</th>  \n",
       "</tr>\n",
       "<tr>\n",
       "  <th>Intercept</th>  <td>   -3.5478</td> <td>    0.603</td> <td>   -5.881</td> <td> 0.000</td> <td>   -4.735</td> <td>   -2.361</td>\n",
       "</tr>\n",
       "<tr>\n",
       "  <th>Population</th> <td>    0.8618</td> <td>    0.048</td> <td>   17.923</td> <td> 0.000</td> <td>    0.767</td> <td>    0.956</td>\n",
       "</tr>\n",
       "</table>\n",
       "<table class=\"simpletable\">\n",
       "<tr>\n",
       "  <th>Omnibus:</th>       <td>159.770</td> <th>  Durbin-Watson:     </th> <td>   0.712</td> \n",
       "</tr>\n",
       "<tr>\n",
       "  <th>Prob(Omnibus):</th> <td> 0.000</td>  <th>  Jarque-Bera (JB):  </th> <td>1391.487</td> \n",
       "</tr>\n",
       "<tr>\n",
       "  <th>Skew:</th>          <td>-1.789</td>  <th>  Prob(JB):          </th> <td>6.96e-303</td>\n",
       "</tr>\n",
       "<tr>\n",
       "  <th>Kurtosis:</th>      <td>12.370</td>  <th>  Cond. No.          </th> <td>    148.</td> \n",
       "</tr>\n",
       "</table><br/><br/>Warnings:<br/>[1] Standard Errors assume that the covariance matrix of the errors is correctly specified."
      ],
      "text/plain": [
       "<class 'statsmodels.iolib.summary.Summary'>\n",
       "\"\"\"\n",
       "                            OLS Regression Results                            \n",
       "==============================================================================\n",
       "Dep. Variable:             TotalCrime   R-squared:                       0.493\n",
       "Model:                            OLS   Adj. R-squared:                  0.492\n",
       "Method:                 Least Squares   F-statistic:                     321.2\n",
       "Date:                Sat, 09 Nov 2019   Prob (F-statistic):           1.21e-50\n",
       "Time:                        14:32:42   Log-Likelihood:                -447.71\n",
       "No. Observations:                 332   AIC:                             899.4\n",
       "Df Residuals:                     330   BIC:                             907.0\n",
       "Df Model:                           1                                         \n",
       "Covariance Type:            nonrobust                                         \n",
       "==============================================================================\n",
       "                 coef    std err          t      P>|t|      [0.025      0.975]\n",
       "------------------------------------------------------------------------------\n",
       "Intercept     -3.5478      0.603     -5.881      0.000      -4.735      -2.361\n",
       "Population     0.8618      0.048     17.923      0.000       0.767       0.956\n",
       "==============================================================================\n",
       "Omnibus:                      159.770   Durbin-Watson:                   0.712\n",
       "Prob(Omnibus):                  0.000   Jarque-Bera (JB):             1391.487\n",
       "Skew:                          -1.789   Prob(JB):                    6.96e-303\n",
       "Kurtosis:                      12.370   Cond. No.                         148.\n",
       "==============================================================================\n",
       "\n",
       "Warnings:\n",
       "[1] Standard Errors assume that the covariance matrix of the errors is correctly specified.\n",
       "\"\"\""
      ]
     },
     "execution_count": 45,
     "metadata": {},
     "output_type": "execute_result"
    }
   ],
   "source": [
    "#Performing OLS regression\n",
    "lmTotalCrime=smf.ols('TotalCrime~Population',data=dataLog_TotalCrime).fit()\n",
    "lmTotalCrime.summary()"
   ]
  },
  {
   "cell_type": "code",
   "execution_count": 46,
   "metadata": {},
   "outputs": [
    {
     "data": {
      "text/html": [
       "<div>\n",
       "<style scoped>\n",
       "    .dataframe tbody tr th:only-of-type {\n",
       "        vertical-align: middle;\n",
       "    }\n",
       "\n",
       "    .dataframe tbody tr th {\n",
       "        vertical-align: top;\n",
       "    }\n",
       "\n",
       "    .dataframe thead th {\n",
       "        text-align: right;\n",
       "    }\n",
       "</style>\n",
       "<table border=\"1\" class=\"dataframe\">\n",
       "  <thead>\n",
       "    <tr style=\"text-align: right;\">\n",
       "      <th></th>\n",
       "      <th>0</th>\n",
       "      <th>1</th>\n",
       "    </tr>\n",
       "  </thead>\n",
       "  <tbody>\n",
       "    <tr>\n",
       "      <th>Intercept</th>\n",
       "      <td>-4.734608</td>\n",
       "      <td>-2.360980</td>\n",
       "    </tr>\n",
       "    <tr>\n",
       "      <th>Population</th>\n",
       "      <td>0.767242</td>\n",
       "      <td>0.956422</td>\n",
       "    </tr>\n",
       "  </tbody>\n",
       "</table>\n",
       "</div>"
      ],
      "text/plain": [
       "                   0         1\n",
       "Intercept  -4.734608 -2.360980\n",
       "Population  0.767242  0.956422"
      ]
     },
     "execution_count": 46,
     "metadata": {},
     "output_type": "execute_result"
    }
   ],
   "source": [
    "lmTotalCrime.conf_int(alpha=0.05)"
   ]
  },
  {
   "cell_type": "code",
   "execution_count": 47,
   "metadata": {},
   "outputs": [
    {
     "data": {
      "text/html": [
       "<div>\n",
       "<style scoped>\n",
       "    .dataframe tbody tr th:only-of-type {\n",
       "        vertical-align: middle;\n",
       "    }\n",
       "\n",
       "    .dataframe tbody tr th {\n",
       "        vertical-align: top;\n",
       "    }\n",
       "\n",
       "    .dataframe thead th {\n",
       "        text-align: right;\n",
       "    }\n",
       "</style>\n",
       "<table border=\"1\" class=\"dataframe\">\n",
       "  <thead>\n",
       "    <tr style=\"text-align: right;\">\n",
       "      <th></th>\n",
       "      <th>0</th>\n",
       "      <th>1</th>\n",
       "    </tr>\n",
       "  </thead>\n",
       "  <tbody>\n",
       "    <tr>\n",
       "      <th>Intercept</th>\n",
       "      <td>-5.110849</td>\n",
       "      <td>-1.984739</td>\n",
       "    </tr>\n",
       "    <tr>\n",
       "      <th>Population</th>\n",
       "      <td>0.737255</td>\n",
       "      <td>0.986409</td>\n",
       "    </tr>\n",
       "  </tbody>\n",
       "</table>\n",
       "</div>"
      ],
      "text/plain": [
       "                   0         1\n",
       "Intercept  -5.110849 -1.984739\n",
       "Population  0.737255  0.986409"
      ]
     },
     "execution_count": 47,
     "metadata": {},
     "output_type": "execute_result"
    }
   ],
   "source": [
    "lmTotalCrime.conf_int(alpha=0.01)"
   ]
  },
  {
   "cell_type": "markdown",
   "metadata": {},
   "source": [
    "q=1 doesn't fall into the 95% CI nor 99% CI."
   ]
  },
  {
   "cell_type": "code",
   "execution_count": 48,
   "metadata": {},
   "outputs": [
    {
     "data": {
      "text/plain": [
       "<matplotlib.legend.Legend at 0x1c25b0d190>"
      ]
     },
     "execution_count": 48,
     "metadata": {},
     "output_type": "execute_result"
    },
    {
     "data": {
      "image/png": "[encoded data removed]",
      "text/plain": [
       "<Figure size 720x576 with 1 Axes>"
      ]
     },
     "metadata": {
      "needs_background": "light"
     },
     "output_type": "display_data"
    }
   ],
   "source": [
    "#Visualizing the regression fit\n",
    "plt.figure(figsize=(10,8))\n",
    "plt.plot(dataLog_TotalCrime['Population'], dataLog_TotalCrime['TotalCrime'], 'o')\n",
    "plt.title('TotalCrime vs population', fontsize = 15)\n",
    "plt.plot(dataLog_TotalCrime['Population'], lmTotalCrime.predict(), '-r')\n",
    "plt.xlabel('Population')\n",
    "plt.ylabel('TotalCrime')\n",
    "plt.legend()"
   ]
  },
  {
   "cell_type": "markdown",
   "metadata": {},
   "source": [
    "#Total Violent Crime"
   ]
  },
  {
   "cell_type": "code",
   "execution_count": 49,
   "metadata": {},
   "outputs": [
    {
     "data": {
      "text/html": [
       "<div>\n",
       "<style scoped>\n",
       "    .dataframe tbody tr th:only-of-type {\n",
       "        vertical-align: middle;\n",
       "    }\n",
       "\n",
       "    .dataframe tbody tr th {\n",
       "        vertical-align: top;\n",
       "    }\n",
       "\n",
       "    .dataframe thead th {\n",
       "        text-align: right;\n",
       "    }\n",
       "</style>\n",
       "<table border=\"1\" class=\"dataframe\">\n",
       "  <thead>\n",
       "    <tr style=\"text-align: right;\">\n",
       "      <th></th>\n",
       "      <th>Population</th>\n",
       "      <th>Violent</th>\n",
       "    </tr>\n",
       "    <tr>\n",
       "      <th>msa</th>\n",
       "      <th></th>\n",
       "      <th></th>\n",
       "    </tr>\n",
       "  </thead>\n",
       "  <tbody>\n",
       "    <tr>\n",
       "      <th>26420</th>\n",
       "      <td>15.685801</td>\n",
       "      <td>9.287764</td>\n",
       "    </tr>\n",
       "    <tr>\n",
       "      <th>33100</th>\n",
       "      <td>15.595504</td>\n",
       "      <td>9.090768</td>\n",
       "    </tr>\n",
       "    <tr>\n",
       "      <th>36740</th>\n",
       "      <td>14.657689</td>\n",
       "      <td>8.882114</td>\n",
       "    </tr>\n",
       "    <tr>\n",
       "      <th>31080</th>\n",
       "      <td>16.400430</td>\n",
       "      <td>8.583543</td>\n",
       "    </tr>\n",
       "    <tr>\n",
       "      <th>45300</th>\n",
       "      <td>14.885580</td>\n",
       "      <td>8.373323</td>\n",
       "    </tr>\n",
       "  </tbody>\n",
       "</table>\n",
       "</div>"
      ],
      "text/plain": [
       "       Population   Violent\n",
       "msa                        \n",
       "26420   15.685801  9.287764\n",
       "33100   15.595504  9.090768\n",
       "36740   14.657689  8.882114\n",
       "31080   16.400430  8.583543\n",
       "45300   14.885580  8.373323"
      ]
     },
     "execution_count": 49,
     "metadata": {},
     "output_type": "execute_result"
    }
   ],
   "source": [
    "dataLog_Violent=pd.DataFrame(data=[np.log(msaCrime['Population']),np.log(msaCrime['Violent'])]).T\n",
    "dataLog_Violent.sort_values(by='Violent',ascending=False,inplace=True)\n",
    "dataLog_Violent.head()"
   ]
  },
  {
   "cell_type": "code",
   "execution_count": 50,
   "metadata": {},
   "outputs": [
    {
     "data": {
      "text/html": [
       "<table class=\"simpletable\">\n",
       "<caption>OLS Regression Results</caption>\n",
       "<tr>\n",
       "  <th>Dep. Variable:</th>         <td>Violent</td>     <th>  R-squared:         </th> <td>   0.517</td>\n",
       "</tr>\n",
       "<tr>\n",
       "  <th>Model:</th>                   <td>OLS</td>       <th>  Adj. R-squared:    </th> <td>   0.515</td>\n",
       "</tr>\n",
       "<tr>\n",
       "  <th>Method:</th>             <td>Least Squares</td>  <th>  F-statistic:       </th> <td>   352.9</td>\n",
       "</tr>\n",
       "<tr>\n",
       "  <th>Date:</th>             <td>Sat, 09 Nov 2019</td> <th>  Prob (F-statistic):</th> <td>4.69e-54</td>\n",
       "</tr>\n",
       "<tr>\n",
       "  <th>Time:</th>                 <td>14:32:43</td>     <th>  Log-Likelihood:    </th> <td> -459.36</td>\n",
       "</tr>\n",
       "<tr>\n",
       "  <th>No. Observations:</th>      <td>   332</td>      <th>  AIC:               </th> <td>   922.7</td>\n",
       "</tr>\n",
       "<tr>\n",
       "  <th>Df Residuals:</th>          <td>   330</td>      <th>  BIC:               </th> <td>   930.3</td>\n",
       "</tr>\n",
       "<tr>\n",
       "  <th>Df Model:</th>              <td>     1</td>      <th>                     </th>     <td> </td>   \n",
       "</tr>\n",
       "<tr>\n",
       "  <th>Covariance Type:</th>      <td>nonrobust</td>    <th>                     </th>     <td> </td>   \n",
       "</tr>\n",
       "</table>\n",
       "<table class=\"simpletable\">\n",
       "<tr>\n",
       "       <td></td>         <th>coef</th>     <th>std err</th>      <th>t</th>      <th>P>|t|</th>  <th>[0.025</th>    <th>0.975]</th>  \n",
       "</tr>\n",
       "<tr>\n",
       "  <th>Intercept</th>  <td>   -6.7032</td> <td>    0.625</td> <td>  -10.728</td> <td> 0.000</td> <td>   -7.932</td> <td>   -5.474</td>\n",
       "</tr>\n",
       "<tr>\n",
       "  <th>Population</th> <td>    0.9355</td> <td>    0.050</td> <td>   18.785</td> <td> 0.000</td> <td>    0.838</td> <td>    1.034</td>\n",
       "</tr>\n",
       "</table>\n",
       "<table class=\"simpletable\">\n",
       "<tr>\n",
       "  <th>Omnibus:</th>       <td>18.365</td> <th>  Durbin-Watson:     </th> <td>   0.896</td>\n",
       "</tr>\n",
       "<tr>\n",
       "  <th>Prob(Omnibus):</th> <td> 0.000</td> <th>  Jarque-Bera (JB):  </th> <td>  23.217</td>\n",
       "</tr>\n",
       "<tr>\n",
       "  <th>Skew:</th>          <td>-0.461</td> <th>  Prob(JB):          </th> <td>9.09e-06</td>\n",
       "</tr>\n",
       "<tr>\n",
       "  <th>Kurtosis:</th>      <td> 3.911</td> <th>  Cond. No.          </th> <td>    148.</td>\n",
       "</tr>\n",
       "</table><br/><br/>Warnings:<br/>[1] Standard Errors assume that the covariance matrix of the errors is correctly specified."
      ],
      "text/plain": [
       "<class 'statsmodels.iolib.summary.Summary'>\n",
       "\"\"\"\n",
       "                            OLS Regression Results                            \n",
       "==============================================================================\n",
       "Dep. Variable:                Violent   R-squared:                       0.517\n",
       "Model:                            OLS   Adj. R-squared:                  0.515\n",
       "Method:                 Least Squares   F-statistic:                     352.9\n",
       "Date:                Sat, 09 Nov 2019   Prob (F-statistic):           4.69e-54\n",
       "Time:                        14:32:43   Log-Likelihood:                -459.36\n",
       "No. Observations:                 332   AIC:                             922.7\n",
       "Df Residuals:                     330   BIC:                             930.3\n",
       "Df Model:                           1                                         \n",
       "Covariance Type:            nonrobust                                         \n",
       "==============================================================================\n",
       "                 coef    std err          t      P>|t|      [0.025      0.975]\n",
       "------------------------------------------------------------------------------\n",
       "Intercept     -6.7032      0.625    -10.728      0.000      -7.932      -5.474\n",
       "Population     0.9355      0.050     18.785      0.000       0.838       1.034\n",
       "==============================================================================\n",
       "Omnibus:                       18.365   Durbin-Watson:                   0.896\n",
       "Prob(Omnibus):                  0.000   Jarque-Bera (JB):               23.217\n",
       "Skew:                          -0.461   Prob(JB):                     9.09e-06\n",
       "Kurtosis:                       3.911   Cond. No.                         148.\n",
       "==============================================================================\n",
       "\n",
       "Warnings:\n",
       "[1] Standard Errors assume that the covariance matrix of the errors is correctly specified.\n",
       "\"\"\""
      ]
     },
     "execution_count": 50,
     "metadata": {},
     "output_type": "execute_result"
    }
   ],
   "source": [
    "#Performing OLS regression\n",
    "lmViolent=smf.ols('Violent~Population',data=dataLog_Violent).fit()\n",
    "lmViolent.summary()"
   ]
  },
  {
   "cell_type": "code",
   "execution_count": 51,
   "metadata": {},
   "outputs": [
    {
     "data": {
      "text/html": [
       "<div>\n",
       "<style scoped>\n",
       "    .dataframe tbody tr th:only-of-type {\n",
       "        vertical-align: middle;\n",
       "    }\n",
       "\n",
       "    .dataframe tbody tr th {\n",
       "        vertical-align: top;\n",
       "    }\n",
       "\n",
       "    .dataframe thead th {\n",
       "        text-align: right;\n",
       "    }\n",
       "</style>\n",
       "<table border=\"1\" class=\"dataframe\">\n",
       "  <thead>\n",
       "    <tr style=\"text-align: right;\">\n",
       "      <th></th>\n",
       "      <th>0</th>\n",
       "      <th>1</th>\n",
       "    </tr>\n",
       "  </thead>\n",
       "  <tbody>\n",
       "    <tr>\n",
       "      <th>Intercept</th>\n",
       "      <td>-7.932402</td>\n",
       "      <td>-5.474003</td>\n",
       "    </tr>\n",
       "    <tr>\n",
       "      <th>Population</th>\n",
       "      <td>0.837568</td>\n",
       "      <td>1.033504</td>\n",
       "    </tr>\n",
       "  </tbody>\n",
       "</table>\n",
       "</div>"
      ],
      "text/plain": [
       "                   0         1\n",
       "Intercept  -7.932402 -5.474003\n",
       "Population  0.837568  1.033504"
      ]
     },
     "execution_count": 51,
     "metadata": {},
     "output_type": "execute_result"
    }
   ],
   "source": [
    "lmViolent.conf_int(alpha=0.05)"
   ]
  },
  {
   "cell_type": "code",
   "execution_count": 52,
   "metadata": {},
   "outputs": [
    {
     "data": {
      "text/html": [
       "<div>\n",
       "<style scoped>\n",
       "    .dataframe tbody tr th:only-of-type {\n",
       "        vertical-align: middle;\n",
       "    }\n",
       "\n",
       "    .dataframe tbody tr th {\n",
       "        vertical-align: top;\n",
       "    }\n",
       "\n",
       "    .dataframe thead th {\n",
       "        text-align: right;\n",
       "    }\n",
       "</style>\n",
       "<table border=\"1\" class=\"dataframe\">\n",
       "  <thead>\n",
       "    <tr style=\"text-align: right;\">\n",
       "      <th></th>\n",
       "      <th>0</th>\n",
       "      <th>1</th>\n",
       "    </tr>\n",
       "  </thead>\n",
       "  <tbody>\n",
       "    <tr>\n",
       "      <th>Intercept</th>\n",
       "      <td>-8.32208</td>\n",
       "      <td>-5.084325</td>\n",
       "    </tr>\n",
       "    <tr>\n",
       "      <th>Population</th>\n",
       "      <td>0.80651</td>\n",
       "      <td>1.064562</td>\n",
       "    </tr>\n",
       "  </tbody>\n",
       "</table>\n",
       "</div>"
      ],
      "text/plain": [
       "                  0         1\n",
       "Intercept  -8.32208 -5.084325\n",
       "Population  0.80651  1.064562"
      ]
     },
     "execution_count": 52,
     "metadata": {},
     "output_type": "execute_result"
    }
   ],
   "source": [
    "lmViolent.conf_int(alpha=0.01)"
   ]
  },
  {
   "cell_type": "markdown",
   "metadata": {},
   "source": [
    "q=1 fall into the 95% CI and 99% CI."
   ]
  },
  {
   "cell_type": "code",
   "execution_count": 53,
   "metadata": {},
   "outputs": [
    {
     "data": {
      "text/plain": [
       "<matplotlib.legend.Legend at 0x1c265c6490>"
      ]
     },
     "execution_count": 53,
     "metadata": {},
     "output_type": "execute_result"
    },
    {
     "data": {
      "image/png": "[encoded data removed]",
      "text/plain": [
       "<Figure size 720x576 with 1 Axes>"
      ]
     },
     "metadata": {
      "needs_background": "light"
     },
     "output_type": "display_data"
    }
   ],
   "source": [
    "#Visualizing the regression fit\n",
    "plt.figure(figsize=(10,8))\n",
    "plt.plot(dataLog_Violent['Population'], dataLog_Violent['Violent'], 'o')\n",
    "plt.title('Violent Crime vs population', fontsize = 15)\n",
    "plt.plot(dataLog_Violent['Population'], lmViolent.predict(), '-r')\n",
    "plt.xlabel('Population')\n",
    "plt.ylabel('Violent Crime')\n",
    "plt.legend()"
   ]
  },
  {
   "cell_type": "markdown",
   "metadata": {},
   "source": [
    "#Total Property Crime"
   ]
  },
  {
   "cell_type": "code",
   "execution_count": 54,
   "metadata": {},
   "outputs": [
    {
     "data": {
      "text/html": [
       "<div>\n",
       "<style scoped>\n",
       "    .dataframe tbody tr th:only-of-type {\n",
       "        vertical-align: middle;\n",
       "    }\n",
       "\n",
       "    .dataframe tbody tr th {\n",
       "        vertical-align: top;\n",
       "    }\n",
       "\n",
       "    .dataframe thead th {\n",
       "        text-align: right;\n",
       "    }\n",
       "</style>\n",
       "<table border=\"1\" class=\"dataframe\">\n",
       "  <thead>\n",
       "    <tr style=\"text-align: right;\">\n",
       "      <th></th>\n",
       "      <th>Population</th>\n",
       "      <th>Property</th>\n",
       "    </tr>\n",
       "    <tr>\n",
       "      <th>msa</th>\n",
       "      <th></th>\n",
       "      <th></th>\n",
       "    </tr>\n",
       "  </thead>\n",
       "  <tbody>\n",
       "    <tr>\n",
       "      <th>26420</th>\n",
       "      <td>15.685801</td>\n",
       "      <td>11.038191</td>\n",
       "    </tr>\n",
       "    <tr>\n",
       "      <th>33100</th>\n",
       "      <td>15.595504</td>\n",
       "      <td>10.869806</td>\n",
       "    </tr>\n",
       "    <tr>\n",
       "      <th>36740</th>\n",
       "      <td>14.657689</td>\n",
       "      <td>10.503285</td>\n",
       "    </tr>\n",
       "    <tr>\n",
       "      <th>45300</th>\n",
       "      <td>14.885580</td>\n",
       "      <td>10.453313</td>\n",
       "    </tr>\n",
       "    <tr>\n",
       "      <th>42660</th>\n",
       "      <td>15.116105</td>\n",
       "      <td>9.964206</td>\n",
       "    </tr>\n",
       "  </tbody>\n",
       "</table>\n",
       "</div>"
      ],
      "text/plain": [
       "       Population   Property\n",
       "msa                         \n",
       "26420   15.685801  11.038191\n",
       "33100   15.595504  10.869806\n",
       "36740   14.657689  10.503285\n",
       "45300   14.885580  10.453313\n",
       "42660   15.116105   9.964206"
      ]
     },
     "execution_count": 54,
     "metadata": {},
     "output_type": "execute_result"
    }
   ],
   "source": [
    "dataLog_Property = pd.DataFrame(data=[np.log(msaCrime['Population']), np.log(msaCrime['Property'])]).T\n",
    "dataLog_Property.sort_values(by='Property', ascending=False, inplace=True) #Sorting values for better visualization\n",
    "dataLog_Property.head()"
   ]
  },
  {
   "cell_type": "code",
   "execution_count": 55,
   "metadata": {},
   "outputs": [
    {
     "data": {
      "text/html": [
       "<table class=\"simpletable\">\n",
       "<caption>OLS Regression Results</caption>\n",
       "<tr>\n",
       "  <th>Dep. Variable:</th>        <td>Property</td>     <th>  R-squared:         </th> <td>   0.453</td>\n",
       "</tr>\n",
       "<tr>\n",
       "  <th>Model:</th>                   <td>OLS</td>       <th>  Adj. R-squared:    </th> <td>   0.452</td>\n",
       "</tr>\n",
       "<tr>\n",
       "  <th>Method:</th>             <td>Least Squares</td>  <th>  F-statistic:       </th> <td>   273.8</td>\n",
       "</tr>\n",
       "<tr>\n",
       "  <th>Date:</th>             <td>Sat, 09 Nov 2019</td> <th>  Prob (F-statistic):</th> <td>3.30e-45</td>\n",
       "</tr>\n",
       "<tr>\n",
       "  <th>Time:</th>                 <td>14:32:43</td>     <th>  Log-Likelihood:    </th> <td> -470.21</td>\n",
       "</tr>\n",
       "<tr>\n",
       "  <th>No. Observations:</th>      <td>   332</td>      <th>  AIC:               </th> <td>   944.4</td>\n",
       "</tr>\n",
       "<tr>\n",
       "  <th>Df Residuals:</th>          <td>   330</td>      <th>  BIC:               </th> <td>   952.0</td>\n",
       "</tr>\n",
       "<tr>\n",
       "  <th>Df Model:</th>              <td>     1</td>      <th>                     </th>     <td> </td>   \n",
       "</tr>\n",
       "<tr>\n",
       "  <th>Covariance Type:</th>      <td>nonrobust</td>    <th>                     </th>     <td> </td>   \n",
       "</tr>\n",
       "</table>\n",
       "<table class=\"simpletable\">\n",
       "<tr>\n",
       "       <td></td>         <th>coef</th>     <th>std err</th>      <th>t</th>      <th>P>|t|</th>  <th>[0.025</th>    <th>0.975]</th>  \n",
       "</tr>\n",
       "<tr>\n",
       "  <th>Intercept</th>  <td>   -3.5555</td> <td>    0.646</td> <td>   -5.507</td> <td> 0.000</td> <td>   -4.826</td> <td>   -2.285</td>\n",
       "</tr>\n",
       "<tr>\n",
       "  <th>Population</th> <td>    0.8515</td> <td>    0.051</td> <td>   16.547</td> <td> 0.000</td> <td>    0.750</td> <td>    0.953</td>\n",
       "</tr>\n",
       "</table>\n",
       "<table class=\"simpletable\">\n",
       "<tr>\n",
       "  <th>Omnibus:</th>       <td>224.552</td> <th>  Durbin-Watson:     </th> <td>   0.646</td>\n",
       "</tr>\n",
       "<tr>\n",
       "  <th>Prob(Omnibus):</th> <td> 0.000</td>  <th>  Jarque-Bera (JB):  </th> <td>3725.457</td>\n",
       "</tr>\n",
       "<tr>\n",
       "  <th>Skew:</th>          <td>-2.532</td>  <th>  Prob(JB):          </th> <td>    0.00</td>\n",
       "</tr>\n",
       "<tr>\n",
       "  <th>Kurtosis:</th>      <td>18.610</td>  <th>  Cond. No.          </th> <td>    148.</td>\n",
       "</tr>\n",
       "</table><br/><br/>Warnings:<br/>[1] Standard Errors assume that the covariance matrix of the errors is correctly specified."
      ],
      "text/plain": [
       "<class 'statsmodels.iolib.summary.Summary'>\n",
       "\"\"\"\n",
       "                            OLS Regression Results                            \n",
       "==============================================================================\n",
       "Dep. Variable:               Property   R-squared:                       0.453\n",
       "Model:                            OLS   Adj. R-squared:                  0.452\n",
       "Method:                 Least Squares   F-statistic:                     273.8\n",
       "Date:                Sat, 09 Nov 2019   Prob (F-statistic):           3.30e-45\n",
       "Time:                        14:32:43   Log-Likelihood:                -470.21\n",
       "No. Observations:                 332   AIC:                             944.4\n",
       "Df Residuals:                     330   BIC:                             952.0\n",
       "Df Model:                           1                                         \n",
       "Covariance Type:            nonrobust                                         \n",
       "==============================================================================\n",
       "                 coef    std err          t      P>|t|      [0.025      0.975]\n",
       "------------------------------------------------------------------------------\n",
       "Intercept     -3.5555      0.646     -5.507      0.000      -4.826      -2.285\n",
       "Population     0.8515      0.051     16.547      0.000       0.750       0.953\n",
       "==============================================================================\n",
       "Omnibus:                      224.552   Durbin-Watson:                   0.646\n",
       "Prob(Omnibus):                  0.000   Jarque-Bera (JB):             3725.457\n",
       "Skew:                          -2.532   Prob(JB):                         0.00\n",
       "Kurtosis:                      18.610   Cond. No.                         148.\n",
       "==============================================================================\n",
       "\n",
       "Warnings:\n",
       "[1] Standard Errors assume that the covariance matrix of the errors is correctly specified.\n",
       "\"\"\""
      ]
     },
     "execution_count": 55,
     "metadata": {},
     "output_type": "execute_result"
    }
   ],
   "source": [
    "#Performing OLS regression\n",
    "lmProperty=smf.ols('Property~Population',data=dataLog_Property).fit()\n",
    "lmProperty.summary()"
   ]
  },
  {
   "cell_type": "code",
   "execution_count": 56,
   "metadata": {},
   "outputs": [
    {
     "data": {
      "text/html": [
       "<div>\n",
       "<style scoped>\n",
       "    .dataframe tbody tr th:only-of-type {\n",
       "        vertical-align: middle;\n",
       "    }\n",
       "\n",
       "    .dataframe tbody tr th {\n",
       "        vertical-align: top;\n",
       "    }\n",
       "\n",
       "    .dataframe thead th {\n",
       "        text-align: right;\n",
       "    }\n",
       "</style>\n",
       "<table border=\"1\" class=\"dataframe\">\n",
       "  <thead>\n",
       "    <tr style=\"text-align: right;\">\n",
       "      <th></th>\n",
       "      <th>0</th>\n",
       "      <th>1</th>\n",
       "    </tr>\n",
       "  </thead>\n",
       "  <tbody>\n",
       "    <tr>\n",
       "      <th>Intercept</th>\n",
       "      <td>-4.825545</td>\n",
       "      <td>-2.285413</td>\n",
       "    </tr>\n",
       "    <tr>\n",
       "      <th>Population</th>\n",
       "      <td>0.750245</td>\n",
       "      <td>0.952696</td>\n",
       "    </tr>\n",
       "  </tbody>\n",
       "</table>\n",
       "</div>"
      ],
      "text/plain": [
       "                   0         1\n",
       "Intercept  -4.825545 -2.285413\n",
       "Population  0.750245  0.952696"
      ]
     },
     "execution_count": 56,
     "metadata": {},
     "output_type": "execute_result"
    }
   ],
   "source": [
    "lmProperty.conf_int(alpha=0.05)"
   ]
  },
  {
   "cell_type": "code",
   "execution_count": 57,
   "metadata": {},
   "outputs": [
    {
     "data": {
      "text/html": [
       "<div>\n",
       "<style scoped>\n",
       "    .dataframe tbody tr th:only-of-type {\n",
       "        vertical-align: middle;\n",
       "    }\n",
       "\n",
       "    .dataframe tbody tr th {\n",
       "        vertical-align: top;\n",
       "    }\n",
       "\n",
       "    .dataframe thead th {\n",
       "        text-align: right;\n",
       "    }\n",
       "</style>\n",
       "<table border=\"1\" class=\"dataframe\">\n",
       "  <thead>\n",
       "    <tr style=\"text-align: right;\">\n",
       "      <th></th>\n",
       "      <th>0</th>\n",
       "      <th>1</th>\n",
       "    </tr>\n",
       "  </thead>\n",
       "  <tbody>\n",
       "    <tr>\n",
       "      <th>Intercept</th>\n",
       "      <td>-5.228179</td>\n",
       "      <td>-1.882780</td>\n",
       "    </tr>\n",
       "    <tr>\n",
       "      <th>Population</th>\n",
       "      <td>0.718155</td>\n",
       "      <td>0.984786</td>\n",
       "    </tr>\n",
       "  </tbody>\n",
       "</table>\n",
       "</div>"
      ],
      "text/plain": [
       "                   0         1\n",
       "Intercept  -5.228179 -1.882780\n",
       "Population  0.718155  0.984786"
      ]
     },
     "execution_count": 57,
     "metadata": {},
     "output_type": "execute_result"
    }
   ],
   "source": [
    "lmProperty.conf_int(alpha=0.01)"
   ]
  },
  {
   "cell_type": "markdown",
   "metadata": {},
   "source": [
    "q=1 fall doesn't into the 95% CI nor 99% CI."
   ]
  },
  {
   "cell_type": "code",
   "execution_count": 58,
   "metadata": {},
   "outputs": [
    {
     "data": {
      "text/plain": [
       "<matplotlib.legend.Legend at 0x1c263ee650>"
      ]
     },
     "execution_count": 58,
     "metadata": {},
     "output_type": "execute_result"
    },
    {
     "data": {
      "image/png": "[encoded data removed]",
      "text/plain": [
       "<Figure size 720x576 with 1 Axes>"
      ]
     },
     "metadata": {
      "needs_background": "light"
     },
     "output_type": "display_data"
    }
   ],
   "source": [
    "#Visualizing the regression fit\n",
    "plt.figure(figsize=(10,8))\n",
    "plt.plot(dataLog_Property['Population'], dataLog_Property['Property'], 'o')\n",
    "plt.title('Property Crime vs population', fontsize = 15)\n",
    "plt.plot(dataLog_Property['Population'], lmProperty.predict(), '-r')\n",
    "plt.xlabel('Population')\n",
    "plt.ylabel('PropertyCrime')\n",
    "plt.legend()"
   ]
  },
  {
   "cell_type": "markdown",
   "metadata": {
    "colab_type": "text",
    "id": "dLil57hgmuLC"
   },
   "source": [
    "### Task 2: Find top 5 and last 5 cities by crime log-residual (difference between log-crime and above regression prediction)"
   ]
  },
  {
   "cell_type": "code",
   "execution_count": 59,
   "metadata": {},
   "outputs": [],
   "source": [
    "msaNames={r['msa']:r['msa_name'] for i,r in msa.iterrows()}\n",
    "msaCrime['msaName']=msaCrime.index.map(msaNames)"
   ]
  },
  {
   "cell_type": "code",
   "execution_count": 60,
   "metadata": {},
   "outputs": [],
   "source": [
    "#Total Crime\n",
    "msaCrime['TotalCrime_IncRes']=lmTotalCrime.predict()-dataLog_TotalCrime['TotalCrime']"
   ]
  },
  {
   "cell_type": "code",
   "execution_count": 61,
   "metadata": {},
   "outputs": [
    {
     "data": {
      "text/html": [
       "<div>\n",
       "<style scoped>\n",
       "    .dataframe tbody tr th:only-of-type {\n",
       "        vertical-align: middle;\n",
       "    }\n",
       "\n",
       "    .dataframe tbody tr th {\n",
       "        vertical-align: top;\n",
       "    }\n",
       "\n",
       "    .dataframe thead th {\n",
       "        text-align: right;\n",
       "    }\n",
       "</style>\n",
       "<table border=\"1\" class=\"dataframe\">\n",
       "  <thead>\n",
       "    <tr style=\"text-align: right;\">\n",
       "      <th></th>\n",
       "      <th>Population</th>\n",
       "      <th>TotalCrime</th>\n",
       "      <th>Violent</th>\n",
       "      <th>Property</th>\n",
       "      <th>msaName</th>\n",
       "      <th>TotalCrime_IncRes</th>\n",
       "    </tr>\n",
       "    <tr>\n",
       "      <th>msa</th>\n",
       "      <th></th>\n",
       "      <th></th>\n",
       "      <th></th>\n",
       "      <th></th>\n",
       "      <th></th>\n",
       "      <th></th>\n",
       "    </tr>\n",
       "  </thead>\n",
       "  <tbody>\n",
       "    <tr>\n",
       "      <th>38300</th>\n",
       "      <td>1590575.0</td>\n",
       "      <td>15</td>\n",
       "      <td>12</td>\n",
       "      <td>3</td>\n",
       "      <td>Pittsburgh, PA (Metropolitan Statistical Area)</td>\n",
       "      <td>6.050774</td>\n",
       "    </tr>\n",
       "    <tr>\n",
       "      <th>36140</th>\n",
       "      <td>95344.0</td>\n",
       "      <td>3</td>\n",
       "      <td>2</td>\n",
       "      <td>1</td>\n",
       "      <td>Ocean City, NJ (Metropolitan Statistical Area)</td>\n",
       "      <td>5.234708</td>\n",
       "    </tr>\n",
       "    <tr>\n",
       "      <th>14460</th>\n",
       "      <td>300621.0</td>\n",
       "      <td>9</td>\n",
       "      <td>5</td>\n",
       "      <td>4</td>\n",
       "      <td>Boston-Cambridge-Newton, MA-NH (Metropolitan S...</td>\n",
       "      <td>5.125787</td>\n",
       "    </tr>\n",
       "    <tr>\n",
       "      <th>39340</th>\n",
       "      <td>571460.0</td>\n",
       "      <td>320</td>\n",
       "      <td>49</td>\n",
       "      <td>271</td>\n",
       "      <td>Provo-Orem, UT (Metropolitan Statistical Area)</td>\n",
       "      <td>2.108284</td>\n",
       "    </tr>\n",
       "    <tr>\n",
       "      <th>38540</th>\n",
       "      <td>83347.0</td>\n",
       "      <td>65</td>\n",
       "      <td>7</td>\n",
       "      <td>58</td>\n",
       "      <td>Pocatello, ID (Metropolitan Statistical Area)</td>\n",
       "      <td>2.043034</td>\n",
       "    </tr>\n",
       "  </tbody>\n",
       "</table>\n",
       "</div>"
      ],
      "text/plain": [
       "       Population  TotalCrime  Violent  Property  \\\n",
       "msa                                                \n",
       "38300   1590575.0          15       12         3   \n",
       "36140     95344.0           3        2         1   \n",
       "14460    300621.0           9        5         4   \n",
       "39340    571460.0         320       49       271   \n",
       "38540     83347.0          65        7        58   \n",
       "\n",
       "                                                 msaName  TotalCrime_IncRes  \n",
       "msa                                                                          \n",
       "38300     Pittsburgh, PA (Metropolitan Statistical Area)           6.050774  \n",
       "36140     Ocean City, NJ (Metropolitan Statistical Area)           5.234708  \n",
       "14460  Boston-Cambridge-Newton, MA-NH (Metropolitan S...           5.125787  \n",
       "39340     Provo-Orem, UT (Metropolitan Statistical Area)           2.108284  \n",
       "38540      Pocatello, ID (Metropolitan Statistical Area)           2.043034  "
      ]
     },
     "execution_count": 61,
     "metadata": {},
     "output_type": "execute_result"
    }
   ],
   "source": [
    "msaCrime.sort_values(by='TotalCrime_IncRes',ascending=False).head(5)"
   ]
  },
  {
   "cell_type": "code",
   "execution_count": 62,
   "metadata": {},
   "outputs": [
    {
     "data": {
      "text/html": [
       "<div>\n",
       "<style scoped>\n",
       "    .dataframe tbody tr th:only-of-type {\n",
       "        vertical-align: middle;\n",
       "    }\n",
       "\n",
       "    .dataframe tbody tr th {\n",
       "        vertical-align: top;\n",
       "    }\n",
       "\n",
       "    .dataframe thead th {\n",
       "        text-align: right;\n",
       "    }\n",
       "</style>\n",
       "<table border=\"1\" class=\"dataframe\">\n",
       "  <thead>\n",
       "    <tr style=\"text-align: right;\">\n",
       "      <th></th>\n",
       "      <th>Population</th>\n",
       "      <th>TotalCrime</th>\n",
       "      <th>Violent</th>\n",
       "      <th>Property</th>\n",
       "      <th>msaName</th>\n",
       "      <th>TotalCrime_IncRes</th>\n",
       "    </tr>\n",
       "    <tr>\n",
       "      <th>msa</th>\n",
       "      <th></th>\n",
       "      <th></th>\n",
       "      <th></th>\n",
       "      <th></th>\n",
       "      <th></th>\n",
       "      <th></th>\n",
       "    </tr>\n",
       "  </thead>\n",
       "  <tbody>\n",
       "    <tr>\n",
       "      <th>31420</th>\n",
       "      <td>230450.0</td>\n",
       "      <td>10881</td>\n",
       "      <td>869</td>\n",
       "      <td>10012</td>\n",
       "      <td>Macon-Bibb County, GA (Metropolitan Statistica...</td>\n",
       "      <td>-2.200850</td>\n",
       "    </tr>\n",
       "    <tr>\n",
       "      <th>24860</th>\n",
       "      <td>862463.0</td>\n",
       "      <td>24316</td>\n",
       "      <td>3316</td>\n",
       "      <td>21000</td>\n",
       "      <td>Greenville-Anderson-Mauldin, SC (Metropolitan ...</td>\n",
       "      <td>-1.867557</td>\n",
       "    </tr>\n",
       "    <tr>\n",
       "      <th>37860</th>\n",
       "      <td>474081.0</td>\n",
       "      <td>13234</td>\n",
       "      <td>1980</td>\n",
       "      <td>11254</td>\n",
       "      <td>Pensacola-Ferry Pass-Brent, FL (Metropolitan S...</td>\n",
       "      <td>-1.774944</td>\n",
       "    </tr>\n",
       "    <tr>\n",
       "      <th>35380</th>\n",
       "      <td>867529.0</td>\n",
       "      <td>20326</td>\n",
       "      <td>2322</td>\n",
       "      <td>18004</td>\n",
       "      <td>New Orleans-Metairie, LA (Metropolitan Statist...</td>\n",
       "      <td>-1.683276</td>\n",
       "    </tr>\n",
       "    <tr>\n",
       "      <th>17900</th>\n",
       "      <td>737334.0</td>\n",
       "      <td>16302</td>\n",
       "      <td>2712</td>\n",
       "      <td>13590</td>\n",
       "      <td>Columbia, SC (Metropolitan Statistical Area)</td>\n",
       "      <td>-1.602804</td>\n",
       "    </tr>\n",
       "  </tbody>\n",
       "</table>\n",
       "</div>"
      ],
      "text/plain": [
       "       Population  TotalCrime  Violent  Property  \\\n",
       "msa                                                \n",
       "31420    230450.0       10881      869     10012   \n",
       "24860    862463.0       24316     3316     21000   \n",
       "37860    474081.0       13234     1980     11254   \n",
       "35380    867529.0       20326     2322     18004   \n",
       "17900    737334.0       16302     2712     13590   \n",
       "\n",
       "                                                 msaName  TotalCrime_IncRes  \n",
       "msa                                                                          \n",
       "31420  Macon-Bibb County, GA (Metropolitan Statistica...          -2.200850  \n",
       "24860  Greenville-Anderson-Mauldin, SC (Metropolitan ...          -1.867557  \n",
       "37860  Pensacola-Ferry Pass-Brent, FL (Metropolitan S...          -1.774944  \n",
       "35380  New Orleans-Metairie, LA (Metropolitan Statist...          -1.683276  \n",
       "17900       Columbia, SC (Metropolitan Statistical Area)          -1.602804  "
      ]
     },
     "execution_count": 62,
     "metadata": {},
     "output_type": "execute_result"
    }
   ],
   "source": [
    "msaCrime.sort_values(by='TotalCrime_IncRes',ascending=True).head(5)"
   ]
  },
  {
   "cell_type": "code",
   "execution_count": 63,
   "metadata": {},
   "outputs": [],
   "source": [
    "#Total Violent Crime\n",
    "msaCrime['Violent_IncRes']=lmViolent.predict()-dataLog_Violent['Violent']"
   ]
  },
  {
   "cell_type": "code",
   "execution_count": 64,
   "metadata": {},
   "outputs": [
    {
     "data": {
      "text/html": [
       "<div>\n",
       "<style scoped>\n",
       "    .dataframe tbody tr th:only-of-type {\n",
       "        vertical-align: middle;\n",
       "    }\n",
       "\n",
       "    .dataframe tbody tr th {\n",
       "        vertical-align: top;\n",
       "    }\n",
       "\n",
       "    .dataframe thead th {\n",
       "        text-align: right;\n",
       "    }\n",
       "</style>\n",
       "<table border=\"1\" class=\"dataframe\">\n",
       "  <thead>\n",
       "    <tr style=\"text-align: right;\">\n",
       "      <th></th>\n",
       "      <th>Population</th>\n",
       "      <th>TotalCrime</th>\n",
       "      <th>Violent</th>\n",
       "      <th>Property</th>\n",
       "      <th>msaName</th>\n",
       "      <th>TotalCrime_IncRes</th>\n",
       "      <th>Violent_IncRes</th>\n",
       "    </tr>\n",
       "    <tr>\n",
       "      <th>msa</th>\n",
       "      <th></th>\n",
       "      <th></th>\n",
       "      <th></th>\n",
       "      <th></th>\n",
       "      <th></th>\n",
       "      <th></th>\n",
       "      <th></th>\n",
       "    </tr>\n",
       "  </thead>\n",
       "  <tbody>\n",
       "    <tr>\n",
       "      <th>38300</th>\n",
       "      <td>1590575.0</td>\n",
       "      <td>15</td>\n",
       "      <td>12</td>\n",
       "      <td>3</td>\n",
       "      <td>Pittsburgh, PA (Metropolitan Statistical Area)</td>\n",
       "      <td>6.050774</td>\n",
       "      <td>4.170979</td>\n",
       "    </tr>\n",
       "    <tr>\n",
       "      <th>14460</th>\n",
       "      <td>300621.0</td>\n",
       "      <td>9</td>\n",
       "      <td>5</td>\n",
       "      <td>4</td>\n",
       "      <td>Boston-Cambridge-Newton, MA-NH (Metropolitan S...</td>\n",
       "      <td>5.125787</td>\n",
       "      <td>3.487844</td>\n",
       "    </tr>\n",
       "    <tr>\n",
       "      <th>36140</th>\n",
       "      <td>95344.0</td>\n",
       "      <td>3</td>\n",
       "      <td>2</td>\n",
       "      <td>1</td>\n",
       "      <td>Ocean City, NJ (Metropolitan Statistical Area)</td>\n",
       "      <td>5.234708</td>\n",
       "      <td>3.329804</td>\n",
       "    </tr>\n",
       "    <tr>\n",
       "      <th>49660</th>\n",
       "      <td>438379.0</td>\n",
       "      <td>633</td>\n",
       "      <td>26</td>\n",
       "      <td>607</td>\n",
       "      <td>Youngstown-Warren-Boardman, OH-PA (Metropolita...</td>\n",
       "      <td>1.197653</td>\n",
       "      <td>2.192101</td>\n",
       "    </tr>\n",
       "    <tr>\n",
       "      <th>12620</th>\n",
       "      <td>153414.0</td>\n",
       "      <td>414</td>\n",
       "      <td>10</td>\n",
       "      <td>404</td>\n",
       "      <td>Bangor, ME (Metropolitan Statistical Area)</td>\n",
       "      <td>0.717383</td>\n",
       "      <td>2.165352</td>\n",
       "    </tr>\n",
       "  </tbody>\n",
       "</table>\n",
       "</div>"
      ],
      "text/plain": [
       "       Population  TotalCrime  Violent  Property  \\\n",
       "msa                                                \n",
       "38300   1590575.0          15       12         3   \n",
       "14460    300621.0           9        5         4   \n",
       "36140     95344.0           3        2         1   \n",
       "49660    438379.0         633       26       607   \n",
       "12620    153414.0         414       10       404   \n",
       "\n",
       "                                                 msaName  TotalCrime_IncRes  \\\n",
       "msa                                                                           \n",
       "38300     Pittsburgh, PA (Metropolitan Statistical Area)           6.050774   \n",
       "14460  Boston-Cambridge-Newton, MA-NH (Metropolitan S...           5.125787   \n",
       "36140     Ocean City, NJ (Metropolitan Statistical Area)           5.234708   \n",
       "49660  Youngstown-Warren-Boardman, OH-PA (Metropolita...           1.197653   \n",
       "12620         Bangor, ME (Metropolitan Statistical Area)           0.717383   \n",
       "\n",
       "       Violent_IncRes  \n",
       "msa                    \n",
       "38300        4.170979  \n",
       "14460        3.487844  \n",
       "36140        3.329804  \n",
       "49660        2.192101  \n",
       "12620        2.165352  "
      ]
     },
     "execution_count": 64,
     "metadata": {},
     "output_type": "execute_result"
    }
   ],
   "source": [
    "msaCrime.sort_values(by='Violent_IncRes',ascending=False).head(5)"
   ]
  },
  {
   "cell_type": "code",
   "execution_count": 65,
   "metadata": {},
   "outputs": [
    {
     "data": {
      "text/html": [
       "<div>\n",
       "<style scoped>\n",
       "    .dataframe tbody tr th:only-of-type {\n",
       "        vertical-align: middle;\n",
       "    }\n",
       "\n",
       "    .dataframe tbody tr th {\n",
       "        vertical-align: top;\n",
       "    }\n",
       "\n",
       "    .dataframe thead th {\n",
       "        text-align: right;\n",
       "    }\n",
       "</style>\n",
       "<table border=\"1\" class=\"dataframe\">\n",
       "  <thead>\n",
       "    <tr style=\"text-align: right;\">\n",
       "      <th></th>\n",
       "      <th>Population</th>\n",
       "      <th>TotalCrime</th>\n",
       "      <th>Violent</th>\n",
       "      <th>Property</th>\n",
       "      <th>msaName</th>\n",
       "      <th>TotalCrime_IncRes</th>\n",
       "      <th>Violent_IncRes</th>\n",
       "    </tr>\n",
       "    <tr>\n",
       "      <th>msa</th>\n",
       "      <th></th>\n",
       "      <th></th>\n",
       "      <th></th>\n",
       "      <th></th>\n",
       "      <th></th>\n",
       "      <th></th>\n",
       "      <th></th>\n",
       "    </tr>\n",
       "  </thead>\n",
       "  <tbody>\n",
       "    <tr>\n",
       "      <th>37860</th>\n",
       "      <td>474081.0</td>\n",
       "      <td>13234</td>\n",
       "      <td>1980</td>\n",
       "      <td>11254</td>\n",
       "      <td>Pensacola-Ferry Pass-Brent, FL (Metropolitan S...</td>\n",
       "      <td>-1.774944</td>\n",
       "      <td>-2.067407</td>\n",
       "    </tr>\n",
       "    <tr>\n",
       "      <th>24860</th>\n",
       "      <td>862463.0</td>\n",
       "      <td>24316</td>\n",
       "      <td>3316</td>\n",
       "      <td>21000</td>\n",
       "      <td>Greenville-Anderson-Mauldin, SC (Metropolitan ...</td>\n",
       "      <td>-1.867557</td>\n",
       "      <td>-2.023231</td>\n",
       "    </tr>\n",
       "    <tr>\n",
       "      <th>17900</th>\n",
       "      <td>737334.0</td>\n",
       "      <td>16302</td>\n",
       "      <td>2712</td>\n",
       "      <td>13590</td>\n",
       "      <td>Columbia, SC (Metropolitan Statistical Area)</td>\n",
       "      <td>-1.602804</td>\n",
       "      <td>-1.968805</td>\n",
       "    </tr>\n",
       "    <tr>\n",
       "      <th>31420</th>\n",
       "      <td>230450.0</td>\n",
       "      <td>10881</td>\n",
       "      <td>869</td>\n",
       "      <td>10012</td>\n",
       "      <td>Macon-Bibb County, GA (Metropolitan Statistica...</td>\n",
       "      <td>-2.200850</td>\n",
       "      <td>-1.918742</td>\n",
       "    </tr>\n",
       "    <tr>\n",
       "      <th>26300</th>\n",
       "      <td>97322.0</td>\n",
       "      <td>2408</td>\n",
       "      <td>387</td>\n",
       "      <td>2021</td>\n",
       "      <td>Hot Springs, AR (Metropolitan Statistical Area)</td>\n",
       "      <td>-1.435535</td>\n",
       "      <td>-1.916264</td>\n",
       "    </tr>\n",
       "  </tbody>\n",
       "</table>\n",
       "</div>"
      ],
      "text/plain": [
       "       Population  TotalCrime  Violent  Property  \\\n",
       "msa                                                \n",
       "37860    474081.0       13234     1980     11254   \n",
       "24860    862463.0       24316     3316     21000   \n",
       "17900    737334.0       16302     2712     13590   \n",
       "31420    230450.0       10881      869     10012   \n",
       "26300     97322.0        2408      387      2021   \n",
       "\n",
       "                                                 msaName  TotalCrime_IncRes  \\\n",
       "msa                                                                           \n",
       "37860  Pensacola-Ferry Pass-Brent, FL (Metropolitan S...          -1.774944   \n",
       "24860  Greenville-Anderson-Mauldin, SC (Metropolitan ...          -1.867557   \n",
       "17900       Columbia, SC (Metropolitan Statistical Area)          -1.602804   \n",
       "31420  Macon-Bibb County, GA (Metropolitan Statistica...          -2.200850   \n",
       "26300    Hot Springs, AR (Metropolitan Statistical Area)          -1.435535   \n",
       "\n",
       "       Violent_IncRes  \n",
       "msa                    \n",
       "37860       -2.067407  \n",
       "24860       -2.023231  \n",
       "17900       -1.968805  \n",
       "31420       -1.918742  \n",
       "26300       -1.916264  "
      ]
     },
     "execution_count": 65,
     "metadata": {},
     "output_type": "execute_result"
    }
   ],
   "source": [
    "msaCrime.sort_values(by='Violent_IncRes',ascending=True).head(5)"
   ]
  },
  {
   "cell_type": "code",
   "execution_count": 66,
   "metadata": {},
   "outputs": [],
   "source": [
    "#Total Property Crime\n",
    "msaCrime['Property_IncRes']=lmProperty.predict()-dataLog_Property['Property']"
   ]
  },
  {
   "cell_type": "code",
   "execution_count": 67,
   "metadata": {},
   "outputs": [
    {
     "data": {
      "text/html": [
       "<div>\n",
       "<style scoped>\n",
       "    .dataframe tbody tr th:only-of-type {\n",
       "        vertical-align: middle;\n",
       "    }\n",
       "\n",
       "    .dataframe tbody tr th {\n",
       "        vertical-align: top;\n",
       "    }\n",
       "\n",
       "    .dataframe thead th {\n",
       "        text-align: right;\n",
       "    }\n",
       "</style>\n",
       "<table border=\"1\" class=\"dataframe\">\n",
       "  <thead>\n",
       "    <tr style=\"text-align: right;\">\n",
       "      <th></th>\n",
       "      <th>Population</th>\n",
       "      <th>TotalCrime</th>\n",
       "      <th>Violent</th>\n",
       "      <th>Property</th>\n",
       "      <th>msaName</th>\n",
       "      <th>TotalCrime_IncRes</th>\n",
       "      <th>Violent_IncRes</th>\n",
       "      <th>Property_IncRes</th>\n",
       "    </tr>\n",
       "    <tr>\n",
       "      <th>msa</th>\n",
       "      <th></th>\n",
       "      <th></th>\n",
       "      <th></th>\n",
       "      <th></th>\n",
       "      <th></th>\n",
       "      <th></th>\n",
       "      <th></th>\n",
       "      <th></th>\n",
       "    </tr>\n",
       "  </thead>\n",
       "  <tbody>\n",
       "    <tr>\n",
       "      <th>38300</th>\n",
       "      <td>1590575.0</td>\n",
       "      <td>15</td>\n",
       "      <td>12</td>\n",
       "      <td>3</td>\n",
       "      <td>Pittsburgh, PA (Metropolitan Statistical Area)</td>\n",
       "      <td>6.050774</td>\n",
       "      <td>4.170979</td>\n",
       "      <td>7.504572</td>\n",
       "    </tr>\n",
       "    <tr>\n",
       "      <th>36140</th>\n",
       "      <td>95344.0</td>\n",
       "      <td>3</td>\n",
       "      <td>2</td>\n",
       "      <td>1</td>\n",
       "      <td>Ocean City, NJ (Metropolitan Statistical Area)</td>\n",
       "      <td>5.234708</td>\n",
       "      <td>3.329804</td>\n",
       "      <td>6.206840</td>\n",
       "    </tr>\n",
       "    <tr>\n",
       "      <th>14460</th>\n",
       "      <td>300621.0</td>\n",
       "      <td>9</td>\n",
       "      <td>5</td>\n",
       "      <td>4</td>\n",
       "      <td>Boston-Cambridge-Newton, MA-NH (Metropolitan S...</td>\n",
       "      <td>5.125787</td>\n",
       "      <td>3.487844</td>\n",
       "      <td>5.798339</td>\n",
       "    </tr>\n",
       "    <tr>\n",
       "      <th>39340</th>\n",
       "      <td>571460.0</td>\n",
       "      <td>320</td>\n",
       "      <td>49</td>\n",
       "      <td>271</td>\n",
       "      <td>Provo-Orem, UT (Metropolitan Statistical Area)</td>\n",
       "      <td>2.108284</td>\n",
       "      <td>1.806398</td>\n",
       "      <td>2.129452</td>\n",
       "    </tr>\n",
       "    <tr>\n",
       "      <th>38540</th>\n",
       "      <td>83347.0</td>\n",
       "      <td>65</td>\n",
       "      <td>7</td>\n",
       "      <td>58</td>\n",
       "      <td>Pocatello, ID (Metropolitan Statistical Area)</td>\n",
       "      <td>2.043034</td>\n",
       "      <td>1.951231</td>\n",
       "      <td>2.031892</td>\n",
       "    </tr>\n",
       "  </tbody>\n",
       "</table>\n",
       "</div>"
      ],
      "text/plain": [
       "       Population  TotalCrime  Violent  Property  \\\n",
       "msa                                                \n",
       "38300   1590575.0          15       12         3   \n",
       "36140     95344.0           3        2         1   \n",
       "14460    300621.0           9        5         4   \n",
       "39340    571460.0         320       49       271   \n",
       "38540     83347.0          65        7        58   \n",
       "\n",
       "                                                 msaName  TotalCrime_IncRes  \\\n",
       "msa                                                                           \n",
       "38300     Pittsburgh, PA (Metropolitan Statistical Area)           6.050774   \n",
       "36140     Ocean City, NJ (Metropolitan Statistical Area)           5.234708   \n",
       "14460  Boston-Cambridge-Newton, MA-NH (Metropolitan S...           5.125787   \n",
       "39340     Provo-Orem, UT (Metropolitan Statistical Area)           2.108284   \n",
       "38540      Pocatello, ID (Metropolitan Statistical Area)           2.043034   \n",
       "\n",
       "       Violent_IncRes  Property_IncRes  \n",
       "msa                                     \n",
       "38300        4.170979         7.504572  \n",
       "36140        3.329804         6.206840  \n",
       "14460        3.487844         5.798339  \n",
       "39340        1.806398         2.129452  \n",
       "38540        1.951231         2.031892  "
      ]
     },
     "execution_count": 67,
     "metadata": {},
     "output_type": "execute_result"
    }
   ],
   "source": [
    "msaCrime.sort_values(by='Property_IncRes',ascending=False).head(5)"
   ]
  },
  {
   "cell_type": "code",
   "execution_count": 68,
   "metadata": {},
   "outputs": [
    {
     "data": {
      "text/html": [
       "<div>\n",
       "<style scoped>\n",
       "    .dataframe tbody tr th:only-of-type {\n",
       "        vertical-align: middle;\n",
       "    }\n",
       "\n",
       "    .dataframe tbody tr th {\n",
       "        vertical-align: top;\n",
       "    }\n",
       "\n",
       "    .dataframe thead th {\n",
       "        text-align: right;\n",
       "    }\n",
       "</style>\n",
       "<table border=\"1\" class=\"dataframe\">\n",
       "  <thead>\n",
       "    <tr style=\"text-align: right;\">\n",
       "      <th></th>\n",
       "      <th>Population</th>\n",
       "      <th>TotalCrime</th>\n",
       "      <th>Violent</th>\n",
       "      <th>Property</th>\n",
       "      <th>msaName</th>\n",
       "      <th>TotalCrime_IncRes</th>\n",
       "      <th>Violent_IncRes</th>\n",
       "      <th>Property_IncRes</th>\n",
       "    </tr>\n",
       "    <tr>\n",
       "      <th>msa</th>\n",
       "      <th></th>\n",
       "      <th></th>\n",
       "      <th></th>\n",
       "      <th></th>\n",
       "      <th></th>\n",
       "      <th></th>\n",
       "      <th></th>\n",
       "      <th></th>\n",
       "    </tr>\n",
       "  </thead>\n",
       "  <tbody>\n",
       "    <tr>\n",
       "      <th>31420</th>\n",
       "      <td>230450.0</td>\n",
       "      <td>10881</td>\n",
       "      <td>869</td>\n",
       "      <td>10012</td>\n",
       "      <td>Macon-Bibb County, GA (Metropolitan Statistica...</td>\n",
       "      <td>-2.200850</td>\n",
       "      <td>-1.918742</td>\n",
       "      <td>-2.253241</td>\n",
       "    </tr>\n",
       "    <tr>\n",
       "      <th>24860</th>\n",
       "      <td>862463.0</td>\n",
       "      <td>24316</td>\n",
       "      <td>3316</td>\n",
       "      <td>21000</td>\n",
       "      <td>Greenville-Anderson-Mauldin, SC (Metropolitan ...</td>\n",
       "      <td>-1.867557</td>\n",
       "      <td>-2.023231</td>\n",
       "      <td>-1.870244</td>\n",
       "    </tr>\n",
       "    <tr>\n",
       "      <th>37860</th>\n",
       "      <td>474081.0</td>\n",
       "      <td>13234</td>\n",
       "      <td>1980</td>\n",
       "      <td>11254</td>\n",
       "      <td>Pensacola-Ferry Pass-Brent, FL (Metropolitan S...</td>\n",
       "      <td>-1.774944</td>\n",
       "      <td>-2.067407</td>\n",
       "      <td>-1.755977</td>\n",
       "    </tr>\n",
       "    <tr>\n",
       "      <th>35380</th>\n",
       "      <td>867529.0</td>\n",
       "      <td>20326</td>\n",
       "      <td>2322</td>\n",
       "      <td>18004</td>\n",
       "      <td>New Orleans-Metairie, LA (Metropolitan Statist...</td>\n",
       "      <td>-1.683276</td>\n",
       "      <td>-1.661422</td>\n",
       "      <td>-1.711328</td>\n",
       "    </tr>\n",
       "    <tr>\n",
       "      <th>36740</th>\n",
       "      <td>2321418.0</td>\n",
       "      <td>43637</td>\n",
       "      <td>7202</td>\n",
       "      <td>36435</td>\n",
       "      <td>Orlando-Kissimmee-Sanford, FL (Metropolitan St...</td>\n",
       "      <td>-1.598993</td>\n",
       "      <td>-1.872518</td>\n",
       "      <td>-1.578175</td>\n",
       "    </tr>\n",
       "  </tbody>\n",
       "</table>\n",
       "</div>"
      ],
      "text/plain": [
       "       Population  TotalCrime  Violent  Property  \\\n",
       "msa                                                \n",
       "31420    230450.0       10881      869     10012   \n",
       "24860    862463.0       24316     3316     21000   \n",
       "37860    474081.0       13234     1980     11254   \n",
       "35380    867529.0       20326     2322     18004   \n",
       "36740   2321418.0       43637     7202     36435   \n",
       "\n",
       "                                                 msaName  TotalCrime_IncRes  \\\n",
       "msa                                                                           \n",
       "31420  Macon-Bibb County, GA (Metropolitan Statistica...          -2.200850   \n",
       "24860  Greenville-Anderson-Mauldin, SC (Metropolitan ...          -1.867557   \n",
       "37860  Pensacola-Ferry Pass-Brent, FL (Metropolitan S...          -1.774944   \n",
       "35380  New Orleans-Metairie, LA (Metropolitan Statist...          -1.683276   \n",
       "36740  Orlando-Kissimmee-Sanford, FL (Metropolitan St...          -1.598993   \n",
       "\n",
       "       Violent_IncRes  Property_IncRes  \n",
       "msa                                     \n",
       "31420       -1.918742        -2.253241  \n",
       "24860       -2.023231        -1.870244  \n",
       "37860       -2.067407        -1.755977  \n",
       "35380       -1.661422        -1.711328  \n",
       "36740       -1.872518        -1.578175  "
      ]
     },
     "execution_count": 68,
     "metadata": {},
     "output_type": "execute_result"
    }
   ],
   "source": [
    "msaCrime.sort_values(by='Property_IncRes',ascending=True).head(5)"
   ]
  },
  {
   "cell_type": "markdown",
   "metadata": {
    "colab_type": "text",
    "id": "K__NioPNm5g_"
   },
   "source": [
    "### Task 3:Is there any correlation between residual by income and residual by crime?"
   ]
  },
  {
   "cell_type": "code",
   "execution_count": 69,
   "metadata": {
    "colab": {},
    "colab_type": "code",
    "id": "OLl9kHeknCHJ"
   },
   "outputs": [],
   "source": [
    "#Your code here"
   ]
  },
  {
   "cell_type": "code",
   "execution_count": 70,
   "metadata": {},
   "outputs": [],
   "source": [
    "demographics = pd.read_csv('data/acs2014/R11460953_SL050.csv')\n",
    "demographics = demographics[[ u'Geo_GEOID', u'Geo_NAME', u'Geo_QName', u'Geo_COUNTY',\\\n",
    "                             u'SE_T001_001', u'SE_T002_002', u'SE_T002_003', u'SE_T057_001', u'SE_T083_001']]\n",
    "\n",
    "demographics.rename(columns={u'SE_T001_001' : 'Population',\\\n",
    "                             u'SE_T002_002' : 'Population Density', \\\n",
    "                             u'SE_T002_003' : 'Area',\\\n",
    "                             u'SE_T057_001' : 'Median household income',\\\n",
    "                             u'SE_T083_001' : 'Per capita income'}, inplace=True)\n",
    "demographics['Income']=demographics.Population*demographics['Per capita income']"
   ]
  },
  {
   "cell_type": "code",
   "execution_count": 71,
   "metadata": {},
   "outputs": [],
   "source": [
    "#convert some location identifiers from string to numeric\n",
    "def num(s):\n",
    "    try:\n",
    "        return int(s)\n",
    "    except ValueError:\n",
    "        0\n",
    "\n",
    "demographics['ID'] = demographics.Geo_GEOID.apply(lambda x: num(x[7:]))\n",
    "msa['ID'] = msa.Geo_FIPS.apply(num)"
   ]
  },
  {
   "cell_type": "code",
   "execution_count": 72,
   "metadata": {},
   "outputs": [],
   "source": [
    "demomsa = pd.merge(demographics, msa, on='ID', how='inner')\n",
    "msaDemo = demomsa.groupby(by='msa').sum().loc[:,[u'Population', u'Area', u'Income']]\n",
    "logPop = np.log(msaDemo['Population'])\n",
    "logIncome = np.log(msaDemo['Income'])\n",
    "dataLog = pd.DataFrame(data=[logIncome, logPop]).T\n",
    "dataLog.sort_values(by='Income', ascending=False, inplace=True) #Sorting values for better visualization"
   ]
  },
  {
   "cell_type": "code",
   "execution_count": 73,
   "metadata": {},
   "outputs": [
    {
     "data": {
      "text/html": [
       "<div>\n",
       "<style scoped>\n",
       "    .dataframe tbody tr th:only-of-type {\n",
       "        vertical-align: middle;\n",
       "    }\n",
       "\n",
       "    .dataframe tbody tr th {\n",
       "        vertical-align: top;\n",
       "    }\n",
       "\n",
       "    .dataframe thead th {\n",
       "        text-align: right;\n",
       "    }\n",
       "</style>\n",
       "<table border=\"1\" class=\"dataframe\">\n",
       "  <thead>\n",
       "    <tr style=\"text-align: right;\">\n",
       "      <th></th>\n",
       "      <th>Income</th>\n",
       "      <th>Population</th>\n",
       "    </tr>\n",
       "    <tr>\n",
       "      <th>msa</th>\n",
       "      <th></th>\n",
       "      <th></th>\n",
       "    </tr>\n",
       "  </thead>\n",
       "  <tbody>\n",
       "    <tr>\n",
       "      <th>35620</th>\n",
       "      <td>27.297920</td>\n",
       "      <td>16.804472</td>\n",
       "    </tr>\n",
       "    <tr>\n",
       "      <th>31080</th>\n",
       "      <td>26.677462</td>\n",
       "      <td>16.385106</td>\n",
       "    </tr>\n",
       "    <tr>\n",
       "      <th>16980</th>\n",
       "      <td>26.425884</td>\n",
       "      <td>16.068532</td>\n",
       "    </tr>\n",
       "    <tr>\n",
       "      <th>19100</th>\n",
       "      <td>26.019203</td>\n",
       "      <td>15.718069</td>\n",
       "    </tr>\n",
       "    <tr>\n",
       "      <th>37980</th>\n",
       "      <td>26.009518</td>\n",
       "      <td>15.609823</td>\n",
       "    </tr>\n",
       "  </tbody>\n",
       "</table>\n",
       "</div>"
      ],
      "text/plain": [
       "          Income  Population\n",
       "msa                         \n",
       "35620  27.297920   16.804472\n",
       "31080  26.677462   16.385106\n",
       "16980  26.425884   16.068532\n",
       "19100  26.019203   15.718069\n",
       "37980  26.009518   15.609823"
      ]
     },
     "execution_count": 73,
     "metadata": {},
     "output_type": "execute_result"
    }
   ],
   "source": [
    "dataLog.head()"
   ]
  },
  {
   "cell_type": "code",
   "execution_count": 74,
   "metadata": {},
   "outputs": [
    {
     "data": {
      "text/html": [
       "<table class=\"simpletable\">\n",
       "<caption>OLS Regression Results</caption>\n",
       "<tr>\n",
       "  <th>Dep. Variable:</th>         <td>Income</td>      <th>  R-squared:         </th> <td>   0.983</td> \n",
       "</tr>\n",
       "<tr>\n",
       "  <th>Model:</th>                   <td>OLS</td>       <th>  Adj. R-squared:    </th> <td>   0.983</td> \n",
       "</tr>\n",
       "<tr>\n",
       "  <th>Method:</th>             <td>Least Squares</td>  <th>  F-statistic:       </th> <td>2.157e+04</td>\n",
       "</tr>\n",
       "<tr>\n",
       "  <th>Date:</th>             <td>Sat, 09 Nov 2019</td> <th>  Prob (F-statistic):</th>  <td>  0.00</td>  \n",
       "</tr>\n",
       "<tr>\n",
       "  <th>Time:</th>                 <td>14:32:45</td>     <th>  Log-Likelihood:    </th> <td>  175.13</td> \n",
       "</tr>\n",
       "<tr>\n",
       "  <th>No. Observations:</th>      <td>   379</td>      <th>  AIC:               </th> <td>  -346.3</td> \n",
       "</tr>\n",
       "<tr>\n",
       "  <th>Df Residuals:</th>          <td>   377</td>      <th>  BIC:               </th> <td>  -338.4</td> \n",
       "</tr>\n",
       "<tr>\n",
       "  <th>Df Model:</th>              <td>     1</td>      <th>                     </th>     <td> </td>    \n",
       "</tr>\n",
       "<tr>\n",
       "  <th>Covariance Type:</th>      <td>nonrobust</td>    <th>                     </th>     <td> </td>    \n",
       "</tr>\n",
       "</table>\n",
       "<table class=\"simpletable\">\n",
       "<tr>\n",
       "       <td></td>         <th>coef</th>     <th>std err</th>      <th>t</th>      <th>P>|t|</th>  <th>[0.025</th>    <th>0.975]</th>  \n",
       "</tr>\n",
       "<tr>\n",
       "  <th>Intercept</th>  <td>    9.3549</td> <td>    0.092</td> <td>  101.819</td> <td> 0.000</td> <td>    9.174</td> <td>    9.536</td>\n",
       "</tr>\n",
       "<tr>\n",
       "  <th>Population</th> <td>    1.0633</td> <td>    0.007</td> <td>  146.865</td> <td> 0.000</td> <td>    1.049</td> <td>    1.078</td>\n",
       "</tr>\n",
       "</table>\n",
       "<table class=\"simpletable\">\n",
       "<tr>\n",
       "  <th>Omnibus:</th>       <td>19.243</td> <th>  Durbin-Watson:     </th> <td>   1.934</td>\n",
       "</tr>\n",
       "<tr>\n",
       "  <th>Prob(Omnibus):</th> <td> 0.000</td> <th>  Jarque-Bera (JB):  </th> <td>  53.781</td>\n",
       "</tr>\n",
       "<tr>\n",
       "  <th>Skew:</th>          <td> 0.021</td> <th>  Prob(JB):          </th> <td>2.10e-12</td>\n",
       "</tr>\n",
       "<tr>\n",
       "  <th>Kurtosis:</th>      <td> 4.845</td> <th>  Cond. No.          </th> <td>    149.</td>\n",
       "</tr>\n",
       "</table><br/><br/>Warnings:<br/>[1] Standard Errors assume that the covariance matrix of the errors is correctly specified."
      ],
      "text/plain": [
       "<class 'statsmodels.iolib.summary.Summary'>\n",
       "\"\"\"\n",
       "                            OLS Regression Results                            \n",
       "==============================================================================\n",
       "Dep. Variable:                 Income   R-squared:                       0.983\n",
       "Model:                            OLS   Adj. R-squared:                  0.983\n",
       "Method:                 Least Squares   F-statistic:                 2.157e+04\n",
       "Date:                Sat, 09 Nov 2019   Prob (F-statistic):               0.00\n",
       "Time:                        14:32:45   Log-Likelihood:                 175.13\n",
       "No. Observations:                 379   AIC:                            -346.3\n",
       "Df Residuals:                     377   BIC:                            -338.4\n",
       "Df Model:                           1                                         \n",
       "Covariance Type:            nonrobust                                         \n",
       "==============================================================================\n",
       "                 coef    std err          t      P>|t|      [0.025      0.975]\n",
       "------------------------------------------------------------------------------\n",
       "Intercept      9.3549      0.092    101.819      0.000       9.174       9.536\n",
       "Population     1.0633      0.007    146.865      0.000       1.049       1.078\n",
       "==============================================================================\n",
       "Omnibus:                       19.243   Durbin-Watson:                   1.934\n",
       "Prob(Omnibus):                  0.000   Jarque-Bera (JB):               53.781\n",
       "Skew:                           0.021   Prob(JB):                     2.10e-12\n",
       "Kurtosis:                       4.845   Cond. No.                         149.\n",
       "==============================================================================\n",
       "\n",
       "Warnings:\n",
       "[1] Standard Errors assume that the covariance matrix of the errors is correctly specified.\n",
       "\"\"\""
      ]
     },
     "execution_count": 74,
     "metadata": {},
     "output_type": "execute_result"
    }
   ],
   "source": [
    "lmIncome = smf.ols('Income~Population', data=dataLog).fit()\n",
    "lmIncome.summary()"
   ]
  },
  {
   "cell_type": "code",
   "execution_count": 75,
   "metadata": {},
   "outputs": [],
   "source": [
    "msaDemo['IncRes']=lmIncome.predict()-dataLog['Income']"
   ]
  },
  {
   "cell_type": "code",
   "execution_count": 76,
   "metadata": {},
   "outputs": [
    {
     "data": {
      "text/html": [
       "<div>\n",
       "<style scoped>\n",
       "    .dataframe tbody tr th:only-of-type {\n",
       "        vertical-align: middle;\n",
       "    }\n",
       "\n",
       "    .dataframe tbody tr th {\n",
       "        vertical-align: top;\n",
       "    }\n",
       "\n",
       "    .dataframe thead th {\n",
       "        text-align: right;\n",
       "    }\n",
       "</style>\n",
       "<table border=\"1\" class=\"dataframe\">\n",
       "  <thead>\n",
       "    <tr style=\"text-align: right;\">\n",
       "      <th></th>\n",
       "      <th>Population</th>\n",
       "      <th>Area</th>\n",
       "      <th>Income</th>\n",
       "      <th>IncRes</th>\n",
       "    </tr>\n",
       "    <tr>\n",
       "      <th>msa</th>\n",
       "      <th></th>\n",
       "      <th></th>\n",
       "      <th></th>\n",
       "      <th></th>\n",
       "    </tr>\n",
       "  </thead>\n",
       "  <tbody>\n",
       "    <tr>\n",
       "      <th>32580</th>\n",
       "      <td>806447</td>\n",
       "      <td>1570.865088</td>\n",
       "      <td>11713642675</td>\n",
       "      <td>0.632738</td>\n",
       "    </tr>\n",
       "    <tr>\n",
       "      <th>15180</th>\n",
       "      <td>415103</td>\n",
       "      <td>890.922380</td>\n",
       "      <td>6184204494</td>\n",
       "      <td>0.565317</td>\n",
       "    </tr>\n",
       "    <tr>\n",
       "      <th>29700</th>\n",
       "      <td>259471</td>\n",
       "      <td>3361.482188</td>\n",
       "      <td>3853663292</td>\n",
       "      <td>0.538646</td>\n",
       "    </tr>\n",
       "    <tr>\n",
       "      <th>20940</th>\n",
       "      <td>177026</td>\n",
       "      <td>4176.603407</td>\n",
       "      <td>2904819634</td>\n",
       "      <td>0.414732</td>\n",
       "    </tr>\n",
       "    <tr>\n",
       "      <th>47300</th>\n",
       "      <td>451108</td>\n",
       "      <td>4824.214846</td>\n",
       "      <td>8069419904</td>\n",
       "      <td>0.387682</td>\n",
       "    </tr>\n",
       "  </tbody>\n",
       "</table>\n",
       "</div>"
      ],
      "text/plain": [
       "       Population         Area       Income    IncRes\n",
       "msa                                                  \n",
       "32580      806447  1570.865088  11713642675  0.632738\n",
       "15180      415103   890.922380   6184204494  0.565317\n",
       "29700      259471  3361.482188   3853663292  0.538646\n",
       "20940      177026  4176.603407   2904819634  0.414732\n",
       "47300      451108  4824.214846   8069419904  0.387682"
      ]
     },
     "execution_count": 76,
     "metadata": {},
     "output_type": "execute_result"
    }
   ],
   "source": [
    "msaDemo.sort_values(by='IncRes',ascending=False).head(5)"
   ]
  },
  {
   "cell_type": "code",
   "execution_count": 77,
   "metadata": {},
   "outputs": [],
   "source": [
    "msa_Demo_Crime = pd.merge(msaCrime, msaDemo, on='msa', how='inner')"
   ]
  },
  {
   "cell_type": "code",
   "execution_count": 78,
   "metadata": {},
   "outputs": [
    {
     "data": {
      "text/html": [
       "<div>\n",
       "<style scoped>\n",
       "    .dataframe tbody tr th:only-of-type {\n",
       "        vertical-align: middle;\n",
       "    }\n",
       "\n",
       "    .dataframe tbody tr th {\n",
       "        vertical-align: top;\n",
       "    }\n",
       "\n",
       "    .dataframe thead th {\n",
       "        text-align: right;\n",
       "    }\n",
       "</style>\n",
       "<table border=\"1\" class=\"dataframe\">\n",
       "  <thead>\n",
       "    <tr style=\"text-align: right;\">\n",
       "      <th></th>\n",
       "      <th>Population_x</th>\n",
       "      <th>TotalCrime</th>\n",
       "      <th>Violent</th>\n",
       "      <th>Property</th>\n",
       "      <th>msaName</th>\n",
       "      <th>TotalCrime_IncRes</th>\n",
       "      <th>Violent_IncRes</th>\n",
       "      <th>Property_IncRes</th>\n",
       "      <th>Population_y</th>\n",
       "      <th>Area</th>\n",
       "      <th>Income</th>\n",
       "      <th>IncRes</th>\n",
       "    </tr>\n",
       "    <tr>\n",
       "      <th>msa</th>\n",
       "      <th></th>\n",
       "      <th></th>\n",
       "      <th></th>\n",
       "      <th></th>\n",
       "      <th></th>\n",
       "      <th></th>\n",
       "      <th></th>\n",
       "      <th></th>\n",
       "      <th></th>\n",
       "      <th></th>\n",
       "      <th></th>\n",
       "      <th></th>\n",
       "    </tr>\n",
       "  </thead>\n",
       "  <tbody>\n",
       "    <tr>\n",
       "      <th>10180</th>\n",
       "      <td>168592.0</td>\n",
       "      <td>492</td>\n",
       "      <td>62</td>\n",
       "      <td>430</td>\n",
       "      <td>Abilene, TX (Metropolitan Statistical Area)</td>\n",
       "      <td>0.626077</td>\n",
       "      <td>0.429063</td>\n",
       "      <td>0.628385</td>\n",
       "      <td>167171</td>\n",
       "      <td>2743.478027</td>\n",
       "      <td>3740034900</td>\n",
       "      <td>0.101101</td>\n",
       "    </tr>\n",
       "    <tr>\n",
       "      <th>10420</th>\n",
       "      <td>703825.0</td>\n",
       "      <td>2397</td>\n",
       "      <td>106</td>\n",
       "      <td>2291</td>\n",
       "      <td>Akron, OH (Metropolitan Statistical Area)</td>\n",
       "      <td>0.274181</td>\n",
       "      <td>1.229685</td>\n",
       "      <td>0.172218</td>\n",
       "      <td>703017</td>\n",
       "      <td>900.129156</td>\n",
       "      <td>19560044574</td>\n",
       "      <td>-0.025948</td>\n",
       "    </tr>\n",
       "    <tr>\n",
       "      <th>10500</th>\n",
       "      <td>151670.0</td>\n",
       "      <td>1364</td>\n",
       "      <td>107</td>\n",
       "      <td>1257</td>\n",
       "      <td>Albany, GA (Metropolitan Statistical Area)</td>\n",
       "      <td>-0.484781</td>\n",
       "      <td>-0.215587</td>\n",
       "      <td>-0.534377</td>\n",
       "      <td>156706</td>\n",
       "      <td>1932.557130</td>\n",
       "      <td>3172077530</td>\n",
       "      <td>0.197068</td>\n",
       "    </tr>\n",
       "    <tr>\n",
       "      <th>10540</th>\n",
       "      <td>119356.0</td>\n",
       "      <td>1092</td>\n",
       "      <td>23</td>\n",
       "      <td>1069</td>\n",
       "      <td>Albany, OR (Metropolitan Statistical Area)</td>\n",
       "      <td>-0.468862</td>\n",
       "      <td>1.097596</td>\n",
       "      <td>-0.576382</td>\n",
       "      <td>118270</td>\n",
       "      <td>2290.129282</td>\n",
       "      <td>2526602010</td>\n",
       "      <td>0.125354</td>\n",
       "    </tr>\n",
       "    <tr>\n",
       "      <th>10580</th>\n",
       "      <td>880167.0</td>\n",
       "      <td>1590</td>\n",
       "      <td>91</td>\n",
       "      <td>1499</td>\n",
       "      <td>Albany-Schenectady-Troy, NY (Metropolitan Stat...</td>\n",
       "      <td>0.877355</td>\n",
       "      <td>1.591433</td>\n",
       "      <td>0.786782</td>\n",
       "      <td>875567</td>\n",
       "      <td>2811.554500</td>\n",
       "      <td>28078339939</td>\n",
       "      <td>-0.154064</td>\n",
       "    </tr>\n",
       "  </tbody>\n",
       "</table>\n",
       "</div>"
      ],
      "text/plain": [
       "       Population_x  TotalCrime  Violent  Property  \\\n",
       "msa                                                  \n",
       "10180      168592.0         492       62       430   \n",
       "10420      703825.0        2397      106      2291   \n",
       "10500      151670.0        1364      107      1257   \n",
       "10540      119356.0        1092       23      1069   \n",
       "10580      880167.0        1590       91      1499   \n",
       "\n",
       "                                                 msaName  TotalCrime_IncRes  \\\n",
       "msa                                                                           \n",
       "10180        Abilene, TX (Metropolitan Statistical Area)           0.626077   \n",
       "10420          Akron, OH (Metropolitan Statistical Area)           0.274181   \n",
       "10500         Albany, GA (Metropolitan Statistical Area)          -0.484781   \n",
       "10540         Albany, OR (Metropolitan Statistical Area)          -0.468862   \n",
       "10580  Albany-Schenectady-Troy, NY (Metropolitan Stat...           0.877355   \n",
       "\n",
       "       Violent_IncRes  Property_IncRes  Population_y         Area  \\\n",
       "msa                                                                 \n",
       "10180        0.429063         0.628385        167171  2743.478027   \n",
       "10420        1.229685         0.172218        703017   900.129156   \n",
       "10500       -0.215587        -0.534377        156706  1932.557130   \n",
       "10540        1.097596        -0.576382        118270  2290.129282   \n",
       "10580        1.591433         0.786782        875567  2811.554500   \n",
       "\n",
       "            Income    IncRes  \n",
       "msa                           \n",
       "10180   3740034900  0.101101  \n",
       "10420  19560044574 -0.025948  \n",
       "10500   3172077530  0.197068  \n",
       "10540   2526602010  0.125354  \n",
       "10580  28078339939 -0.154064  "
      ]
     },
     "execution_count": 78,
     "metadata": {},
     "output_type": "execute_result"
    }
   ],
   "source": [
    "msa_Demo_Crime.head()"
   ]
  },
  {
   "cell_type": "code",
   "execution_count": 79,
   "metadata": {},
   "outputs": [
    {
     "data": {
      "text/html": [
       "<div>\n",
       "<style scoped>\n",
       "    .dataframe tbody tr th:only-of-type {\n",
       "        vertical-align: middle;\n",
       "    }\n",
       "\n",
       "    .dataframe tbody tr th {\n",
       "        vertical-align: top;\n",
       "    }\n",
       "\n",
       "    .dataframe thead th {\n",
       "        text-align: right;\n",
       "    }\n",
       "</style>\n",
       "<table border=\"1\" class=\"dataframe\">\n",
       "  <thead>\n",
       "    <tr style=\"text-align: right;\">\n",
       "      <th></th>\n",
       "      <th>TotalCrime_IncRes</th>\n",
       "      <th>IncRes</th>\n",
       "    </tr>\n",
       "  </thead>\n",
       "  <tbody>\n",
       "    <tr>\n",
       "      <th>TotalCrime_IncRes</th>\n",
       "      <td>1.00000</td>\n",
       "      <td>-0.20128</td>\n",
       "    </tr>\n",
       "    <tr>\n",
       "      <th>IncRes</th>\n",
       "      <td>-0.20128</td>\n",
       "      <td>1.00000</td>\n",
       "    </tr>\n",
       "  </tbody>\n",
       "</table>\n",
       "</div>"
      ],
      "text/plain": [
       "                   TotalCrime_IncRes   IncRes\n",
       "TotalCrime_IncRes            1.00000 -0.20128\n",
       "IncRes                      -0.20128  1.00000"
      ]
     },
     "execution_count": 79,
     "metadata": {},
     "output_type": "execute_result"
    }
   ],
   "source": [
    "msa_Demo_Crime[['TotalCrime_IncRes','IncRes']].corr()"
   ]
  }
 ],
 "metadata": {
  "colab": {
   "collapsed_sections": [],
   "name": "Assignment2_ADS.ipynb",
   "provenance": []
  },
  "kernelspec": {
   "display_name": "Python 2",
   "language": "python",
   "name": "python2"
  },
  "language_info": {
   "codemirror_mode": {
    "name": "ipython",
    "version": 2
   },
   "file_extension": ".py",
   "mimetype": "text/x-python",
   "name": "python",
   "nbconvert_exporter": "python",
   "pygments_lexer": "ipython2",
   "version": "2.7.16"
  }
 },
 "nbformat": 4,
 "nbformat_minor": 1
}
