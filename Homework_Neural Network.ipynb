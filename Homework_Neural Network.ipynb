{
 "cells": [
  {
   "cell_type": "markdown",
   "metadata": {},
   "source": [
    "# Homework 7_Session 11. Neural networks"
   ]
  },
  {
   "cell_type": "markdown",
   "metadata": {},
   "source": [
    "The purpose of the below is to classify days over years 2017-2018 by their corresponding mobility patterns between 10 zones in Taipei (quantified by an aggregated temporal network of subway ridership flows across the city)"
   ]
  },
  {
   "cell_type": "code",
   "execution_count": 1,
   "metadata": {},
   "outputs": [
    {
     "name": "stderr",
     "output_type": "stream",
     "text": [
      "Using TensorFlow backend.\n"
     ]
    }
   ],
   "source": [
    "#use Python 3.7\n",
    "import numpy as np\n",
    "import pandas as pd\n",
    "import keras\n",
    "from keras.datasets import mnist\n",
    "from sklearn.preprocessing import MinMaxScaler\n",
    "from keras.models import Model, Sequential\n",
    "from keras.layers import Input, Dense\n",
    "from keras.utils import np_utils"
   ]
  },
  {
   "cell_type": "code",
   "execution_count": 2,
   "metadata": {},
   "outputs": [],
   "source": [
    "#read the data\n",
    "workfolder='';\n",
    "TNet=pd.read_csv(workfolder+'taipeiD_TNet2.csv',header=None);"
   ]
  },
  {
   "cell_type": "code",
   "execution_count": 3,
   "metadata": {},
   "outputs": [
    {
     "data": {
      "text/html": [
       "<div>\n",
       "<style scoped>\n",
       "    .dataframe tbody tr th:only-of-type {\n",
       "        vertical-align: middle;\n",
       "    }\n",
       "\n",
       "    .dataframe tbody tr th {\n",
       "        vertical-align: top;\n",
       "    }\n",
       "\n",
       "    .dataframe thead th {\n",
       "        text-align: right;\n",
       "    }\n",
       "</style>\n",
       "<table border=\"1\" class=\"dataframe\">\n",
       "  <thead>\n",
       "    <tr style=\"text-align: right;\">\n",
       "      <th></th>\n",
       "      <th>0</th>\n",
       "      <th>1</th>\n",
       "      <th>2</th>\n",
       "      <th>3</th>\n",
       "      <th>4</th>\n",
       "      <th>5</th>\n",
       "      <th>6</th>\n",
       "      <th>7</th>\n",
       "      <th>8</th>\n",
       "      <th>9</th>\n",
       "      <th>...</th>\n",
       "      <th>90</th>\n",
       "      <th>91</th>\n",
       "      <th>92</th>\n",
       "      <th>93</th>\n",
       "      <th>94</th>\n",
       "      <th>95</th>\n",
       "      <th>96</th>\n",
       "      <th>97</th>\n",
       "      <th>98</th>\n",
       "      <th>99</th>\n",
       "    </tr>\n",
       "  </thead>\n",
       "  <tbody>\n",
       "    <tr>\n",
       "      <td>0</td>\n",
       "      <td>0.017943</td>\n",
       "      <td>0.005415</td>\n",
       "      <td>0.003590</td>\n",
       "      <td>0.008316</td>\n",
       "      <td>0.007859</td>\n",
       "      <td>0.012942</td>\n",
       "      <td>0.012196</td>\n",
       "      <td>0.019543</td>\n",
       "      <td>0.001196</td>\n",
       "      <td>0.003327</td>\n",
       "      <td>...</td>\n",
       "      <td>0.002529</td>\n",
       "      <td>0.001533</td>\n",
       "      <td>0.001860</td>\n",
       "      <td>0.002375</td>\n",
       "      <td>0.005408</td>\n",
       "      <td>0.008922</td>\n",
       "      <td>0.003945</td>\n",
       "      <td>0.011075</td>\n",
       "      <td>0.005073</td>\n",
       "      <td>0.012708</td>\n",
       "    </tr>\n",
       "    <tr>\n",
       "      <td>1</td>\n",
       "      <td>0.021283</td>\n",
       "      <td>0.005215</td>\n",
       "      <td>0.003530</td>\n",
       "      <td>0.009359</td>\n",
       "      <td>0.007803</td>\n",
       "      <td>0.014288</td>\n",
       "      <td>0.011185</td>\n",
       "      <td>0.019044</td>\n",
       "      <td>0.001382</td>\n",
       "      <td>0.003499</td>\n",
       "      <td>...</td>\n",
       "      <td>0.002803</td>\n",
       "      <td>0.001757</td>\n",
       "      <td>0.001783</td>\n",
       "      <td>0.002549</td>\n",
       "      <td>0.005515</td>\n",
       "      <td>0.009650</td>\n",
       "      <td>0.003596</td>\n",
       "      <td>0.009618</td>\n",
       "      <td>0.005946</td>\n",
       "      <td>0.013709</td>\n",
       "    </tr>\n",
       "    <tr>\n",
       "      <td>2</td>\n",
       "      <td>0.028988</td>\n",
       "      <td>0.006511</td>\n",
       "      <td>0.005591</td>\n",
       "      <td>0.012970</td>\n",
       "      <td>0.007816</td>\n",
       "      <td>0.015878</td>\n",
       "      <td>0.010973</td>\n",
       "      <td>0.015768</td>\n",
       "      <td>0.002252</td>\n",
       "      <td>0.005388</td>\n",
       "      <td>...</td>\n",
       "      <td>0.004649</td>\n",
       "      <td>0.002555</td>\n",
       "      <td>0.002672</td>\n",
       "      <td>0.004291</td>\n",
       "      <td>0.007385</td>\n",
       "      <td>0.009558</td>\n",
       "      <td>0.004293</td>\n",
       "      <td>0.008791</td>\n",
       "      <td>0.010040</td>\n",
       "      <td>0.016301</td>\n",
       "    </tr>\n",
       "    <tr>\n",
       "      <td>3</td>\n",
       "      <td>0.029534</td>\n",
       "      <td>0.006471</td>\n",
       "      <td>0.005615</td>\n",
       "      <td>0.013017</td>\n",
       "      <td>0.007717</td>\n",
       "      <td>0.016098</td>\n",
       "      <td>0.011182</td>\n",
       "      <td>0.015815</td>\n",
       "      <td>0.002325</td>\n",
       "      <td>0.005443</td>\n",
       "      <td>...</td>\n",
       "      <td>0.004611</td>\n",
       "      <td>0.002473</td>\n",
       "      <td>0.002636</td>\n",
       "      <td>0.004195</td>\n",
       "      <td>0.007255</td>\n",
       "      <td>0.009487</td>\n",
       "      <td>0.004316</td>\n",
       "      <td>0.008729</td>\n",
       "      <td>0.010296</td>\n",
       "      <td>0.016437</td>\n",
       "    </tr>\n",
       "    <tr>\n",
       "      <td>4</td>\n",
       "      <td>0.029333</td>\n",
       "      <td>0.006525</td>\n",
       "      <td>0.005727</td>\n",
       "      <td>0.013098</td>\n",
       "      <td>0.007692</td>\n",
       "      <td>0.016358</td>\n",
       "      <td>0.011000</td>\n",
       "      <td>0.015677</td>\n",
       "      <td>0.002344</td>\n",
       "      <td>0.005527</td>\n",
       "      <td>...</td>\n",
       "      <td>0.004694</td>\n",
       "      <td>0.002515</td>\n",
       "      <td>0.002677</td>\n",
       "      <td>0.004222</td>\n",
       "      <td>0.007269</td>\n",
       "      <td>0.009921</td>\n",
       "      <td>0.004387</td>\n",
       "      <td>0.008923</td>\n",
       "      <td>0.010381</td>\n",
       "      <td>0.016914</td>\n",
       "    </tr>\n",
       "  </tbody>\n",
       "</table>\n",
       "<p>5 rows × 100 columns</p>\n",
       "</div>"
      ],
      "text/plain": [
       "         0         1         2         3         4         5         6   \\\n",
       "0  0.017943  0.005415  0.003590  0.008316  0.007859  0.012942  0.012196   \n",
       "1  0.021283  0.005215  0.003530  0.009359  0.007803  0.014288  0.011185   \n",
       "2  0.028988  0.006511  0.005591  0.012970  0.007816  0.015878  0.010973   \n",
       "3  0.029534  0.006471  0.005615  0.013017  0.007717  0.016098  0.011182   \n",
       "4  0.029333  0.006525  0.005727  0.013098  0.007692  0.016358  0.011000   \n",
       "\n",
       "         7         8         9   ...        90        91        92        93  \\\n",
       "0  0.019543  0.001196  0.003327  ...  0.002529  0.001533  0.001860  0.002375   \n",
       "1  0.019044  0.001382  0.003499  ...  0.002803  0.001757  0.001783  0.002549   \n",
       "2  0.015768  0.002252  0.005388  ...  0.004649  0.002555  0.002672  0.004291   \n",
       "3  0.015815  0.002325  0.005443  ...  0.004611  0.002473  0.002636  0.004195   \n",
       "4  0.015677  0.002344  0.005527  ...  0.004694  0.002515  0.002677  0.004222   \n",
       "\n",
       "         94        95        96        97        98        99  \n",
       "0  0.005408  0.008922  0.003945  0.011075  0.005073  0.012708  \n",
       "1  0.005515  0.009650  0.003596  0.009618  0.005946  0.013709  \n",
       "2  0.007385  0.009558  0.004293  0.008791  0.010040  0.016301  \n",
       "3  0.007255  0.009487  0.004316  0.008729  0.010296  0.016437  \n",
       "4  0.007269  0.009921  0.004387  0.008923  0.010381  0.016914  \n",
       "\n",
       "[5 rows x 100 columns]"
      ]
     },
     "execution_count": 3,
     "metadata": {},
     "output_type": "execute_result"
    }
   ],
   "source": [
    "TNet.head() \n",
    "#each row represents a 10x10 adjacency matrix of the normalized Taipei subway mobility network between 10 zones flattened into a 100x1 row corresponding to a single day\n",
    "#days start at jan-1-2017"
   ]
  },
  {
   "cell_type": "code",
   "execution_count": 4,
   "metadata": {},
   "outputs": [],
   "source": [
    "#convert to an array and scale the data\n",
    "X=np.array(TNet);"
   ]
  },
  {
   "cell_type": "code",
   "execution_count": 5,
   "metadata": {},
   "outputs": [],
   "source": [
    "X=MinMaxScaler(feature_range=(0, 1), copy=True).fit_transform(X)"
   ]
  },
  {
   "cell_type": "code",
   "execution_count": 6,
   "metadata": {},
   "outputs": [
    {
     "data": {
      "text/plain": [
       "(669, 100)"
      ]
     },
     "execution_count": 6,
     "metadata": {},
     "output_type": "execute_result"
    }
   ],
   "source": [
    "X.shape"
   ]
  },
  {
   "cell_type": "code",
   "execution_count": 7,
   "metadata": {},
   "outputs": [
    {
     "data": {
      "text/plain": [
       "array([0, 1, 2, 3, 4, 5, 6, 0, 1, 2])"
      ]
     },
     "execution_count": 7,
     "metadata": {},
     "output_type": "execute_result"
    }
   ],
   "source": [
    "#define day of the week corresponding to each day of observation; 0-Sunday, 1-Monday,...,6-Saturday\n",
    "y=np.array(range(669))%7; y[:10]"
   ]
  },
  {
   "cell_type": "code",
   "execution_count": 8,
   "metadata": {},
   "outputs": [
    {
     "data": {
      "text/plain": [
       "array([[1., 0., 0., 0., 0., 0., 0.],\n",
       "       [0., 1., 0., 0., 0., 0., 0.],\n",
       "       [0., 0., 1., 0., 0., 0., 0.],\n",
       "       [0., 0., 0., 1., 0., 0., 0.],\n",
       "       [0., 0., 0., 0., 1., 0., 0.]], dtype=float32)"
      ]
     },
     "execution_count": 8,
     "metadata": {},
     "output_type": "execute_result"
    }
   ],
   "source": [
    "yc=np_utils.to_categorical(y) #get categorical binary variables isSunday, isMonday,...\n",
    "yc[:5]"
   ]
  },
  {
   "cell_type": "code",
   "execution_count": 9,
   "metadata": {},
   "outputs": [],
   "source": [
    "X_test=X[400:,:]; X_train=X[:400,:]; #split the data into training and test\n",
    "y_test=yc[400:,:]; y_train=yc[:400,:]"
   ]
  },
  {
   "cell_type": "markdown",
   "metadata": {},
   "source": [
    "## Task 1. Classify weekdays/weekends\n",
    "Label the rows with ones for weekends, zeros for weekdays.\n",
    "Train a neural network with 4 layers of 30,10,3 and 1 (output) neurons over the training sample against this label, evaluating its performance over the test sample. Report the acheived accuracy (categorical) over the test sample\n",
    "\n",
    "First three layers use relu activation function, last one - sigmoid.\n",
    "Use loss='binary_crossentropy', optimizer='adam', 100 epochs, batch_size=20. "
   ]
  },
  {
   "cell_type": "code",
   "execution_count": 10,
   "metadata": {},
   "outputs": [],
   "source": [
    "label=[]\n",
    "for i in y:\n",
    "    if i==0 or i==6:\n",
    "        j=1\n",
    "    else:\n",
    "        j=0\n",
    "    label.append(j)"
   ]
  },
  {
   "cell_type": "code",
   "execution_count": 11,
   "metadata": {},
   "outputs": [],
   "source": [
    "label=np.array(label)"
   ]
  },
  {
   "cell_type": "code",
   "execution_count": 12,
   "metadata": {},
   "outputs": [
    {
     "data": {
      "text/plain": [
       "(669,)"
      ]
     },
     "execution_count": 12,
     "metadata": {},
     "output_type": "execute_result"
    }
   ],
   "source": [
    "label.shape"
   ]
  },
  {
   "cell_type": "code",
   "execution_count": 13,
   "metadata": {},
   "outputs": [],
   "source": [
    "y_test=label[400:]; y_train=label[:400]"
   ]
  },
  {
   "cell_type": "code",
   "execution_count": 14,
   "metadata": {},
   "outputs": [
    {
     "data": {
      "text/plain": [
       "(269,)"
      ]
     },
     "execution_count": 14,
     "metadata": {},
     "output_type": "execute_result"
    }
   ],
   "source": [
    "y_test.shape"
   ]
  },
  {
   "cell_type": "code",
   "execution_count": 15,
   "metadata": {},
   "outputs": [
    {
     "data": {
      "text/plain": [
       "(400,)"
      ]
     },
     "execution_count": 15,
     "metadata": {},
     "output_type": "execute_result"
    }
   ],
   "source": [
    "y_train.shape"
   ]
  },
  {
   "cell_type": "code",
   "execution_count": 16,
   "metadata": {},
   "outputs": [
    {
     "name": "stdout",
     "output_type": "stream",
     "text": [
      "Train on 400 samples, validate on 269 samples\n",
      "Epoch 1/100\n",
      " - 0s - loss: 0.6497 - categorical_accuracy: 1.0000 - val_loss: 0.6083 - val_categorical_accuracy: 1.0000\n",
      "Epoch 2/100\n",
      " - 0s - loss: 0.5885 - categorical_accuracy: 1.0000 - val_loss: 0.5814 - val_categorical_accuracy: 1.0000\n",
      "Epoch 3/100\n",
      " - 0s - loss: 0.5693 - categorical_accuracy: 1.0000 - val_loss: 0.5658 - val_categorical_accuracy: 1.0000\n",
      "Epoch 4/100\n",
      " - 0s - loss: 0.5569 - categorical_accuracy: 1.0000 - val_loss: 0.5555 - val_categorical_accuracy: 1.0000\n",
      "Epoch 5/100\n",
      " - 0s - loss: 0.5471 - categorical_accuracy: 1.0000 - val_loss: 0.5459 - val_categorical_accuracy: 1.0000\n",
      "Epoch 6/100\n",
      " - 0s - loss: 0.5345 - categorical_accuracy: 1.0000 - val_loss: 0.5362 - val_categorical_accuracy: 1.0000\n",
      "Epoch 7/100\n",
      " - 0s - loss: 0.5248 - categorical_accuracy: 1.0000 - val_loss: 0.5271 - val_categorical_accuracy: 1.0000\n",
      "Epoch 8/100\n",
      " - 0s - loss: 0.5169 - categorical_accuracy: 1.0000 - val_loss: 0.5199 - val_categorical_accuracy: 1.0000\n",
      "Epoch 9/100\n",
      " - 0s - loss: 0.5038 - categorical_accuracy: 1.0000 - val_loss: 0.5112 - val_categorical_accuracy: 1.0000\n",
      "Epoch 10/100\n",
      " - 0s - loss: 0.4952 - categorical_accuracy: 1.0000 - val_loss: 0.5030 - val_categorical_accuracy: 1.0000\n",
      "Epoch 11/100\n",
      " - 0s - loss: 0.4871 - categorical_accuracy: 1.0000 - val_loss: 0.4943 - val_categorical_accuracy: 1.0000\n",
      "Epoch 12/100\n",
      " - 0s - loss: 0.4763 - categorical_accuracy: 1.0000 - val_loss: 0.4864 - val_categorical_accuracy: 1.0000\n",
      "Epoch 13/100\n",
      " - 0s - loss: 0.4706 - categorical_accuracy: 1.0000 - val_loss: 0.4818 - val_categorical_accuracy: 1.0000\n",
      "Epoch 14/100\n",
      " - 0s - loss: 0.4612 - categorical_accuracy: 1.0000 - val_loss: 0.4720 - val_categorical_accuracy: 1.0000\n",
      "Epoch 15/100\n",
      " - 0s - loss: 0.4507 - categorical_accuracy: 1.0000 - val_loss: 0.4633 - val_categorical_accuracy: 1.0000\n",
      "Epoch 16/100\n",
      " - 0s - loss: 0.4423 - categorical_accuracy: 1.0000 - val_loss: 0.4569 - val_categorical_accuracy: 1.0000\n",
      "Epoch 17/100\n",
      " - 0s - loss: 0.4333 - categorical_accuracy: 1.0000 - val_loss: 0.4494 - val_categorical_accuracy: 1.0000\n",
      "Epoch 18/100\n",
      " - 0s - loss: 0.4265 - categorical_accuracy: 1.0000 - val_loss: 0.4449 - val_categorical_accuracy: 1.0000\n",
      "Epoch 19/100\n",
      " - 0s - loss: 0.4162 - categorical_accuracy: 1.0000 - val_loss: 0.4371 - val_categorical_accuracy: 1.0000\n",
      "Epoch 20/100\n",
      " - 0s - loss: 0.4087 - categorical_accuracy: 1.0000 - val_loss: 0.4414 - val_categorical_accuracy: 1.0000\n",
      "Epoch 21/100\n",
      " - 0s - loss: 0.4061 - categorical_accuracy: 1.0000 - val_loss: 0.4271 - val_categorical_accuracy: 1.0000\n",
      "Epoch 22/100\n",
      " - 0s - loss: 0.3959 - categorical_accuracy: 1.0000 - val_loss: 0.4203 - val_categorical_accuracy: 1.0000\n",
      "Epoch 23/100\n",
      " - 0s - loss: 0.3891 - categorical_accuracy: 1.0000 - val_loss: 0.4143 - val_categorical_accuracy: 1.0000\n",
      "Epoch 24/100\n",
      " - 0s - loss: 0.3831 - categorical_accuracy: 1.0000 - val_loss: 0.4108 - val_categorical_accuracy: 1.0000\n",
      "Epoch 25/100\n",
      " - 0s - loss: 0.3804 - categorical_accuracy: 1.0000 - val_loss: 0.4064 - val_categorical_accuracy: 1.0000\n",
      "Epoch 26/100\n",
      " - 0s - loss: 0.3712 - categorical_accuracy: 1.0000 - val_loss: 0.4021 - val_categorical_accuracy: 1.0000\n",
      "Epoch 27/100\n",
      " - 0s - loss: 0.3642 - categorical_accuracy: 1.0000 - val_loss: 0.3995 - val_categorical_accuracy: 1.0000\n",
      "Epoch 28/100\n",
      " - 0s - loss: 0.3623 - categorical_accuracy: 1.0000 - val_loss: 0.3917 - val_categorical_accuracy: 1.0000\n",
      "Epoch 29/100\n",
      " - 0s - loss: 0.3501 - categorical_accuracy: 1.0000 - val_loss: 0.3876 - val_categorical_accuracy: 1.0000\n",
      "Epoch 30/100\n",
      " - 0s - loss: 0.3467 - categorical_accuracy: 1.0000 - val_loss: 0.3893 - val_categorical_accuracy: 1.0000\n",
      "Epoch 31/100\n",
      " - 0s - loss: 0.3403 - categorical_accuracy: 1.0000 - val_loss: 0.3806 - val_categorical_accuracy: 1.0000\n",
      "Epoch 32/100\n",
      " - 0s - loss: 0.3364 - categorical_accuracy: 1.0000 - val_loss: 0.3786 - val_categorical_accuracy: 1.0000\n",
      "Epoch 33/100\n",
      " - 0s - loss: 0.3314 - categorical_accuracy: 1.0000 - val_loss: 0.3693 - val_categorical_accuracy: 1.0000\n",
      "Epoch 34/100\n",
      " - 0s - loss: 0.3236 - categorical_accuracy: 1.0000 - val_loss: 0.3724 - val_categorical_accuracy: 1.0000\n",
      "Epoch 35/100\n",
      " - 0s - loss: 0.3179 - categorical_accuracy: 1.0000 - val_loss: 0.3608 - val_categorical_accuracy: 1.0000\n",
      "Epoch 36/100\n",
      " - 0s - loss: 0.3159 - categorical_accuracy: 1.0000 - val_loss: 0.3571 - val_categorical_accuracy: 1.0000\n",
      "Epoch 37/100\n",
      " - 0s - loss: 0.3076 - categorical_accuracy: 1.0000 - val_loss: 0.3503 - val_categorical_accuracy: 1.0000\n",
      "Epoch 38/100\n",
      " - 0s - loss: 0.1348 - categorical_accuracy: 1.0000 - val_loss: 0.0775 - val_categorical_accuracy: 1.0000\n",
      "Epoch 39/100\n",
      " - 0s - loss: 0.0623 - categorical_accuracy: 1.0000 - val_loss: 0.0777 - val_categorical_accuracy: 1.0000\n",
      "Epoch 40/100\n",
      " - 0s - loss: 0.0601 - categorical_accuracy: 1.0000 - val_loss: 0.0785 - val_categorical_accuracy: 1.0000\n",
      "Epoch 41/100\n",
      " - 0s - loss: 0.0463 - categorical_accuracy: 1.0000 - val_loss: 0.0972 - val_categorical_accuracy: 1.0000\n",
      "Epoch 42/100\n",
      " - 0s - loss: 0.0395 - categorical_accuracy: 1.0000 - val_loss: 0.0766 - val_categorical_accuracy: 1.0000\n",
      "Epoch 43/100\n",
      " - 0s - loss: 0.0421 - categorical_accuracy: 1.0000 - val_loss: 0.0828 - val_categorical_accuracy: 1.0000\n",
      "Epoch 44/100\n",
      " - 0s - loss: 0.0328 - categorical_accuracy: 1.0000 - val_loss: 0.0774 - val_categorical_accuracy: 1.0000\n",
      "Epoch 45/100\n",
      " - 0s - loss: 0.0371 - categorical_accuracy: 1.0000 - val_loss: 0.0890 - val_categorical_accuracy: 1.0000\n",
      "Epoch 46/100\n",
      " - 0s - loss: 0.0367 - categorical_accuracy: 1.0000 - val_loss: 0.0863 - val_categorical_accuracy: 1.0000\n",
      "Epoch 47/100\n",
      " - 0s - loss: 0.0322 - categorical_accuracy: 1.0000 - val_loss: 0.0773 - val_categorical_accuracy: 1.0000\n",
      "Epoch 48/100\n",
      " - 0s - loss: 0.0296 - categorical_accuracy: 1.0000 - val_loss: 0.0943 - val_categorical_accuracy: 1.0000\n",
      "Epoch 49/100\n",
      " - 0s - loss: 0.0373 - categorical_accuracy: 1.0000 - val_loss: 0.0767 - val_categorical_accuracy: 1.0000\n",
      "Epoch 50/100\n",
      " - 0s - loss: 0.0289 - categorical_accuracy: 1.0000 - val_loss: 0.0932 - val_categorical_accuracy: 1.0000\n",
      "Epoch 51/100\n",
      " - 0s - loss: 0.0266 - categorical_accuracy: 1.0000 - val_loss: 0.0777 - val_categorical_accuracy: 1.0000\n",
      "Epoch 52/100\n",
      " - 0s - loss: 0.0281 - categorical_accuracy: 1.0000 - val_loss: 0.0971 - val_categorical_accuracy: 1.0000\n",
      "Epoch 53/100\n",
      " - 0s - loss: 0.0283 - categorical_accuracy: 1.0000 - val_loss: 0.0791 - val_categorical_accuracy: 1.0000\n",
      "Epoch 54/100\n",
      " - 0s - loss: 0.0259 - categorical_accuracy: 1.0000 - val_loss: 0.0805 - val_categorical_accuracy: 1.0000\n",
      "Epoch 55/100\n",
      " - 0s - loss: 0.0348 - categorical_accuracy: 1.0000 - val_loss: 0.0761 - val_categorical_accuracy: 1.0000\n",
      "Epoch 56/100\n",
      " - 0s - loss: 0.0260 - categorical_accuracy: 1.0000 - val_loss: 0.0768 - val_categorical_accuracy: 1.0000\n",
      "Epoch 57/100\n",
      " - 0s - loss: 0.0273 - categorical_accuracy: 1.0000 - val_loss: 0.0868 - val_categorical_accuracy: 1.0000\n",
      "Epoch 58/100\n",
      " - 0s - loss: 0.0376 - categorical_accuracy: 1.0000 - val_loss: 0.0831 - val_categorical_accuracy: 1.0000\n",
      "Epoch 59/100\n",
      " - 0s - loss: 0.0239 - categorical_accuracy: 1.0000 - val_loss: 0.0846 - val_categorical_accuracy: 1.0000\n",
      "Epoch 60/100\n",
      " - 0s - loss: 0.0206 - categorical_accuracy: 1.0000 - val_loss: 0.0796 - val_categorical_accuracy: 1.0000\n",
      "Epoch 61/100\n",
      " - 0s - loss: 0.0188 - categorical_accuracy: 1.0000 - val_loss: 0.0781 - val_categorical_accuracy: 1.0000\n",
      "Epoch 62/100\n",
      " - 0s - loss: 0.0202 - categorical_accuracy: 1.0000 - val_loss: 0.0757 - val_categorical_accuracy: 1.0000\n",
      "Epoch 63/100\n",
      " - 0s - loss: 0.0225 - categorical_accuracy: 1.0000 - val_loss: 0.0783 - val_categorical_accuracy: 1.0000\n",
      "Epoch 64/100\n",
      " - 0s - loss: 0.0202 - categorical_accuracy: 1.0000 - val_loss: 0.0876 - val_categorical_accuracy: 1.0000\n",
      "Epoch 65/100\n",
      " - 0s - loss: 0.0195 - categorical_accuracy: 1.0000 - val_loss: 0.0769 - val_categorical_accuracy: 1.0000\n",
      "Epoch 66/100\n",
      " - 0s - loss: 0.0189 - categorical_accuracy: 1.0000 - val_loss: 0.0810 - val_categorical_accuracy: 1.0000\n",
      "Epoch 67/100\n",
      " - 0s - loss: 0.0196 - categorical_accuracy: 1.0000 - val_loss: 0.0755 - val_categorical_accuracy: 1.0000\n",
      "Epoch 68/100\n",
      " - 0s - loss: 0.0211 - categorical_accuracy: 1.0000 - val_loss: 0.0759 - val_categorical_accuracy: 1.0000\n",
      "Epoch 69/100\n",
      " - 0s - loss: 0.0177 - categorical_accuracy: 1.0000 - val_loss: 0.0796 - val_categorical_accuracy: 1.0000\n"
     ]
    },
    {
     "name": "stdout",
     "output_type": "stream",
     "text": [
      "Epoch 70/100\n",
      " - 0s - loss: 0.0141 - categorical_accuracy: 1.0000 - val_loss: 0.0785 - val_categorical_accuracy: 1.0000\n",
      "Epoch 71/100\n",
      " - 0s - loss: 0.0143 - categorical_accuracy: 1.0000 - val_loss: 0.0751 - val_categorical_accuracy: 1.0000\n",
      "Epoch 72/100\n",
      " - 0s - loss: 0.0140 - categorical_accuracy: 1.0000 - val_loss: 0.0904 - val_categorical_accuracy: 1.0000\n",
      "Epoch 73/100\n",
      " - 0s - loss: 0.0280 - categorical_accuracy: 1.0000 - val_loss: 0.1005 - val_categorical_accuracy: 1.0000\n",
      "Epoch 74/100\n",
      " - 0s - loss: 0.0192 - categorical_accuracy: 1.0000 - val_loss: 0.0735 - val_categorical_accuracy: 1.0000\n",
      "Epoch 75/100\n",
      " - 0s - loss: 0.0158 - categorical_accuracy: 1.0000 - val_loss: 0.0754 - val_categorical_accuracy: 1.0000\n",
      "Epoch 76/100\n",
      " - 0s - loss: 0.0118 - categorical_accuracy: 1.0000 - val_loss: 0.0797 - val_categorical_accuracy: 1.0000\n",
      "Epoch 77/100\n",
      " - 0s - loss: 0.0112 - categorical_accuracy: 1.0000 - val_loss: 0.0764 - val_categorical_accuracy: 1.0000\n",
      "Epoch 78/100\n",
      " - 0s - loss: 0.0114 - categorical_accuracy: 1.0000 - val_loss: 0.0787 - val_categorical_accuracy: 1.0000\n",
      "Epoch 79/100\n",
      " - 0s - loss: 0.0103 - categorical_accuracy: 1.0000 - val_loss: 0.0758 - val_categorical_accuracy: 1.0000\n",
      "Epoch 80/100\n",
      " - 0s - loss: 0.0117 - categorical_accuracy: 1.0000 - val_loss: 0.0791 - val_categorical_accuracy: 1.0000\n",
      "Epoch 81/100\n",
      " - 0s - loss: 0.0136 - categorical_accuracy: 1.0000 - val_loss: 0.0856 - val_categorical_accuracy: 1.0000\n",
      "Epoch 82/100\n",
      " - 0s - loss: 0.0121 - categorical_accuracy: 1.0000 - val_loss: 0.0718 - val_categorical_accuracy: 1.0000\n",
      "Epoch 83/100\n",
      " - 0s - loss: 0.0127 - categorical_accuracy: 1.0000 - val_loss: 0.0736 - val_categorical_accuracy: 1.0000\n",
      "Epoch 84/100\n",
      " - 0s - loss: 0.0101 - categorical_accuracy: 1.0000 - val_loss: 0.0739 - val_categorical_accuracy: 1.0000\n",
      "Epoch 85/100\n",
      " - 0s - loss: 0.0091 - categorical_accuracy: 1.0000 - val_loss: 0.0740 - val_categorical_accuracy: 1.0000\n",
      "Epoch 86/100\n",
      " - 0s - loss: 0.0094 - categorical_accuracy: 1.0000 - val_loss: 0.0861 - val_categorical_accuracy: 1.0000\n",
      "Epoch 87/100\n",
      " - 0s - loss: 0.0095 - categorical_accuracy: 1.0000 - val_loss: 0.0784 - val_categorical_accuracy: 1.0000\n",
      "Epoch 88/100\n",
      " - 0s - loss: 0.0077 - categorical_accuracy: 1.0000 - val_loss: 0.0762 - val_categorical_accuracy: 1.0000\n",
      "Epoch 89/100\n",
      " - 0s - loss: 0.0096 - categorical_accuracy: 1.0000 - val_loss: 0.0920 - val_categorical_accuracy: 1.0000\n",
      "Epoch 90/100\n",
      " - 0s - loss: 0.0141 - categorical_accuracy: 1.0000 - val_loss: 0.0820 - val_categorical_accuracy: 1.0000\n",
      "Epoch 91/100\n",
      " - 0s - loss: 0.0084 - categorical_accuracy: 1.0000 - val_loss: 0.0804 - val_categorical_accuracy: 1.0000\n",
      "Epoch 92/100\n",
      " - 0s - loss: 0.0073 - categorical_accuracy: 1.0000 - val_loss: 0.0724 - val_categorical_accuracy: 1.0000\n",
      "Epoch 93/100\n",
      " - 0s - loss: 0.0080 - categorical_accuracy: 1.0000 - val_loss: 0.0931 - val_categorical_accuracy: 1.0000\n",
      "Epoch 94/100\n",
      " - 0s - loss: 0.0114 - categorical_accuracy: 1.0000 - val_loss: 0.0870 - val_categorical_accuracy: 1.0000\n",
      "Epoch 95/100\n",
      " - 0s - loss: 0.0069 - categorical_accuracy: 1.0000 - val_loss: 0.0768 - val_categorical_accuracy: 1.0000\n",
      "Epoch 96/100\n",
      " - 0s - loss: 0.0077 - categorical_accuracy: 1.0000 - val_loss: 0.0856 - val_categorical_accuracy: 1.0000\n",
      "Epoch 97/100\n",
      " - 0s - loss: 0.0144 - categorical_accuracy: 1.0000 - val_loss: 0.0708 - val_categorical_accuracy: 1.0000\n",
      "Epoch 98/100\n",
      " - 0s - loss: 0.0076 - categorical_accuracy: 1.0000 - val_loss: 0.0759 - val_categorical_accuracy: 1.0000\n",
      "Epoch 99/100\n",
      " - 0s - loss: 0.0104 - categorical_accuracy: 1.0000 - val_loss: 0.0863 - val_categorical_accuracy: 1.0000\n",
      "Epoch 100/100\n",
      " - 0s - loss: 0.0052 - categorical_accuracy: 1.0000 - val_loss: 0.0719 - val_categorical_accuracy: 1.0000\n"
     ]
    }
   ],
   "source": [
    "model = Sequential()\n",
    "model.add(Dense(units=30,activation='relu',input_dim=100))\n",
    "model.add(Dense(units=10,activation='relu'))\n",
    "model.add(Dense(units=3,activation='relu'))\n",
    "model.add(Dense(units=1, activation='sigmoid'))\n",
    "\n",
    "model.compile(loss='binary_crossentropy',optimizer='adam',metrics=['categorical_accuracy'])\n",
    "model.fit(X_train,y_train,validation_data=(X_test,y_test),epochs=100,batch_size=20,verbose=2)\n",
    "scores = model.evaluate(X_test,y_test,verbose=0)\n",
    "y_predict=model.predict(X_test)"
   ]
  },
  {
   "cell_type": "code",
   "execution_count": 17,
   "metadata": {},
   "outputs": [],
   "source": [
    "y_label=1*(y_predict>0.5)"
   ]
  },
  {
   "cell_type": "code",
   "execution_count": 18,
   "metadata": {},
   "outputs": [
    {
     "data": {
      "text/plain": [
       "(269, 1)"
      ]
     },
     "execution_count": 18,
     "metadata": {},
     "output_type": "execute_result"
    }
   ],
   "source": [
    "y_label.reshape(-1,1).shape"
   ]
  },
  {
   "cell_type": "code",
   "execution_count": 19,
   "metadata": {},
   "outputs": [
    {
     "data": {
      "text/plain": [
       "(269, 1)"
      ]
     },
     "execution_count": 19,
     "metadata": {},
     "output_type": "execute_result"
    }
   ],
   "source": [
    "y_test.reshape(-1,1).shape"
   ]
  },
  {
   "cell_type": "code",
   "execution_count": 24,
   "metadata": {},
   "outputs": [
    {
     "data": {
      "text/plain": [
       "0.966542750929368"
      ]
     },
     "execution_count": 24,
     "metadata": {},
     "output_type": "execute_result"
    }
   ],
   "source": [
    "#Test accuracy\n",
    "1.0*sum((y_label.reshape(-1,1).flatten())==(y_test.reshape(-1,1).flatten()))/len(y_predict)"
   ]
  },
  {
   "cell_type": "markdown",
   "metadata": {},
   "source": [
    "## Task 2. Classify all days of the week\n",
    "Train a neural network against the origial categorical label. Use 5 layers of 40,15,5 and 7 (outputs, representing probabilities for a current input to correspond to each of the weekdays) neurons over the training sample, evaluating its performance over the test sample (use 'categorical_accurary'). Report the acheived accuracy (categorical) over the test sample.\n",
    "\n",
    "First three layers use relu activation function, last one - sigmoid.\n",
    "Use loss='binary_crossentropy', optimizer='adam', 200 epochs, batch_size=20"
   ]
  },
  {
   "cell_type": "code",
   "execution_count": 21,
   "metadata": {},
   "outputs": [],
   "source": [
    "X_test=X[400:,:]; X_train=X[:400,:]; #split the data into training and test\n",
    "y_test=yc[400:,:]; y_train=yc[:400,:]"
   ]
  },
  {
   "cell_type": "code",
   "execution_count": 22,
   "metadata": {},
   "outputs": [
    {
     "name": "stdout",
     "output_type": "stream",
     "text": [
      "Train on 400 samples, validate on 269 samples\n",
      "Epoch 1/200\n",
      " - 0s - loss: 0.6895 - categorical_accuracy: 0.1575 - val_loss: 0.6853 - val_categorical_accuracy: 0.1375\n",
      "Epoch 2/200\n",
      " - 0s - loss: 0.6817 - categorical_accuracy: 0.2100 - val_loss: 0.6771 - val_categorical_accuracy: 0.2751\n",
      "Epoch 3/200\n",
      " - 0s - loss: 0.6724 - categorical_accuracy: 0.2775 - val_loss: 0.6676 - val_categorical_accuracy: 0.2714\n",
      "Epoch 4/200\n",
      " - 0s - loss: 0.6626 - categorical_accuracy: 0.2575 - val_loss: 0.6566 - val_categorical_accuracy: 0.2677\n",
      "Epoch 5/200\n",
      " - 0s - loss: 0.6515 - categorical_accuracy: 0.2675 - val_loss: 0.6440 - val_categorical_accuracy: 0.2751\n",
      "Epoch 6/200\n",
      " - 0s - loss: 0.6373 - categorical_accuracy: 0.2550 - val_loss: 0.6297 - val_categorical_accuracy: 0.2714\n",
      "Epoch 7/200\n",
      " - 0s - loss: 0.6229 - categorical_accuracy: 0.2575 - val_loss: 0.6144 - val_categorical_accuracy: 0.2379\n",
      "Epoch 8/200\n",
      " - 0s - loss: 0.6067 - categorical_accuracy: 0.2500 - val_loss: 0.6002 - val_categorical_accuracy: 0.1524\n",
      "Epoch 9/200\n",
      " - 0s - loss: 0.5910 - categorical_accuracy: 0.2125 - val_loss: 0.5823 - val_categorical_accuracy: 0.2379\n",
      "Epoch 10/200\n",
      " - 0s - loss: 0.5726 - categorical_accuracy: 0.1900 - val_loss: 0.5616 - val_categorical_accuracy: 0.1599\n",
      "Epoch 11/200\n",
      " - 0s - loss: 0.5441 - categorical_accuracy: 0.1425 - val_loss: 0.5276 - val_categorical_accuracy: 0.1450\n",
      "Epoch 12/200\n",
      " - 0s - loss: 0.5100 - categorical_accuracy: 0.1425 - val_loss: 0.4896 - val_categorical_accuracy: 0.1599\n",
      "Epoch 13/200\n",
      " - 0s - loss: 0.4601 - categorical_accuracy: 0.2425 - val_loss: 0.4246 - val_categorical_accuracy: 0.3086\n",
      "Epoch 14/200\n",
      " - 0s - loss: 0.4037 - categorical_accuracy: 0.3350 - val_loss: 0.3857 - val_categorical_accuracy: 0.3346\n",
      "Epoch 15/200\n",
      " - 0s - loss: 0.3744 - categorical_accuracy: 0.2950 - val_loss: 0.3660 - val_categorical_accuracy: 0.3420\n",
      "Epoch 16/200\n",
      " - 0s - loss: 0.3588 - categorical_accuracy: 0.3650 - val_loss: 0.3552 - val_categorical_accuracy: 0.2751\n",
      "Epoch 17/200\n",
      " - 0s - loss: 0.3485 - categorical_accuracy: 0.3225 - val_loss: 0.3479 - val_categorical_accuracy: 0.4424\n",
      "Epoch 18/200\n",
      " - 0s - loss: 0.3400 - categorical_accuracy: 0.4150 - val_loss: 0.3382 - val_categorical_accuracy: 0.4498\n",
      "Epoch 19/200\n",
      " - 0s - loss: 0.3335 - categorical_accuracy: 0.5050 - val_loss: 0.3345 - val_categorical_accuracy: 0.4758\n",
      "Epoch 20/200\n",
      " - 0s - loss: 0.3276 - categorical_accuracy: 0.4900 - val_loss: 0.3275 - val_categorical_accuracy: 0.5651\n",
      "Epoch 21/200\n",
      " - 0s - loss: 0.3195 - categorical_accuracy: 0.5125 - val_loss: 0.3248 - val_categorical_accuracy: 0.5353\n",
      "Epoch 22/200\n",
      " - 0s - loss: 0.3126 - categorical_accuracy: 0.5225 - val_loss: 0.3174 - val_categorical_accuracy: 0.5688\n",
      "Epoch 23/200\n",
      " - 0s - loss: 0.3080 - categorical_accuracy: 0.5125 - val_loss: 0.3139 - val_categorical_accuracy: 0.5688\n",
      "Epoch 24/200\n",
      " - 0s - loss: 0.3027 - categorical_accuracy: 0.5200 - val_loss: 0.3063 - val_categorical_accuracy: 0.5725\n",
      "Epoch 25/200\n",
      " - 0s - loss: 0.2975 - categorical_accuracy: 0.5225 - val_loss: 0.3044 - val_categorical_accuracy: 0.5613\n",
      "Epoch 26/200\n",
      " - 0s - loss: 0.2929 - categorical_accuracy: 0.5575 - val_loss: 0.3085 - val_categorical_accuracy: 0.5279\n",
      "Epoch 27/200\n",
      " - 0s - loss: 0.2893 - categorical_accuracy: 0.5300 - val_loss: 0.2994 - val_categorical_accuracy: 0.5762\n",
      "Epoch 28/200\n",
      " - 0s - loss: 0.2850 - categorical_accuracy: 0.5450 - val_loss: 0.2955 - val_categorical_accuracy: 0.6097\n",
      "Epoch 29/200\n",
      " - 0s - loss: 0.2806 - categorical_accuracy: 0.5675 - val_loss: 0.2897 - val_categorical_accuracy: 0.6097\n",
      "Epoch 30/200\n",
      " - 0s - loss: 0.2772 - categorical_accuracy: 0.5725 - val_loss: 0.2917 - val_categorical_accuracy: 0.6283\n",
      "Epoch 31/200\n",
      " - 0s - loss: 0.2727 - categorical_accuracy: 0.5925 - val_loss: 0.2844 - val_categorical_accuracy: 0.6134\n",
      "Epoch 32/200\n",
      " - 0s - loss: 0.2693 - categorical_accuracy: 0.5775 - val_loss: 0.2830 - val_categorical_accuracy: 0.6171\n",
      "Epoch 33/200\n",
      " - 0s - loss: 0.2678 - categorical_accuracy: 0.5600 - val_loss: 0.2802 - val_categorical_accuracy: 0.6097\n",
      "Epoch 34/200\n",
      " - 0s - loss: 0.2638 - categorical_accuracy: 0.6000 - val_loss: 0.2792 - val_categorical_accuracy: 0.6059\n",
      "Epoch 35/200\n",
      " - 0s - loss: 0.2620 - categorical_accuracy: 0.5900 - val_loss: 0.2785 - val_categorical_accuracy: 0.6245\n",
      "Epoch 36/200\n",
      " - 0s - loss: 0.2586 - categorical_accuracy: 0.5850 - val_loss: 0.2737 - val_categorical_accuracy: 0.6245\n",
      "Epoch 37/200\n",
      " - 0s - loss: 0.2560 - categorical_accuracy: 0.5600 - val_loss: 0.2880 - val_categorical_accuracy: 0.4907\n",
      "Epoch 38/200\n",
      " - 0s - loss: 0.2541 - categorical_accuracy: 0.5675 - val_loss: 0.2796 - val_categorical_accuracy: 0.6097\n",
      "Epoch 39/200\n",
      " - 0s - loss: 0.2519 - categorical_accuracy: 0.6000 - val_loss: 0.2810 - val_categorical_accuracy: 0.5130\n",
      "Epoch 40/200\n",
      " - 0s - loss: 0.2488 - categorical_accuracy: 0.6025 - val_loss: 0.2710 - val_categorical_accuracy: 0.6134\n",
      "Epoch 41/200\n",
      " - 0s - loss: 0.2467 - categorical_accuracy: 0.6125 - val_loss: 0.2693 - val_categorical_accuracy: 0.6283\n",
      "Epoch 42/200\n",
      " - 0s - loss: 0.2442 - categorical_accuracy: 0.6000 - val_loss: 0.2686 - val_categorical_accuracy: 0.6320\n",
      "Epoch 43/200\n",
      " - 0s - loss: 0.2426 - categorical_accuracy: 0.6250 - val_loss: 0.2787 - val_categorical_accuracy: 0.5539\n",
      "Epoch 44/200\n",
      " - 0s - loss: 0.2418 - categorical_accuracy: 0.6175 - val_loss: 0.2656 - val_categorical_accuracy: 0.6283\n",
      "Epoch 45/200\n",
      " - 0s - loss: 0.2398 - categorical_accuracy: 0.6000 - val_loss: 0.2760 - val_categorical_accuracy: 0.5316\n",
      "Epoch 46/200\n",
      " - 0s - loss: 0.2398 - categorical_accuracy: 0.6175 - val_loss: 0.2643 - val_categorical_accuracy: 0.6691\n",
      "Epoch 47/200\n",
      " - 0s - loss: 0.2376 - categorical_accuracy: 0.5950 - val_loss: 0.2582 - val_categorical_accuracy: 0.5836\n",
      "Epoch 48/200\n",
      " - 0s - loss: 0.2360 - categorical_accuracy: 0.6175 - val_loss: 0.2639 - val_categorical_accuracy: 0.6245\n",
      "Epoch 49/200\n",
      " - 0s - loss: 0.2334 - categorical_accuracy: 0.6450 - val_loss: 0.2608 - val_categorical_accuracy: 0.6357\n",
      "Epoch 50/200\n",
      " - 0s - loss: 0.2313 - categorical_accuracy: 0.6375 - val_loss: 0.2580 - val_categorical_accuracy: 0.6506\n",
      "Epoch 51/200\n",
      " - 0s - loss: 0.2301 - categorical_accuracy: 0.6425 - val_loss: 0.2566 - val_categorical_accuracy: 0.6617\n",
      "Epoch 52/200\n",
      " - 0s - loss: 0.2291 - categorical_accuracy: 0.6350 - val_loss: 0.2661 - val_categorical_accuracy: 0.5465\n",
      "Epoch 53/200\n",
      " - 0s - loss: 0.2278 - categorical_accuracy: 0.6275 - val_loss: 0.2567 - val_categorical_accuracy: 0.6580\n",
      "Epoch 54/200\n",
      " - 0s - loss: 0.2272 - categorical_accuracy: 0.6550 - val_loss: 0.2581 - val_categorical_accuracy: 0.6171\n",
      "Epoch 55/200\n",
      " - 0s - loss: 0.2280 - categorical_accuracy: 0.6325 - val_loss: 0.2562 - val_categorical_accuracy: 0.6729\n",
      "Epoch 56/200\n",
      " - 0s - loss: 0.2250 - categorical_accuracy: 0.6450 - val_loss: 0.2566 - val_categorical_accuracy: 0.6431\n",
      "Epoch 57/200\n",
      " - 0s - loss: 0.2233 - categorical_accuracy: 0.6425 - val_loss: 0.2605 - val_categorical_accuracy: 0.5428\n",
      "Epoch 58/200\n",
      " - 0s - loss: 0.2221 - categorical_accuracy: 0.6600 - val_loss: 0.2591 - val_categorical_accuracy: 0.5948\n",
      "Epoch 59/200\n",
      " - 0s - loss: 0.2211 - categorical_accuracy: 0.6575 - val_loss: 0.2558 - val_categorical_accuracy: 0.6245\n",
      "Epoch 60/200\n",
      " - 0s - loss: 0.2200 - categorical_accuracy: 0.6450 - val_loss: 0.2579 - val_categorical_accuracy: 0.5725\n",
      "Epoch 61/200\n",
      " - 0s - loss: 0.2208 - categorical_accuracy: 0.6600 - val_loss: 0.2649 - val_categorical_accuracy: 0.6059\n",
      "Epoch 62/200\n",
      " - 0s - loss: 0.2188 - categorical_accuracy: 0.6550 - val_loss: 0.2576 - val_categorical_accuracy: 0.6245\n",
      "Epoch 63/200\n",
      " - 0s - loss: 0.2171 - categorical_accuracy: 0.6700 - val_loss: 0.2486 - val_categorical_accuracy: 0.6654\n",
      "Epoch 64/200\n",
      " - 0s - loss: 0.2166 - categorical_accuracy: 0.6850 - val_loss: 0.2509 - val_categorical_accuracy: 0.6654\n",
      "Epoch 65/200\n",
      " - 0s - loss: 0.2149 - categorical_accuracy: 0.6900 - val_loss: 0.2513 - val_categorical_accuracy: 0.6283\n",
      "Epoch 66/200\n",
      " - 0s - loss: 0.2155 - categorical_accuracy: 0.6300 - val_loss: 0.2547 - val_categorical_accuracy: 0.5613\n",
      "Epoch 67/200\n",
      " - 0s - loss: 0.2129 - categorical_accuracy: 0.7050 - val_loss: 0.2576 - val_categorical_accuracy: 0.6097\n",
      "Epoch 68/200\n",
      " - 0s - loss: 0.2137 - categorical_accuracy: 0.6850 - val_loss: 0.2520 - val_categorical_accuracy: 0.5985\n",
      "Epoch 69/200\n",
      " - 0s - loss: 0.2130 - categorical_accuracy: 0.6825 - val_loss: 0.2615 - val_categorical_accuracy: 0.5762\n"
     ]
    },
    {
     "name": "stdout",
     "output_type": "stream",
     "text": [
      "Epoch 70/200\n",
      " - 0s - loss: 0.2119 - categorical_accuracy: 0.6750 - val_loss: 0.2529 - val_categorical_accuracy: 0.5948\n",
      "Epoch 71/200\n",
      " - 0s - loss: 0.2117 - categorical_accuracy: 0.6725 - val_loss: 0.2559 - val_categorical_accuracy: 0.5688\n",
      "Epoch 72/200\n",
      " - 0s - loss: 0.2098 - categorical_accuracy: 0.6725 - val_loss: 0.2636 - val_categorical_accuracy: 0.5688\n",
      "Epoch 73/200\n",
      " - 0s - loss: 0.2089 - categorical_accuracy: 0.7000 - val_loss: 0.2518 - val_categorical_accuracy: 0.5985\n",
      "Epoch 74/200\n",
      " - 0s - loss: 0.2081 - categorical_accuracy: 0.6750 - val_loss: 0.2576 - val_categorical_accuracy: 0.5985\n",
      "Epoch 75/200\n",
      " - 0s - loss: 0.2076 - categorical_accuracy: 0.6700 - val_loss: 0.2478 - val_categorical_accuracy: 0.6729\n",
      "Epoch 76/200\n",
      " - 0s - loss: 0.2070 - categorical_accuracy: 0.6950 - val_loss: 0.2522 - val_categorical_accuracy: 0.5799\n",
      "Epoch 77/200\n",
      " - 0s - loss: 0.2068 - categorical_accuracy: 0.6850 - val_loss: 0.2512 - val_categorical_accuracy: 0.6283\n",
      "Epoch 78/200\n",
      " - 0s - loss: 0.2058 - categorical_accuracy: 0.6850 - val_loss: 0.2634 - val_categorical_accuracy: 0.5762\n",
      "Epoch 79/200\n",
      " - 0s - loss: 0.2043 - categorical_accuracy: 0.6675 - val_loss: 0.2583 - val_categorical_accuracy: 0.5762\n",
      "Epoch 80/200\n",
      " - 0s - loss: 0.2038 - categorical_accuracy: 0.6975 - val_loss: 0.2582 - val_categorical_accuracy: 0.5836\n",
      "Epoch 81/200\n",
      " - 0s - loss: 0.2035 - categorical_accuracy: 0.6975 - val_loss: 0.2496 - val_categorical_accuracy: 0.6022\n",
      "Epoch 82/200\n",
      " - 0s - loss: 0.2033 - categorical_accuracy: 0.6775 - val_loss: 0.2500 - val_categorical_accuracy: 0.6097\n",
      "Epoch 83/200\n",
      " - 0s - loss: 0.2035 - categorical_accuracy: 0.6550 - val_loss: 0.2482 - val_categorical_accuracy: 0.6431\n",
      "Epoch 84/200\n",
      " - 0s - loss: 0.2005 - categorical_accuracy: 0.6775 - val_loss: 0.2453 - val_categorical_accuracy: 0.6208\n",
      "Epoch 85/200\n",
      " - 0s - loss: 0.2009 - categorical_accuracy: 0.6700 - val_loss: 0.2519 - val_categorical_accuracy: 0.5874\n",
      "Epoch 86/200\n",
      " - 0s - loss: 0.1994 - categorical_accuracy: 0.6675 - val_loss: 0.2457 - val_categorical_accuracy: 0.6171\n",
      "Epoch 87/200\n",
      " - 0s - loss: 0.1990 - categorical_accuracy: 0.6825 - val_loss: 0.2446 - val_categorical_accuracy: 0.6320\n",
      "Epoch 88/200\n",
      " - 0s - loss: 0.1969 - categorical_accuracy: 0.7000 - val_loss: 0.2397 - val_categorical_accuracy: 0.6729\n",
      "Epoch 89/200\n",
      " - 0s - loss: 0.1975 - categorical_accuracy: 0.6875 - val_loss: 0.2396 - val_categorical_accuracy: 0.6468\n",
      "Epoch 90/200\n",
      " - 0s - loss: 0.1981 - categorical_accuracy: 0.7025 - val_loss: 0.2541 - val_categorical_accuracy: 0.6059\n",
      "Epoch 91/200\n",
      " - 0s - loss: 0.1964 - categorical_accuracy: 0.7025 - val_loss: 0.2462 - val_categorical_accuracy: 0.5874\n",
      "Epoch 92/200\n",
      " - 0s - loss: 0.1968 - categorical_accuracy: 0.6850 - val_loss: 0.2406 - val_categorical_accuracy: 0.6468\n",
      "Epoch 93/200\n",
      " - 0s - loss: 0.1942 - categorical_accuracy: 0.6875 - val_loss: 0.2391 - val_categorical_accuracy: 0.6580\n",
      "Epoch 94/200\n",
      " - 0s - loss: 0.1942 - categorical_accuracy: 0.7300 - val_loss: 0.2514 - val_categorical_accuracy: 0.6022\n",
      "Epoch 95/200\n",
      " - 0s - loss: 0.1923 - categorical_accuracy: 0.7125 - val_loss: 0.2439 - val_categorical_accuracy: 0.6245\n",
      "Epoch 96/200\n",
      " - 0s - loss: 0.1924 - categorical_accuracy: 0.6825 - val_loss: 0.2504 - val_categorical_accuracy: 0.5836\n",
      "Epoch 97/200\n",
      " - 0s - loss: 0.1917 - categorical_accuracy: 0.7325 - val_loss: 0.2494 - val_categorical_accuracy: 0.6134\n",
      "Epoch 98/200\n",
      " - 0s - loss: 0.1899 - categorical_accuracy: 0.7200 - val_loss: 0.2395 - val_categorical_accuracy: 0.6245\n",
      "Epoch 99/200\n",
      " - 0s - loss: 0.1909 - categorical_accuracy: 0.7275 - val_loss: 0.2414 - val_categorical_accuracy: 0.5948\n",
      "Epoch 100/200\n",
      " - 0s - loss: 0.1883 - categorical_accuracy: 0.7200 - val_loss: 0.2480 - val_categorical_accuracy: 0.5985\n",
      "Epoch 101/200\n",
      " - 0s - loss: 0.1883 - categorical_accuracy: 0.7300 - val_loss: 0.2428 - val_categorical_accuracy: 0.5985\n",
      "Epoch 102/200\n",
      " - 0s - loss: 0.1875 - categorical_accuracy: 0.7325 - val_loss: 0.2470 - val_categorical_accuracy: 0.5948\n",
      "Epoch 103/200\n",
      " - 0s - loss: 0.1865 - categorical_accuracy: 0.7100 - val_loss: 0.2367 - val_categorical_accuracy: 0.6357\n",
      "Epoch 104/200\n",
      " - 0s - loss: 0.1863 - categorical_accuracy: 0.7350 - val_loss: 0.2343 - val_categorical_accuracy: 0.6877\n",
      "Epoch 105/200\n",
      " - 0s - loss: 0.1870 - categorical_accuracy: 0.7175 - val_loss: 0.2347 - val_categorical_accuracy: 0.6766\n",
      "Epoch 106/200\n",
      " - 0s - loss: 0.1857 - categorical_accuracy: 0.7350 - val_loss: 0.2427 - val_categorical_accuracy: 0.5911\n",
      "Epoch 107/200\n",
      " - 0s - loss: 0.1858 - categorical_accuracy: 0.6950 - val_loss: 0.2381 - val_categorical_accuracy: 0.6394\n",
      "Epoch 108/200\n",
      " - 0s - loss: 0.1846 - categorical_accuracy: 0.7150 - val_loss: 0.2415 - val_categorical_accuracy: 0.5874\n",
      "Epoch 109/200\n",
      " - 0s - loss: 0.1837 - categorical_accuracy: 0.7575 - val_loss: 0.2393 - val_categorical_accuracy: 0.6468\n",
      "Epoch 110/200\n",
      " - 0s - loss: 0.1858 - categorical_accuracy: 0.7400 - val_loss: 0.2437 - val_categorical_accuracy: 0.5874\n",
      "Epoch 111/200\n",
      " - 0s - loss: 0.1839 - categorical_accuracy: 0.7150 - val_loss: 0.2503 - val_categorical_accuracy: 0.6171\n",
      "Epoch 112/200\n",
      " - 0s - loss: 0.1826 - categorical_accuracy: 0.7300 - val_loss: 0.2365 - val_categorical_accuracy: 0.6245\n",
      "Epoch 113/200\n",
      " - 0s - loss: 0.1812 - categorical_accuracy: 0.7325 - val_loss: 0.2440 - val_categorical_accuracy: 0.5874\n",
      "Epoch 114/200\n",
      " - 0s - loss: 0.1810 - categorical_accuracy: 0.7275 - val_loss: 0.2614 - val_categorical_accuracy: 0.5576\n",
      "Epoch 115/200\n",
      " - 0s - loss: 0.1801 - categorical_accuracy: 0.7325 - val_loss: 0.2350 - val_categorical_accuracy: 0.6134\n",
      "Epoch 116/200\n",
      " - 0s - loss: 0.1784 - categorical_accuracy: 0.7675 - val_loss: 0.2486 - val_categorical_accuracy: 0.6097\n",
      "Epoch 117/200\n",
      " - 0s - loss: 0.1789 - categorical_accuracy: 0.7525 - val_loss: 0.2430 - val_categorical_accuracy: 0.5911\n",
      "Epoch 118/200\n",
      " - 0s - loss: 0.1769 - categorical_accuracy: 0.7600 - val_loss: 0.2406 - val_categorical_accuracy: 0.5874\n",
      "Epoch 119/200\n",
      " - 0s - loss: 0.1772 - categorical_accuracy: 0.7575 - val_loss: 0.2369 - val_categorical_accuracy: 0.6357\n",
      "Epoch 120/200\n",
      " - 0s - loss: 0.1777 - categorical_accuracy: 0.7500 - val_loss: 0.2414 - val_categorical_accuracy: 0.6245\n",
      "Epoch 121/200\n",
      " - 0s - loss: 0.1769 - categorical_accuracy: 0.7450 - val_loss: 0.2315 - val_categorical_accuracy: 0.6543\n",
      "Epoch 122/200\n",
      " - 0s - loss: 0.1775 - categorical_accuracy: 0.7325 - val_loss: 0.2391 - val_categorical_accuracy: 0.6022\n",
      "Epoch 123/200\n",
      " - 0s - loss: 0.1762 - categorical_accuracy: 0.7375 - val_loss: 0.2340 - val_categorical_accuracy: 0.6134\n",
      "Epoch 124/200\n",
      " - 0s - loss: 0.1773 - categorical_accuracy: 0.7350 - val_loss: 0.2488 - val_categorical_accuracy: 0.5836\n",
      "Epoch 125/200\n",
      " - 0s - loss: 0.1752 - categorical_accuracy: 0.7650 - val_loss: 0.2410 - val_categorical_accuracy: 0.5948\n",
      "Epoch 126/200\n",
      " - 0s - loss: 0.1745 - categorical_accuracy: 0.7675 - val_loss: 0.2292 - val_categorical_accuracy: 0.6654\n",
      "Epoch 127/200\n",
      " - 0s - loss: 0.1732 - categorical_accuracy: 0.7600 - val_loss: 0.2322 - val_categorical_accuracy: 0.6543\n",
      "Epoch 128/200\n",
      " - 0s - loss: 0.1727 - categorical_accuracy: 0.7500 - val_loss: 0.2316 - val_categorical_accuracy: 0.6431\n",
      "Epoch 129/200\n",
      " - 0s - loss: 0.1726 - categorical_accuracy: 0.7650 - val_loss: 0.2349 - val_categorical_accuracy: 0.6320\n",
      "Epoch 130/200\n",
      " - 0s - loss: 0.1713 - categorical_accuracy: 0.7775 - val_loss: 0.2334 - val_categorical_accuracy: 0.6394\n",
      "Epoch 131/200\n",
      " - 0s - loss: 0.1712 - categorical_accuracy: 0.7550 - val_loss: 0.2481 - val_categorical_accuracy: 0.5799\n",
      "Epoch 132/200\n",
      " - 0s - loss: 0.1738 - categorical_accuracy: 0.7425 - val_loss: 0.2358 - val_categorical_accuracy: 0.6097\n",
      "Epoch 133/200\n",
      " - 0s - loss: 0.1706 - categorical_accuracy: 0.7875 - val_loss: 0.2271 - val_categorical_accuracy: 0.6506\n",
      "Epoch 134/200\n",
      " - 0s - loss: 0.1702 - categorical_accuracy: 0.7675 - val_loss: 0.2511 - val_categorical_accuracy: 0.5688\n",
      "Epoch 135/200\n",
      " - 0s - loss: 0.1715 - categorical_accuracy: 0.7375 - val_loss: 0.2270 - val_categorical_accuracy: 0.6617\n",
      "Epoch 136/200\n",
      " - 0s - loss: 0.1677 - categorical_accuracy: 0.7675 - val_loss: 0.2349 - val_categorical_accuracy: 0.6059\n",
      "Epoch 137/200\n",
      " - 0s - loss: 0.1680 - categorical_accuracy: 0.7775 - val_loss: 0.2453 - val_categorical_accuracy: 0.5948\n",
      "Epoch 138/200\n",
      " - 0s - loss: 0.1684 - categorical_accuracy: 0.7550 - val_loss: 0.2404 - val_categorical_accuracy: 0.5985\n"
     ]
    },
    {
     "name": "stdout",
     "output_type": "stream",
     "text": [
      "Epoch 139/200\n",
      " - 0s - loss: 0.1673 - categorical_accuracy: 0.7675 - val_loss: 0.2448 - val_categorical_accuracy: 0.5874\n",
      "Epoch 140/200\n",
      " - 0s - loss: 0.1686 - categorical_accuracy: 0.7450 - val_loss: 0.2331 - val_categorical_accuracy: 0.6357\n",
      "Epoch 141/200\n",
      " - 0s - loss: 0.1654 - categorical_accuracy: 0.7825 - val_loss: 0.2291 - val_categorical_accuracy: 0.6729\n",
      "Epoch 142/200\n",
      " - 0s - loss: 0.1655 - categorical_accuracy: 0.7775 - val_loss: 0.2371 - val_categorical_accuracy: 0.6171\n",
      "Epoch 143/200\n",
      " - 0s - loss: 0.1655 - categorical_accuracy: 0.7575 - val_loss: 0.2409 - val_categorical_accuracy: 0.5911\n",
      "Epoch 144/200\n",
      " - 0s - loss: 0.1651 - categorical_accuracy: 0.7775 - val_loss: 0.2399 - val_categorical_accuracy: 0.5911\n",
      "Epoch 145/200\n",
      " - 0s - loss: 0.1638 - categorical_accuracy: 0.7775 - val_loss: 0.2291 - val_categorical_accuracy: 0.6617\n",
      "Epoch 146/200\n",
      " - 0s - loss: 0.1640 - categorical_accuracy: 0.7800 - val_loss: 0.2571 - val_categorical_accuracy: 0.5688\n",
      "Epoch 147/200\n",
      " - 0s - loss: 0.1664 - categorical_accuracy: 0.7625 - val_loss: 0.2342 - val_categorical_accuracy: 0.6283\n",
      "Epoch 148/200\n",
      " - 0s - loss: 0.1645 - categorical_accuracy: 0.7675 - val_loss: 0.2259 - val_categorical_accuracy: 0.6914\n",
      "Epoch 149/200\n",
      " - 0s - loss: 0.1648 - categorical_accuracy: 0.7625 - val_loss: 0.2388 - val_categorical_accuracy: 0.6022\n",
      "Epoch 150/200\n",
      " - 0s - loss: 0.1646 - categorical_accuracy: 0.7500 - val_loss: 0.2312 - val_categorical_accuracy: 0.6357\n",
      "Epoch 151/200\n",
      " - 0s - loss: 0.1631 - categorical_accuracy: 0.7825 - val_loss: 0.2285 - val_categorical_accuracy: 0.6654\n",
      "Epoch 152/200\n",
      " - 0s - loss: 0.1647 - categorical_accuracy: 0.7675 - val_loss: 0.2322 - val_categorical_accuracy: 0.6468\n",
      "Epoch 153/200\n",
      " - 0s - loss: 0.1616 - categorical_accuracy: 0.7725 - val_loss: 0.2257 - val_categorical_accuracy: 0.6580\n",
      "Epoch 154/200\n",
      " - 0s - loss: 0.1609 - categorical_accuracy: 0.7850 - val_loss: 0.2284 - val_categorical_accuracy: 0.6543\n",
      "Epoch 155/200\n",
      " - 0s - loss: 0.1603 - categorical_accuracy: 0.7550 - val_loss: 0.2283 - val_categorical_accuracy: 0.6506\n",
      "Epoch 156/200\n",
      " - 0s - loss: 0.1634 - categorical_accuracy: 0.7725 - val_loss: 0.2587 - val_categorical_accuracy: 0.5651\n",
      "Epoch 157/200\n",
      " - 0s - loss: 0.1638 - categorical_accuracy: 0.7600 - val_loss: 0.2223 - val_categorical_accuracy: 0.6952\n",
      "Epoch 158/200\n",
      " - 0s - loss: 0.1609 - categorical_accuracy: 0.7500 - val_loss: 0.2304 - val_categorical_accuracy: 0.6580\n",
      "Epoch 159/200\n",
      " - 0s - loss: 0.1604 - categorical_accuracy: 0.7550 - val_loss: 0.2313 - val_categorical_accuracy: 0.6543\n",
      "Epoch 160/200\n",
      " - 0s - loss: 0.1586 - categorical_accuracy: 0.7700 - val_loss: 0.2345 - val_categorical_accuracy: 0.6468\n",
      "Epoch 161/200\n",
      " - 0s - loss: 0.1578 - categorical_accuracy: 0.7625 - val_loss: 0.2313 - val_categorical_accuracy: 0.6617\n",
      "Epoch 162/200\n",
      " - 0s - loss: 0.1583 - categorical_accuracy: 0.7725 - val_loss: 0.2311 - val_categorical_accuracy: 0.6580\n",
      "Epoch 163/200\n",
      " - 0s - loss: 0.1570 - categorical_accuracy: 0.7675 - val_loss: 0.2252 - val_categorical_accuracy: 0.6877\n",
      "Epoch 164/200\n",
      " - 0s - loss: 0.1590 - categorical_accuracy: 0.7725 - val_loss: 0.2271 - val_categorical_accuracy: 0.6729\n",
      "Epoch 165/200\n",
      " - 0s - loss: 0.1590 - categorical_accuracy: 0.7850 - val_loss: 0.2276 - val_categorical_accuracy: 0.6691\n",
      "Epoch 166/200\n",
      " - 0s - loss: 0.1557 - categorical_accuracy: 0.7725 - val_loss: 0.2437 - val_categorical_accuracy: 0.5911\n",
      "Epoch 167/200\n",
      " - 0s - loss: 0.1551 - categorical_accuracy: 0.7850 - val_loss: 0.2288 - val_categorical_accuracy: 0.6394\n",
      "Epoch 168/200\n",
      " - 0s - loss: 0.1549 - categorical_accuracy: 0.7825 - val_loss: 0.2319 - val_categorical_accuracy: 0.6543\n",
      "Epoch 169/200\n",
      " - 0s - loss: 0.1547 - categorical_accuracy: 0.7800 - val_loss: 0.2211 - val_categorical_accuracy: 0.6952\n",
      "Epoch 170/200\n",
      " - 0s - loss: 0.1586 - categorical_accuracy: 0.7650 - val_loss: 0.2269 - val_categorical_accuracy: 0.6766\n",
      "Epoch 171/200\n",
      " - 0s - loss: 0.1583 - categorical_accuracy: 0.7550 - val_loss: 0.2377 - val_categorical_accuracy: 0.6022\n",
      "Epoch 172/200\n",
      " - 0s - loss: 0.1560 - categorical_accuracy: 0.7675 - val_loss: 0.2314 - val_categorical_accuracy: 0.6394\n",
      "Epoch 173/200\n",
      " - 0s - loss: 0.1544 - categorical_accuracy: 0.7700 - val_loss: 0.2284 - val_categorical_accuracy: 0.6394\n",
      "Epoch 174/200\n",
      " - 0s - loss: 0.1547 - categorical_accuracy: 0.7775 - val_loss: 0.2265 - val_categorical_accuracy: 0.6617\n",
      "Epoch 175/200\n",
      " - 0s - loss: 0.1528 - categorical_accuracy: 0.7800 - val_loss: 0.2338 - val_categorical_accuracy: 0.6208\n",
      "Epoch 176/200\n",
      " - 0s - loss: 0.1534 - categorical_accuracy: 0.7700 - val_loss: 0.2228 - val_categorical_accuracy: 0.6914\n",
      "Epoch 177/200\n",
      " - 0s - loss: 0.1517 - categorical_accuracy: 0.7850 - val_loss: 0.2296 - val_categorical_accuracy: 0.6320\n",
      "Epoch 178/200\n",
      " - 0s - loss: 0.1515 - categorical_accuracy: 0.7825 - val_loss: 0.2251 - val_categorical_accuracy: 0.6431\n",
      "Epoch 179/200\n",
      " - 0s - loss: 0.1534 - categorical_accuracy: 0.7500 - val_loss: 0.2323 - val_categorical_accuracy: 0.6357\n",
      "Epoch 180/200\n",
      " - 0s - loss: 0.1520 - categorical_accuracy: 0.7675 - val_loss: 0.2198 - val_categorical_accuracy: 0.7026\n",
      "Epoch 181/200\n",
      " - 0s - loss: 0.1517 - categorical_accuracy: 0.7675 - val_loss: 0.2194 - val_categorical_accuracy: 0.6914\n",
      "Epoch 182/200\n",
      " - 0s - loss: 0.1514 - categorical_accuracy: 0.7900 - val_loss: 0.2230 - val_categorical_accuracy: 0.6729\n",
      "Epoch 183/200\n",
      " - 0s - loss: 0.1501 - categorical_accuracy: 0.7900 - val_loss: 0.2298 - val_categorical_accuracy: 0.6506\n",
      "Epoch 184/200\n",
      " - 0s - loss: 0.1493 - categorical_accuracy: 0.7750 - val_loss: 0.2305 - val_categorical_accuracy: 0.6543\n",
      "Epoch 185/200\n",
      " - 0s - loss: 0.1503 - categorical_accuracy: 0.7750 - val_loss: 0.2311 - val_categorical_accuracy: 0.6357\n",
      "Epoch 186/200\n",
      " - 0s - loss: 0.1489 - categorical_accuracy: 0.7825 - val_loss: 0.2280 - val_categorical_accuracy: 0.6543\n",
      "Epoch 187/200\n",
      " - 0s - loss: 0.1497 - categorical_accuracy: 0.7875 - val_loss: 0.2321 - val_categorical_accuracy: 0.6208\n",
      "Epoch 188/200\n",
      " - 0s - loss: 0.1494 - categorical_accuracy: 0.7825 - val_loss: 0.2266 - val_categorical_accuracy: 0.6617\n",
      "Epoch 189/200\n",
      " - 0s - loss: 0.1482 - categorical_accuracy: 0.7825 - val_loss: 0.2160 - val_categorical_accuracy: 0.7175\n",
      "Epoch 190/200\n",
      " - 0s - loss: 0.1514 - categorical_accuracy: 0.7575 - val_loss: 0.2219 - val_categorical_accuracy: 0.6877\n",
      "Epoch 191/200\n",
      " - 0s - loss: 0.1475 - categorical_accuracy: 0.8050 - val_loss: 0.2303 - val_categorical_accuracy: 0.6580\n",
      "Epoch 192/200\n",
      " - 0s - loss: 0.1470 - categorical_accuracy: 0.7850 - val_loss: 0.2226 - val_categorical_accuracy: 0.6729\n",
      "Epoch 193/200\n",
      " - 0s - loss: 0.1486 - categorical_accuracy: 0.7875 - val_loss: 0.2198 - val_categorical_accuracy: 0.6617\n",
      "Epoch 194/200\n",
      " - 0s - loss: 0.1479 - categorical_accuracy: 0.7825 - val_loss: 0.2316 - val_categorical_accuracy: 0.6431\n",
      "Epoch 195/200\n",
      " - 0s - loss: 0.1463 - categorical_accuracy: 0.7850 - val_loss: 0.2242 - val_categorical_accuracy: 0.6654\n",
      "Epoch 196/200\n",
      " - 0s - loss: 0.1474 - categorical_accuracy: 0.7750 - val_loss: 0.2395 - val_categorical_accuracy: 0.6283\n",
      "Epoch 197/200\n",
      " - 0s - loss: 0.1470 - categorical_accuracy: 0.7875 - val_loss: 0.2257 - val_categorical_accuracy: 0.6431\n",
      "Epoch 198/200\n",
      " - 0s - loss: 0.1463 - categorical_accuracy: 0.7750 - val_loss: 0.2231 - val_categorical_accuracy: 0.6691\n",
      "Epoch 199/200\n",
      " - 0s - loss: 0.1455 - categorical_accuracy: 0.7725 - val_loss: 0.2293 - val_categorical_accuracy: 0.6468\n",
      "Epoch 200/200\n",
      " - 0s - loss: 0.1453 - categorical_accuracy: 0.7925 - val_loss: 0.2263 - val_categorical_accuracy: 0.6357\n"
     ]
    }
   ],
   "source": [
    "model = Sequential()\n",
    "model.add(Dense(units=40,activation='relu',input_dim=100))\n",
    "model.add(Dense(units=15,activation='relu'))\n",
    "model.add(Dense(units=5,activation='relu'))\n",
    "model.add(Dense(units=7, activation='sigmoid'))\n",
    "\n",
    "model.compile(loss='binary_crossentropy',optimizer='adam',metrics=['categorical_accuracy'])\n",
    "model.fit(X_train,y_train,validation_data=(X_test,y_test),epochs=200,batch_size=20,verbose=2)\n",
    "y_predict=model.predict(X_test)"
   ]
  },
  {
   "cell_type": "code",
   "execution_count": 36,
   "metadata": {},
   "outputs": [],
   "source": [
    "y_predict=y_predict.argmax(axis=1)"
   ]
  },
  {
   "cell_type": "code",
   "execution_count": 49,
   "metadata": {},
   "outputs": [
    {
     "data": {
      "text/plain": [
       "array([1, 2, 3, 4, 5, 6, 0, 1, 2, 3, 4, 5, 6, 0, 1, 2, 3, 4, 5, 6, 0, 1,\n",
       "       2, 3, 4, 5, 6, 0, 1, 2, 3, 4, 5, 6, 0, 1, 2, 3, 4, 5, 6, 0, 1, 2,\n",
       "       3, 4, 5, 6, 0, 1, 2, 3, 4, 5, 6, 0, 1, 2, 3, 4, 5, 6, 0, 1, 2, 3,\n",
       "       4, 5, 6, 0, 1, 2, 3, 4, 5, 6, 0, 1, 2, 3, 4, 5, 6, 0, 1, 2, 3, 4,\n",
       "       5, 6, 0, 1, 2, 3, 4, 5, 6, 0, 1, 2, 3, 4, 5, 6, 0, 1, 2, 3, 4, 5,\n",
       "       6, 0, 1, 2, 3, 4, 5, 6, 0, 1, 2, 3, 4, 5, 6, 0, 1, 2, 3, 4, 5, 6,\n",
       "       0, 1, 2, 3, 4, 5, 6, 0, 1, 2, 3, 4, 5, 6, 0, 1, 2, 3, 4, 5, 6, 0,\n",
       "       1, 2, 3, 4, 5, 6, 0, 1, 2, 3, 4, 5, 6, 0, 1, 2, 3, 4, 5, 6, 0, 1,\n",
       "       2, 3, 4, 5, 6, 0, 1, 2, 3, 4, 5, 6, 0, 1, 2, 3, 4, 5, 6, 0, 1, 2,\n",
       "       3, 4, 5, 6, 0, 1, 2, 3, 4, 5, 6, 0, 1, 2, 3, 4, 5, 6, 0, 1, 2, 3,\n",
       "       4, 5, 6, 0, 1, 2, 3, 4, 5, 6, 0, 1, 2, 3, 4, 5, 6, 0, 1, 2, 3, 4,\n",
       "       5, 6, 0, 1, 2, 3, 4, 5, 6, 0, 1, 2, 3, 4, 5, 6, 0, 1, 2, 3, 4, 5,\n",
       "       6, 0, 1, 2, 3])"
      ]
     },
     "execution_count": 49,
     "metadata": {},
     "output_type": "execute_result"
    }
   ],
   "source": [
    "y[400:]"
   ]
  },
  {
   "cell_type": "code",
   "execution_count": 50,
   "metadata": {},
   "outputs": [
    {
     "data": {
      "text/plain": [
       "171"
      ]
     },
     "execution_count": 50,
     "metadata": {},
     "output_type": "execute_result"
    }
   ],
   "source": [
    "a=sum(y_predict==y[400:])\n",
    "a"
   ]
  },
  {
   "cell_type": "code",
   "execution_count": 51,
   "metadata": {},
   "outputs": [
    {
     "data": {
      "text/plain": [
       "0.6356877323420075"
      ]
     },
     "execution_count": 51,
     "metadata": {},
     "output_type": "execute_result"
    }
   ],
   "source": [
    "#Test accuracy\n",
    "1.0*a/len(y_predict)"
   ]
  }
 ],
 "metadata": {
  "kernelspec": {
   "display_name": "Python 3",
   "language": "python",
   "name": "python3"
  },
  "language_info": {
   "codemirror_mode": {
    "name": "ipython",
    "version": 3
   },
   "file_extension": ".py",
   "mimetype": "text/x-python",
   "name": "python",
   "nbconvert_exporter": "python",
   "pygments_lexer": "ipython3",
   "version": "3.7.4"
  }
 },
 "nbformat": 4,
 "nbformat_minor": 4
}
